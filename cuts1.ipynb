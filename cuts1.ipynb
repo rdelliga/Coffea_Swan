{
 "cells": [
  {
   "cell_type": "code",
   "execution_count": 1,
   "id": "9ef76dc5",
   "metadata": {},
   "outputs": [],
   "source": [
    "import uproot\n",
    "import awkward as ak #The events object is an awkward array\n",
    "## Plotting.\n",
    "import matplotlib.pyplot as plt\n",
    "\n",
    "# Hists\n",
    "import hist\n",
    "from hist import Hist\n",
    "\n",
    "# NanoEvents\n",
    "from coffea.nanoevents import NanoEventsFactory, NanoAODSchema\n",
    "\n",
    "# Processors (for paralelization)\n",
    "#import coffea.processor as processor\n",
    "from coffea import processor\n",
    "\n",
    "#Math\n",
    "import math\n",
    "\n",
    "#Numpy\n",
    "import numpy as np\n",
    "\n",
    "#PackedSelection to select events\n",
    "from coffea.analysis_tools import PackedSelection\n",
    "\n",
    "#Clock to count time\n",
    "import time"
   ]
  },
  {
   "cell_type": "code",
   "execution_count": 2,
   "id": "4d26f223",
   "metadata": {},
   "outputs": [],
   "source": [
    "# The processor class bundles our data analysis together while giving us some helpful tools.  It also leaves looping and chunks to the framework instead of us.\n",
    "class MyProcessor(processor.ProcessorABC):\n",
    "    def __init__(self):\n",
    "        pass\n",
    "    \n",
    "    def process(self, old_events):\n",
    "        #Implement the selections to veto events\n",
    "        selection = PackedSelection()\n",
    "        #At least one lepton \n",
    "        selection.add(\"one_l\", (ak.num(old_events.Electron)+ak.num(old_events.Muon))>=1)\n",
    "        #Electron signal region\n",
    "        selection.add(\"fst_tight_e\", ak.mask(old_events.Electron, ak.num(old_events.Electron) >= 1)[:, 0].mvaFall17V2Iso_WP90 == True)\n",
    "        selection.add(\n",
    "            \"electron_pt\",\n",
    "            ak.any(old_events.Electron.pt > 35.0, axis=1)  \n",
    "        )\n",
    "        selection.add(\n",
    "            \"e_range_eta\",\n",
    "            ak.any(abs (old_events.Electron.eta) < 2.5, axis=1)\n",
    "        )\n",
    "        #The following two cuts work in inverse logic, when you require the selection later you must take false\n",
    "        selection.add(\"snd_tight_e\", ak.mask(old_events.Electron, ak.num(old_events.Electron) > 1)[:, 1].mvaFall17V2Iso_WP90 == True)\n",
    "        selection.add(\"loose_e\", (ak.mask(old_events.Electron, ak.num(old_events.Electron) > 1)[:, 1].mvaFall17V2Iso_WPL == True) & (ak.mask(old_events.Electron, ak.num(old_events.Electron) > 1)[:, 1].pt >10))\n",
    "        #Muon signal region (boosted)\n",
    "        selection.add(\"one_tight_mu\", ak.mask(old_events.Muon, ak.num(old_events.Muon) >= 1)[:, 0].tightId == (3>2))\n",
    "        selection.add(\"no_2nd_tight_mu\", ak.mask(old_events.Muon, ak.num(old_events.Muon) > 1)[:, 1].tightId == (3==2))\n",
    "        #The following three cuts work in inverse logic, when you require the selection later you must take false\n",
    "        selection.add(\"any_tight_e\", ak.any(old_events.Electron.mvaFall17V2Iso_WP90 == (3>2), axis=1))\n",
    "        selection.add(\n",
    "            \"muon_Pt\",\n",
    "            ak.any(old_events.Muon.pt >= 30.0, axis=1)\n",
    "        )\n",
    "        selection.add(\n",
    "            \"mu_range_eta\",\n",
    "            ak.any(abs (old_events.Muon.eta) < 2.4, axis=1)\n",
    "        )\n",
    "        selection.add(\"loose_mu\", (ak.mask(old_events.Muon, ak.num(old_events.Muon) > 1)[:, 1].looseId == (3>2)) & (ak.mask(old_events.Muon, ak.num(old_events.Muon) > 1)[:, 1].pt >10))\n",
    "        selection.add(\"loose_e1\", (ak.mask(old_events.Electron, ak.num(old_events.Electron) > 1)[:, 0].mvaFall17V2Iso_WPL == (3>2)) & (ak.mask(old_events.Electron, ak.num(old_events.Electron) > 1)[:, 0].pt >10))\n",
    "        selection.add(\"loose_e2\", (ak.mask(old_events.Electron, ak.num(old_events.Electron) > 1)[:, 1].mvaFall17V2Iso_WPL == (3>2)) & (ak.mask(old_events.Electron, ak.num(old_events.Electron) > 1)[:, 1].pt >10))\n",
    "        #Puppy met cut\n",
    "        selection.add(\"lead_pMET\", old_events.PuppiMET.pt>30)\n",
    "        #b Veto\n",
    "        selection.add(\"b_veto\", ak.all(old_events.Jet.btagDeepB<=0.84, axis=1))\n",
    "        #selection.add(\"b_veto\", ak.all(old_events.Jet.btagCSVV2<=0.81, axis=1))\n",
    "        #VBS jets (looking for the max invariant mass pair)\n",
    "        # Get all combinations of jet pairs in every event\n",
    "        dijets_o = ak.combinations(old_events.Jet, 2, fields=['i0', 'i1'])\n",
    "        # Check that jet pairs have the greatest mass\n",
    "        ismax_o=(dijets_o['i0']+dijets_o['i1']).mass==ak.max((dijets_o['i0']+dijets_o['i1']).mass, axis=1)\n",
    "        #previous line: returns a Boolean array with True where the condition is met, and false otherwise\n",
    "        # Mask the dijets with the ismax to get dijets with the gratest mass\n",
    "        VBS_jets_o = dijets_o[ismax_o]\n",
    "        # Separate pairs into arrays of the leading and the trailing VBS jets in each pair.\n",
    "        VBS_ljet_o, VBS_tjet_o = ak.unzip(VBS_jets_o)\n",
    "        #VBS selection\n",
    "        selection.add(\n",
    "            \"lead_VBS_ljet\",   \n",
    "            ak.all(VBS_ljet_o.pt>50, axis=1)\n",
    "        )\n",
    "        selection.add(\n",
    "            \"lead_VBS_tjet\",   \n",
    "            ak.all(VBS_tjet_o.pt>30, axis=1)\n",
    "        )\n",
    "        selection.add(\n",
    "            \"lead_VBS_mass\",   \n",
    "            ak.all((VBS_ljet_o+VBS_tjet_o).mass>500, axis=1)\n",
    "        )\n",
    "        selection.add(\n",
    "            \"lead_VBS_eta\",   \n",
    "            ak.all(abs(VBS_ljet_o.eta-VBS_tjet_o.eta)>2.5, axis=1)\n",
    "        )\n",
    "        selection.add(\"one_fatjet\", (ak.num(old_events.FatJet) == 1))\n",
    "        selection.add(\"two_jet\", (ak.num(old_events.Jet) >= 2))\n",
    "        #Transverse mass of the W boson decaying leptonically\n",
    "        #With electrons\n",
    "        selection.add(\n",
    "            \"W_Tmass_e\",\n",
    "            ak.all(2*old_events.Electron.pt*old_events.MET.pt*(1-np.cos(old_events.Electron.phi-old_events.MET.phi))<185**2, axis=1)\n",
    "        )\n",
    "        #With muons\n",
    "        selection.add(\n",
    "            \"W_Tmass_mu\",\n",
    "            ak.all(2*old_events.Muon.pt*old_events.MET.pt*(1-np.cos(old_events.Muon.phi-old_events.MET.phi))<185**2, axis=1)\n",
    "        )\n",
    "        #Invariant mass of the W boson decaying hadronically, use softdropmass\n",
    "        selection.add(\n",
    "            \"W_mass_fatjet\",\n",
    "            ak.all((old_events.FatJet.msoftdrop>70) & (old_events.FatJet.msoftdrop<115), axis=1)\n",
    "        )\n",
    "        #Electron mask\n",
    "        #one_l=True, fst_tight_e=True, snd_tight_e=False, loose_e=False, electron_pt=True, e_range_eta=True, lead_pMET=True, b_veto=True, lead_VBS_ljet=True, lead_VBS_tjet=True, lead_VBS_mass=True, lead_VBS_eta=True, one_fatjet=True, two_jet=True, W_Tmass_e=True, W_mass_fatjet=True\n",
    "        ev_mask_e = selection.require(one_l=True, fst_tight_e=True, snd_tight_e=False, loose_e=False, electron_pt=True, e_range_eta=True, lead_pMET=True, b_veto=True, lead_VBS_ljet=True, lead_VBS_tjet=True, lead_VBS_mass=True, lead_VBS_eta=True, two_jet=True, one_fatjet=True, W_mass_fatjet=True)\n",
    "        #Muon mask\n",
    "        ev_mask_mu = selection.require(one_l=True, one_tight_mu=True, no_2nd_tight_mu=True, loose_mu=False, loose_e1=False, loose_e2=False, any_tight_e=False, muon_Pt=True, mu_range_eta=True, lead_pMET=True, b_veto=True, lead_VBS_ljet=True, lead_VBS_tjet=True, lead_VBS_mass=True, lead_VBS_eta=True, one_fatjet=True, two_jet=True, W_Tmass_mu=True, W_mass_fatjet=True)\n",
    "        #Apply the cuts on the events with the mask (chose either electron or muon signal region)\n",
    "        events=old_events[ev_mask_e]\n",
    "        \n",
    "        # This is where we do our actual analysis. The dataset has columns similar to the TTree's; events.columns can tell you them, or events.[object].columns for deeper depth.\n",
    "        dataset = events.metadata['dataset']\n",
    "        #Define the fiducial region\n",
    "        #Electron, muon , jets, fatjets\n",
    "        jets=events.Jet\n",
    "        fatjets = events.FatJet\n",
    "        #Jets isolation from electrons\n",
    "        # Get all combinations of jets and electrons in every event\n",
    "        jets_e = ak.cartesian({\"x\": jets, \"y\": events.Electron})\n",
    "        # Check that jets satisfy the isolation\n",
    "        jets_iso_e = ((jets_e[\"x\"].eta-jets_e[\"y\"].eta)**2+(jets_e[\"x\"].phi-jets_e[\"y\"].phi)**2>0.4**2)\n",
    "        # Mask the jets_e with the jets_iso to get jets isolated from electrons\n",
    "        jets_e = jets_e[jets_iso_e]\n",
    "        # Separate pairs into jets and electons, redefining the jets (but not the electrons)\n",
    "        jets, el = ak.unzip(jets_e)\n",
    "        #FatJets isolation from electrons\n",
    "        # Get all combinations of fatjets and electrons in every event\n",
    "        fatjets_e = ak.cartesian({\"x\": fatjets, \"y\": events.Electron})\n",
    "        # Check that jets satisfy the isolation\n",
    "        fatjets_iso_e = ((fatjets_e[\"x\"].eta-fatjets_e[\"y\"].eta)**2+(fatjets_e[\"x\"].phi-fatjets_e[\"y\"].phi)**2>0.8**2)\n",
    "        # Mask the fatjets_e with the fatjets_iso to get fatjets isolated from electrons\n",
    "        fatjets_e = fatjets_e[fatjets_iso_e]\n",
    "        # Separate pairs into fatjets and electons, redefining the fatjets (but not the electrons)\n",
    "        fatjets, el = ak.unzip(fatjets_e)\n",
    "        #Jets isolation from muons\n",
    "        # Get all combinations of jets and muons in every event\n",
    "        #jets_mu = ak.cartesian({\"x\": jets, \"y\": events.Muon})\n",
    "        # Check that jets satisfy the isolation\n",
    "        #jets_iso_mu = ((jets_mu[\"x\"].eta-jets_mu[\"y\"].eta)**2+(jets_mu[\"x\"].phi-jets_mu[\"y\"].phi)**2>0.4**2)\n",
    "        # Mask the jets_mu with the jets_iso_mu to get jets isolated from muons\n",
    "        #jets_mu = jets_mu[jets_iso_mu]\n",
    "        # Separate pairs into jets and muons, redefining the jets (but not the muons)\n",
    "        #jets, mu = ak.unzip(jets_mu)\n",
    "        #FatJets isolation from muons\n",
    "        # Get all combinations of fatjets and muons in every event\n",
    "        #fatjets_mu = ak.cartesian({\"x\": fatjets, \"y\": events.Muon})\n",
    "        # Check that fatjets satisfy the isolation\n",
    "        #fatjets_iso_mu = ((fatjets_mu[\"x\"].eta-fatjets_mu[\"y\"].eta)**2+(fatjets_mu[\"x\"].phi-fatjets_mu[\"y\"].phi)**2>0.8**2)\n",
    "        # Mask the fatjets_mu with the fatjets_iso_mu to get fatjets isolated from muons\n",
    "        #fatjets_mu = fatjets_mu[fatjets_iso_mu]\n",
    "        # Separate pairs into jets and muons, redefining the jets (but not the muons)\n",
    "        #fatjets, mu = ak.unzip(fatjets_mu)\n",
    "        #Jets cuts\n",
    "        jets_eta_cut = (abs (jets.eta) < 4.7)\n",
    "        jets_pt_cut = (jets.pt > 30)\n",
    "        jets = jets[jets_pt_cut&jets_eta_cut]\n",
    "        #FatJets cuts\n",
    "        fatjets_eta_cut = (abs (fatjets.eta) < 2.4)\n",
    "        fatjets_pt_cut = (fatjets.pt > 200)\n",
    "        fatjets = fatjets[fatjets_pt_cut&fatjets_eta_cut]\n",
    "        #Removing AK4(Jet) jets overlapping with AK8(FatJets) jets\n",
    "        # Get all combinations of jets and fatjets in every event\n",
    "        jets_fatjets = ak.cartesian({\"x\": jets, \"y\": fatjets})\n",
    "        # Check that jets satisfy the isolation\n",
    "        jets_iso_f = ((jets_fatjets[\"x\"].eta-jets_fatjets[\"y\"].eta)**2+(jets_fatjets[\"x\"].phi-jets_fatjets[\"y\"].phi)**2>0.8**2)\n",
    "        # Mask the jets_fatjets with the jets_iso_f to get jets isolated from fatjets\n",
    "        jets_fatjets = jets_fatjets[jets_iso_f]\n",
    "        # Separate pairs into jets and electons, redefining the jets (but not the fatjets)\n",
    "        jets, fj = ak.unzip(jets_fatjets)\n",
    "        #VBS jets (looking for the max invariant mass pair)\n",
    "        # Get all combinations of jet pairs in every event\n",
    "        VBSjets = ak.combinations(events.Jet, 2, fields=['i0', 'i1'])\n",
    "        # Mask the dijets with the ismax to get dijets with the gratest mass\n",
    "        VBS_jets = VBSjets[(VBSjets['i0']+VBSjets['i1']).mass==ak.max((VBSjets['i0']+VBSjets['i1']).mass, axis=1)]\n",
    "        # Separate pairs into arrays of the leading and the trailing VBS jets in each pair.\n",
    "        VBS_jet_lead, VBS_jet_trail = ak.unzip(VBS_jets)\n",
    "        \n",
    "        #Get the variables of N-subjectiness\n",
    "        tau_1=fatjets.tau1\n",
    "        tau_2=fatjets.tau2\n",
    "        #Take the tau2 to tau1 ratio\n",
    "        tau_r=tau_2/tau_1\n",
    "        #Get the variables of particleNet and deepTag\n",
    "        pNet=fatjets.particleNet_WvsQCD\n",
    "        dTag=fatjets.deepTag_WvsQCD\n",
    "        \n",
    "        # Bins and categories for the histogram\n",
    "        h_MET = hist.Hist(hist.axis.StrCategory(name='channel', categories=['MET']), \n",
    "                      hist.axis.Regular(name='x', label='$E_{T}^{miss}$ [GeV]', bins=12, start=30, stop=400))\n",
    "        h_e_pT = hist.Hist(hist.axis.StrCategory(name='channel', categories=['e_pT']), \n",
    "                      hist.axis.Regular(name='x', label='$p_{T}^{e}$ [GeV]', bins=8, start=35, stop=150))\n",
    "        h_fatjet = hist.Hist(hist.axis.StrCategory(name='channel', categories=['fatjet']), \n",
    "                      hist.axis.Regular(name='x', label='$p_{T}^{e}$ [GeV]', bins=20, start=30, stop=150))\n",
    "        h_jets_mass = hist.Hist(hist.axis.StrCategory(name='channel', categories=['jets_mass']), \n",
    "                      hist.axis.Regular(name='x', label='$m_{jj}$ [GeV]', bins=12, start=0, stop=3000))\n",
    "        h_jets_eta = hist.Hist(hist.axis.StrCategory(name='channel', categories=['jets_eta']), \n",
    "                      hist.axis.Regular(name='x', label='$\\eta_{jj}$', bins=12, start=2.5, stop=8))\n",
    "        h_jets_lead = hist.Hist(hist.axis.StrCategory(name='channel', categories=['jets_lead']), \n",
    "                      hist.axis.Regular(name='x', label='$p_{T}^{j}$ [Gev]', bins=14, start=0, stop=500))\n",
    "        h_jets_trail = hist.Hist(hist.axis.StrCategory(name='channel', categories=['jets_trail']), \n",
    "                      hist.axis.Regular(name='x', label='$p_{T}^{j}$ [Gev]', bins=14, start=0, stop=200))\n",
    "        h_Nsubj = hist.Hist(hist.axis.StrCategory(name='channel', categories=['$t_{1}$', '$t_{2}$']), \n",
    "                      hist.axis.Regular(name='x', label='tau', bins=40, start= 0, stop=1))\n",
    "        h_t_ratio = hist.Hist(hist.axis.StrCategory(name='channel', categories=['t_ratio']), \n",
    "                      hist.axis.Regular(name='x', label='tau_r', bins=40, start= 0, stop=1))\n",
    "        h_pNet = hist.Hist(hist.axis.StrCategory(name='channel', categories=['pNet']), \n",
    "                      hist.axis.Regular(name='x', label='WvsQCD', bins=40, start= 0, stop=1))\n",
    "\n",
    "        \n",
    "             \n",
    "        # This fills our histogram once our data is collected.\n",
    "        h_MET.fill(channel='MET', x=events.MET.pt)\n",
    "        h_e_pT.fill(channel='e_pT', x=events.Electron[:,0].pt)\n",
    "        h_fatjet.fill(channel='fatjet', x=ak.flatten(fatjets.mass))\n",
    "        #previous line: you have to flatten the awkward array because its size is ambiguous due to variable-length arrays\n",
    "        h_jets_mass.fill(channel='jets_mass', x=ak.flatten((VBS_jet_lead+VBS_jet_trail).mass))\n",
    "        h_jets_eta.fill(channel='jets_eta', x=ak.flatten(abs(VBS_jet_lead.eta-VBS_jet_trail.eta)))\n",
    "        h_jets_lead.fill(channel='jets_lead', x=ak.flatten(VBS_jet_lead.pt))\n",
    "        h_jets_trail.fill(channel='jets_trail', x=ak.flatten(VBS_jet_trail.pt))\n",
    "        h_Nsubj.fill(channel='$t_{1}$', x=ak.flatten(tau_1))\n",
    "        h_Nsubj.fill(channel='$t_{2}$', x=ak.flatten(tau_2))\n",
    "        h_t_ratio.fill(channel='t_ratio', x=ak.flatten(tau_r))\n",
    "        h_pNet.fill(channel='pNet', x=ak.flatten(pNet))\n",
    "        \n",
    "        return {\n",
    "            dataset: {\n",
    "                \"entries\": len(events),\n",
    "                \"MET\": h_MET,\n",
    "                \"e_pT\": h_e_pT,\n",
    "                \"fatjet\": h_fatjet,\n",
    "                \"jets_mass\": h_jets_mass,\n",
    "                \"jets_eta\": h_jets_eta,\n",
    "                \"jets_lead\": h_jets_lead,\n",
    "                \"jets_trail\": h_jets_trail,\n",
    "                \"Nsubj\": h_Nsubj,\n",
    "                \"t_ratio\": h_t_ratio,\n",
    "                \"pNet\": h_pNet\n",
    "            }\n",
    "        }\n",
    "    \n",
    "    def postprocess(self, accumulator):\n",
    "        #This is where we can make post-analysis adjustments, such as handle weights, rebinning or scaling our histograms.\n",
    "        pass"
   ]
  },
  {
   "cell_type": "code",
   "execution_count": null,
   "id": "51c8c86f",
   "metadata": {},
   "outputs": [],
   "source": [
    "#lists the datasets and corresponding files\n",
    "base_100To200 = '/eos/cms/store/mc/RunIISummer20UL18NanoAODv9/WJetsToLNu_HT-100To200_TuneCP5_13TeV-madgraphMLM-pythia8/NANOAODSIM/106X_upgrade2018_realistic_v16_L1v1-v1/'\n",
    "\n",
    "fileset = {\n",
    "    'bkg_WJets_100To200': [\n",
    "        base +'30000/*.root',\n",
    "        base + ebf\n",
    "    ],\n",
    "    'sig_WWjj4f': [\n",
    "        'com_SM_final.root'\n",
    "    ]\n",
    "}"
   ]
  },
  {
   "cell_type": "code",
   "execution_count": 3,
   "id": "91faa784",
   "metadata": {},
   "outputs": [
    {
     "data": {
      "application/vnd.jupyter.widget-view+json": {
       "model_id": "cb26b129f5f34f26a88acf81af28798d",
       "version_major": 2,
       "version_minor": 0
      },
      "text/plain": [
       "Preprocessing:   0%|          | 0/548 [00:00<?, ?file/s]"
      ]
     },
     "metadata": {},
     "output_type": "display_data"
    },
    {
     "data": {
      "application/vnd.jupyter.widget-view+json": {
       "model_id": "40e346cab4f348d9b234fb39d58f018d",
       "version_major": 2,
       "version_minor": 0
      },
      "text/plain": [
       "Processing:   0%|          | 0/2422 [00:00<?, ?chunk/s]"
      ]
     },
     "metadata": {},
     "output_type": "display_data"
    },
    {
     "name": "stdout",
     "output_type": "stream",
     "text": [
      "5808.533401250839\n",
      "{'bkg_WJets_2500ToInf': {'Nsubj': Hist(\n",
      "  StrCategory(['$t_{1}$', '$t_{2}$'], name='channel'),\n",
      "  Regular(40, 0, 1, name='x', label='tau'),\n",
      "  storage=Double()) # Sum: 6.0, 'pNet': Hist(\n",
      "  StrCategory(['pNet'], name='channel'),\n",
      "  Regular(40, 0, 1, name='x', label='WvsQCD'),\n",
      "  storage=Double()) # Sum: 3.0, 'entries': 2, 'fatjet': Hist(\n",
      "  StrCategory(['fatjet'], name='channel'),\n",
      "  Regular(20, 30, 150, name='x', label='$p_{T}^{e}$ [GeV]'),\n",
      "  storage=Double()) # Sum: 2.0 (3.0 with flow), 't_ratio': Hist(\n",
      "  StrCategory(['t_ratio'], name='channel'),\n",
      "  Regular(40, 0, 1, name='x', label='tau_r'),\n",
      "  storage=Double()) # Sum: 3.0, 'jets_eta': Hist(\n",
      "  StrCategory(['jets_eta'], name='channel'),\n",
      "  Regular(12, 2.5, 8, name='x', label='$\\\\eta_{jj}$'),\n",
      "  storage=Double()) # Sum: 2.0, 'jets_trail': Hist(\n",
      "  StrCategory(['jets_trail'], name='channel'),\n",
      "  Regular(14, 0, 200, name='x', label='$p_{T}^{j}$ [Gev]'),\n",
      "  storage=Double()) # Sum: 2.0, 'jets_mass': Hist(\n",
      "  StrCategory(['jets_mass'], name='channel'),\n",
      "  Regular(12, 0, 3000, name='x', label='$m_{jj}$ [GeV]'),\n",
      "  storage=Double()) # Sum: 2.0, 'jets_lead': Hist(\n",
      "  StrCategory(['jets_lead'], name='channel'),\n",
      "  Regular(14, 0, 500, name='x', label='$p_{T}^{j}$ [Gev]'),\n",
      "  storage=Double()) # Sum: 0.0 (2.0 with flow), 'MET': Hist(\n",
      "  StrCategory(['MET'], name='channel'),\n",
      "  Regular(12, 30, 400, name='x', label='$E_{T}^{miss}$ [GeV]'),\n",
      "  storage=Double()) # Sum: 0.0 (2.0 with flow), 'e_pT': Hist(\n",
      "  StrCategory(['e_pT'], name='channel'),\n",
      "  Regular(8, 35, 150, name='x', label='$p_{T}^{e}$ [GeV]'),\n",
      "  storage=Double()) # Sum: 2.0}, 'bkg_WJets_1200To2500': {'entries': 91, 'MET': Hist(\n",
      "  StrCategory(['MET'], name='channel'),\n",
      "  Regular(12, 30, 400, name='x', label='$E_{T}^{miss}$ [GeV]'),\n",
      "  storage=Double()) # Sum: 0.0 (91.0 with flow), 'e_pT': Hist(\n",
      "  StrCategory(['e_pT'], name='channel'),\n",
      "  Regular(8, 35, 150, name='x', label='$p_{T}^{e}$ [GeV]'),\n",
      "  storage=Double()) # Sum: 90.0 (91.0 with flow), 'fatjet': Hist(\n",
      "  StrCategory(['fatjet'], name='channel'),\n",
      "  Regular(20, 30, 150, name='x', label='$p_{T}^{e}$ [GeV]'),\n",
      "  storage=Double()) # Sum: 91.0 (129.0 with flow), 'jets_mass': Hist(\n",
      "  StrCategory(['jets_mass'], name='channel'),\n",
      "  Regular(12, 0, 3000, name='x', label='$m_{jj}$ [GeV]'),\n",
      "  storage=Double()) # Sum: 89.0 (91.0 with flow), 'jets_eta': Hist(\n",
      "  StrCategory(['jets_eta'], name='channel'),\n",
      "  Regular(12, 2.5, 8, name='x', label='$\\\\eta_{jj}$'),\n",
      "  storage=Double()) # Sum: 91.0, 'jets_lead': Hist(\n",
      "  StrCategory(['jets_lead'], name='channel'),\n",
      "  Regular(14, 0, 500, name='x', label='$p_{T}^{j}$ [Gev]'),\n",
      "  storage=Double()) # Sum: 1.0 (91.0 with flow), 'jets_trail': Hist(\n",
      "  StrCategory(['jets_trail'], name='channel'),\n",
      "  Regular(14, 0, 200, name='x', label='$p_{T}^{j}$ [Gev]'),\n",
      "  storage=Double()) # Sum: 89.0 (91.0 with flow), 'Nsubj': Hist(\n",
      "  StrCategory(['$t_{1}$', '$t_{2}$'], name='channel'),\n",
      "  Regular(40, 0, 1, name='x', label='tau'),\n",
      "  storage=Double()) # Sum: 258.0, 't_ratio': Hist(\n",
      "  StrCategory(['t_ratio'], name='channel'),\n",
      "  Regular(40, 0, 1, name='x', label='tau_r'),\n",
      "  storage=Double()) # Sum: 129.0, 'pNet': Hist(\n",
      "  StrCategory(['pNet'], name='channel'),\n",
      "  Regular(40, 0, 1, name='x', label='WvsQCD'),\n",
      "  storage=Double()) # Sum: 129.0}, 'bkg_WJets_800To1200': {'entries': 752, 'MET': Hist(\n",
      "  StrCategory(['MET'], name='channel'),\n",
      "  Regular(12, 30, 400, name='x', label='$E_{T}^{miss}$ [GeV]'),\n",
      "  storage=Double()) # Sum: 363.0 (752.0 with flow), 'e_pT': Hist(\n",
      "  StrCategory(['e_pT'], name='channel'),\n",
      "  Regular(8, 35, 150, name='x', label='$p_{T}^{e}$ [GeV]'),\n",
      "  storage=Double()) # Sum: 745.0 (752.0 with flow), 'fatjet': Hist(\n",
      "  StrCategory(['fatjet'], name='channel'),\n",
      "  Regular(20, 30, 150, name='x', label='$p_{T}^{e}$ [GeV]'),\n",
      "  storage=Double()) # Sum: 1115.0 (1173.0 with flow), 'jets_mass': Hist(\n",
      "  StrCategory(['jets_mass'], name='channel'),\n",
      "  Regular(12, 0, 3000, name='x', label='$m_{jj}$ [GeV]'),\n",
      "  storage=Double()) # Sum: 738.0 (752.0 with flow), 'jets_eta': Hist(\n",
      "  StrCategory(['jets_eta'], name='channel'),\n",
      "  Regular(12, 2.5, 8, name='x', label='$\\\\eta_{jj}$'),\n",
      "  storage=Double()) # Sum: 752.0, 'jets_lead': Hist(\n",
      "  StrCategory(['jets_lead'], name='channel'),\n",
      "  Regular(14, 0, 500, name='x', label='$p_{T}^{j}$ [Gev]'),\n",
      "  storage=Double()) # Sum: 340.0 (752.0 with flow), 'jets_trail': Hist(\n",
      "  StrCategory(['jets_trail'], name='channel'),\n",
      "  Regular(14, 0, 200, name='x', label='$p_{T}^{j}$ [Gev]'),\n",
      "  storage=Double()) # Sum: 746.0 (752.0 with flow), 'Nsubj': Hist(\n",
      "  StrCategory(['$t_{1}$', '$t_{2}$'], name='channel'),\n",
      "  Regular(40, 0, 1, name='x', label='tau'),\n",
      "  storage=Double()) # Sum: 2346.0, 't_ratio': Hist(\n",
      "  StrCategory(['t_ratio'], name='channel'),\n",
      "  Regular(40, 0, 1, name='x', label='tau_r'),\n",
      "  storage=Double()) # Sum: 1173.0, 'pNet': Hist(\n",
      "  StrCategory(['pNet'], name='channel'),\n",
      "  Regular(40, 0, 1, name='x', label='WvsQCD'),\n",
      "  storage=Double()) # Sum: 1173.0}, 'bkg_WJets_600To800': {'entries': 5469, 'MET': Hist(\n",
      "  StrCategory(['MET'], name='channel'),\n",
      "  Regular(12, 30, 400, name='x', label='$E_{T}^{miss}$ [GeV]'),\n",
      "  storage=Double()) # Sum: 4578.0 (5469.0 with flow), 'e_pT': Hist(\n",
      "  StrCategory(['e_pT'], name='channel'),\n",
      "  Regular(8, 35, 150, name='x', label='$p_{T}^{e}$ [GeV]'),\n",
      "  storage=Double()) # Sum: 5418.0 (5469.0 with flow), 'fatjet': Hist(\n",
      "  StrCategory(['fatjet'], name='channel'),\n",
      "  Regular(20, 30, 150, name='x', label='$p_{T}^{e}$ [GeV]'),\n",
      "  storage=Double()) # Sum: 7698.0 (7733.0 with flow), 'jets_mass': Hist(\n",
      "  StrCategory(['jets_mass'], name='channel'),\n",
      "  Regular(12, 0, 3000, name='x', label='$m_{jj}$ [GeV]'),\n",
      "  storage=Double()) # Sum: 5436.0 (5469.0 with flow), 'jets_eta': Hist(\n",
      "  StrCategory(['jets_eta'], name='channel'),\n",
      "  Regular(12, 2.5, 8, name='x', label='$\\\\eta_{jj}$'),\n",
      "  storage=Double()) # Sum: 5468.0 (5469.0 with flow), 'jets_lead': Hist(\n",
      "  StrCategory(['jets_lead'], name='channel'),\n",
      "  Regular(14, 0, 500, name='x', label='$p_{T}^{j}$ [Gev]'),\n",
      "  storage=Double()) # Sum: 5023.0 (5469.0 with flow), 'jets_trail': Hist(\n",
      "  StrCategory(['jets_trail'], name='channel'),\n",
      "  Regular(14, 0, 200, name='x', label='$p_{T}^{j}$ [Gev]'),\n",
      "  storage=Double()) # Sum: 5455.0 (5469.0 with flow), 'Nsubj': Hist(\n",
      "  StrCategory(['$t_{1}$', '$t_{2}$'], name='channel'),\n",
      "  Regular(40, 0, 1, name='x', label='tau'),\n",
      "  storage=Double()) # Sum: 15466.0, 't_ratio': Hist(\n",
      "  StrCategory(['t_ratio'], name='channel'),\n",
      "  Regular(40, 0, 1, name='x', label='tau_r'),\n",
      "  storage=Double()) # Sum: 7733.0, 'pNet': Hist(\n",
      "  StrCategory(['pNet'], name='channel'),\n",
      "  Regular(40, 0, 1, name='x', label='WvsQCD'),\n",
      "  storage=Double()) # Sum: 7733.0}, 'bkg_WJets_400To600': {'entries': 10826, 'MET': Hist(\n",
      "  StrCategory(['MET'], name='channel'),\n",
      "  Regular(12, 30, 400, name='x', label='$E_{T}^{miss}$ [GeV]'),\n",
      "  storage=Double()) # Sum: 9924.0 (10826.0 with flow), 'e_pT': Hist(\n",
      "  StrCategory(['e_pT'], name='channel'),\n",
      "  Regular(8, 35, 150, name='x', label='$p_{T}^{e}$ [GeV]'),\n",
      "  storage=Double()) # Sum: 10669.0 (10826.0 with flow), 'fatjet': Hist(\n",
      "  StrCategory(['fatjet'], name='channel'),\n",
      "  Regular(20, 30, 150, name='x', label='$p_{T}^{e}$ [GeV]'),\n",
      "  storage=Double()) # Sum: 13241.0 (13243.0 with flow), 'jets_mass': Hist(\n",
      "  StrCategory(['jets_mass'], name='channel'),\n",
      "  Regular(12, 0, 3000, name='x', label='$m_{jj}$ [GeV]'),\n",
      "  storage=Double()) # Sum: 10789.0 (10826.0 with flow), 'jets_eta': Hist(\n",
      "  StrCategory(['jets_eta'], name='channel'),\n",
      "  Regular(12, 2.5, 8, name='x', label='$\\\\eta_{jj}$'),\n",
      "  storage=Double()) # Sum: 10818.0 (10826.0 with flow), 'jets_lead': Hist(\n",
      "  StrCategory(['jets_lead'], name='channel'),\n",
      "  Regular(14, 0, 500, name='x', label='$p_{T}^{j}$ [Gev]'),\n",
      "  storage=Double()) # Sum: 10815.0 (10826.0 with flow), 'jets_trail': Hist(\n",
      "  StrCategory(['jets_trail'], name='channel'),\n",
      "  Regular(14, 0, 200, name='x', label='$p_{T}^{j}$ [Gev]'),\n",
      "  storage=Double()) # Sum: 10823.0 (10826.0 with flow), 'Nsubj': Hist(\n",
      "  StrCategory(['$t_{1}$', '$t_{2}$'], name='channel'),\n",
      "  Regular(40, 0, 1, name='x', label='tau'),\n",
      "  storage=Double()) # Sum: 26486.0, 't_ratio': Hist(\n",
      "  StrCategory(['t_ratio'], name='channel'),\n",
      "  Regular(40, 0, 1, name='x', label='tau_r'),\n",
      "  storage=Double()) # Sum: 13243.0, 'pNet': Hist(\n",
      "  StrCategory(['pNet'], name='channel'),\n",
      "  Regular(40, 0, 1, name='x', label='WvsQCD'),\n",
      "  storage=Double()) # Sum: 13243.0}, 'bkg_WJets_200To400': {'entries': 12936, 'MET': Hist(\n",
      "  StrCategory(['MET'], name='channel'),\n",
      "  Regular(12, 30, 400, name='x', label='$E_{T}^{miss}$ [GeV]'),\n",
      "  storage=Double()) # Sum: 11874.0 (12936.0 with flow), 'e_pT': Hist(\n",
      "  StrCategory(['e_pT'], name='channel'),\n",
      "  Regular(8, 35, 150, name='x', label='$p_{T}^{e}$ [GeV]'),\n",
      "  storage=Double()) # Sum: 12678.0 (12936.0 with flow), 'fatjet': Hist(\n",
      "  StrCategory(['fatjet'], name='channel'),\n",
      "  Regular(20, 30, 150, name='x', label='$p_{T}^{e}$ [GeV]'),\n",
      "  storage=Double()) # Sum: 12514.0, 'jets_mass': Hist(\n",
      "  StrCategory(['jets_mass'], name='channel'),\n",
      "  Regular(12, 0, 3000, name='x', label='$m_{jj}$ [GeV]'),\n",
      "  storage=Double()) # Sum: 12910.0 (12936.0 with flow), 'jets_eta': Hist(\n",
      "  StrCategory(['jets_eta'], name='channel'),\n",
      "  Regular(12, 2.5, 8, name='x', label='$\\\\eta_{jj}$'),\n",
      "  storage=Double()) # Sum: 12921.0 (12936.0 with flow), 'jets_lead': Hist(\n",
      "  StrCategory(['jets_lead'], name='channel'),\n",
      "  Regular(14, 0, 500, name='x', label='$p_{T}^{j}$ [Gev]'),\n",
      "  storage=Double()) # Sum: 12936.0, 'jets_trail': Hist(\n",
      "  StrCategory(['jets_trail'], name='channel'),\n",
      "  Regular(14, 0, 200, name='x', label='$p_{T}^{j}$ [Gev]'),\n",
      "  storage=Double()) # Sum: 12934.0 (12936.0 with flow), 'Nsubj': Hist(\n",
      "  StrCategory(['$t_{1}$', '$t_{2}$'], name='channel'),\n",
      "  Regular(40, 0, 1, name='x', label='tau'),\n",
      "  storage=Double()) # Sum: 25028.0, 't_ratio': Hist(\n",
      "  StrCategory(['t_ratio'], name='channel'),\n",
      "  Regular(40, 0, 1, name='x', label='tau_r'),\n",
      "  storage=Double()) # Sum: 12514.0, 'pNet': Hist(\n",
      "  StrCategory(['pNet'], name='channel'),\n",
      "  Regular(40, 0, 1, name='x', label='WvsQCD'),\n",
      "  storage=Double()) # Sum: 12514.0}, 'bkg_WJets_100To200': {'entries': 101, 'MET': Hist(\n",
      "  StrCategory(['MET'], name='channel'),\n",
      "  Regular(12, 30, 400, name='x', label='$E_{T}^{miss}$ [GeV]'),\n",
      "  storage=Double()) # Sum: 94.0 (101.0 with flow), 'e_pT': Hist(\n",
      "  StrCategory(['e_pT'], name='channel'),\n",
      "  Regular(8, 35, 150, name='x', label='$p_{T}^{e}$ [GeV]'),\n",
      "  storage=Double()) # Sum: 99.0 (101.0 with flow), 'fatjet': Hist(\n",
      "  StrCategory(['fatjet'], name='channel'),\n",
      "  Regular(20, 30, 150, name='x', label='$p_{T}^{e}$ [GeV]'),\n",
      "  storage=Double()) # Sum: 85.0, 'jets_mass': Hist(\n",
      "  StrCategory(['jets_mass'], name='channel'),\n",
      "  Regular(12, 0, 3000, name='x', label='$m_{jj}$ [GeV]'),\n",
      "  storage=Double()) # Sum: 101.0, 'jets_eta': Hist(\n",
      "  StrCategory(['jets_eta'], name='channel'),\n",
      "  Regular(12, 2.5, 8, name='x', label='$\\\\eta_{jj}$'),\n",
      "  storage=Double()) # Sum: 101.0, 'jets_lead': Hist(\n",
      "  StrCategory(['jets_lead'], name='channel'),\n",
      "  Regular(14, 0, 500, name='x', label='$p_{T}^{j}$ [Gev]'),\n",
      "  storage=Double()) # Sum: 101.0, 'jets_trail': Hist(\n",
      "  StrCategory(['jets_trail'], name='channel'),\n",
      "  Regular(14, 0, 200, name='x', label='$p_{T}^{j}$ [Gev]'),\n",
      "  storage=Double()) # Sum: 101.0, 'Nsubj': Hist(\n",
      "  StrCategory(['$t_{1}$', '$t_{2}$'], name='channel'),\n",
      "  Regular(40, 0, 1, name='x', label='tau'),\n",
      "  storage=Double()) # Sum: 170.0, 't_ratio': Hist(\n",
      "  StrCategory(['t_ratio'], name='channel'),\n",
      "  Regular(40, 0, 1, name='x', label='tau_r'),\n",
      "  storage=Double()) # Sum: 85.0, 'pNet': Hist(\n",
      "  StrCategory(['pNet'], name='channel'),\n",
      "  Regular(40, 0, 1, name='x', label='WvsQCD'),\n",
      "  storage=Double()) # Sum: 85.0}, 'bkg_WJets_70To100': {'entries': 21, 'MET': Hist(\n",
      "  StrCategory(['MET'], name='channel'),\n",
      "  Regular(12, 30, 400, name='x', label='$E_{T}^{miss}$ [GeV]'),\n",
      "  storage=Double()) # Sum: 16.0 (21.0 with flow), 'e_pT': Hist(\n",
      "  StrCategory(['e_pT'], name='channel'),\n",
      "  Regular(8, 35, 150, name='x', label='$p_{T}^{e}$ [GeV]'),\n",
      "  storage=Double()) # Sum: 19.0 (21.0 with flow), 'fatjet': Hist(\n",
      "  StrCategory(['fatjet'], name='channel'),\n",
      "  Regular(20, 30, 150, name='x', label='$p_{T}^{e}$ [GeV]'),\n",
      "  storage=Double()) # Sum: 15.0, 'jets_mass': Hist(\n",
      "  StrCategory(['jets_mass'], name='channel'),\n",
      "  Regular(12, 0, 3000, name='x', label='$m_{jj}$ [GeV]'),\n",
      "  storage=Double()) # Sum: 21.0, 'jets_eta': Hist(\n",
      "  StrCategory(['jets_eta'], name='channel'),\n",
      "  Regular(12, 2.5, 8, name='x', label='$\\\\eta_{jj}$'),\n",
      "  storage=Double()) # Sum: 21.0, 'jets_lead': Hist(\n",
      "  StrCategory(['jets_lead'], name='channel'),\n",
      "  Regular(14, 0, 500, name='x', label='$p_{T}^{j}$ [Gev]'),\n",
      "  storage=Double()) # Sum: 21.0, 'jets_trail': Hist(\n",
      "  StrCategory(['jets_trail'], name='channel'),\n",
      "  Regular(14, 0, 200, name='x', label='$p_{T}^{j}$ [Gev]'),\n",
      "  storage=Double()) # Sum: 21.0, 'Nsubj': Hist(\n",
      "  StrCategory(['$t_{1}$', '$t_{2}$'], name='channel'),\n",
      "  Regular(40, 0, 1, name='x', label='tau'),\n",
      "  storage=Double()) # Sum: 30.0, 't_ratio': Hist(\n",
      "  StrCategory(['t_ratio'], name='channel'),\n",
      "  Regular(40, 0, 1, name='x', label='tau_r'),\n",
      "  storage=Double()) # Sum: 15.0, 'pNet': Hist(\n",
      "  StrCategory(['pNet'], name='channel'),\n",
      "  Regular(40, 0, 1, name='x', label='WvsQCD'),\n",
      "  storage=Double()) # Sum: 15.0}, 'sig_WPHADWMLEPjj_4f_EWK': {'entries': 1845, 'MET': Hist(\n",
      "  StrCategory(['MET'], name='channel'),\n",
      "  Regular(12, 30, 400, name='x', label='$E_{T}^{miss}$ [GeV]'),\n",
      "  storage=Double()) # Sum: 1677.0 (1845.0 with flow), 'e_pT': Hist(\n",
      "  StrCategory(['e_pT'], name='channel'),\n",
      "  Regular(8, 35, 150, name='x', label='$p_{T}^{e}$ [GeV]'),\n",
      "  storage=Double()) # Sum: 1827.0 (1845.0 with flow), 'fatjet': Hist(\n",
      "  StrCategory(['fatjet'], name='channel'),\n",
      "  Regular(20, 30, 150, name='x', label='$p_{T}^{e}$ [GeV]'),\n",
      "  storage=Double()) # Sum: 2142.0, 'jets_mass': Hist(\n",
      "  StrCategory(['jets_mass'], name='channel'),\n",
      "  Regular(12, 0, 3000, name='x', label='$m_{jj}$ [GeV]'),\n",
      "  storage=Double()) # Sum: 1802.0 (1845.0 with flow), 'jets_eta': Hist(\n",
      "  StrCategory(['jets_eta'], name='channel'),\n",
      "  Regular(12, 2.5, 8, name='x', label='$\\\\eta_{jj}$'),\n",
      "  storage=Double()) # Sum: 1836.0 (1845.0 with flow), 'jets_lead': Hist(\n",
      "  StrCategory(['jets_lead'], name='channel'),\n",
      "  Regular(14, 0, 500, name='x', label='$p_{T}^{j}$ [Gev]'),\n",
      "  storage=Double()) # Sum: 1781.0 (1845.0 with flow), 'jets_trail': Hist(\n",
      "  StrCategory(['jets_trail'], name='channel'),\n",
      "  Regular(14, 0, 200, name='x', label='$p_{T}^{j}$ [Gev]'),\n",
      "  storage=Double()) # Sum: 1845.0, 'Nsubj': Hist(\n",
      "  StrCategory(['$t_{1}$', '$t_{2}$'], name='channel'),\n",
      "  Regular(40, 0, 1, name='x', label='tau'),\n",
      "  storage=Double()) # Sum: 4284.0, 't_ratio': Hist(\n",
      "  StrCategory(['t_ratio'], name='channel'),\n",
      "  Regular(40, 0, 1, name='x', label='tau_r'),\n",
      "  storage=Double()) # Sum: 2142.0, 'pNet': Hist(\n",
      "  StrCategory(['pNet'], name='channel'),\n",
      "  Regular(40, 0, 1, name='x', label='WvsQCD'),\n",
      "  storage=Double()) # Sum: 2142.0}}\n"
     ]
    }
   ],
   "source": [
    "#Clock\n",
    "tstart = time.time()\n",
    "\n",
    "#The processor to run the executor to use\n",
    "futures_run = processor.Runner(\n",
    "    executor = processor.FuturesExecutor(compression=None, workers=4),\n",
    "    #In the previous line, we can then set the the number of cores to use as argument of the FuturesExecutor \n",
    "    schema=NanoAODSchema,\n",
    "    #Coffea will split your data into chunks of many events.\n",
    "    #chunksize=200_000 #default 100_000\n",
    "    #maxchunks argument will stop the analysis after a certain number of chunks are reached\n",
    "    #maxchunks=10,\n",
    ")\n",
    "\n",
    "out = futures_run(\n",
    "    \"fileset.json\",\n",
    "    \"Events\", #Name of the TTree in the root file\n",
    "    processor_instance=MyProcessor()\n",
    ")\n",
    "\n",
    "elapsed = time.time() - tstart\n",
    "print(elapsed)\n",
    "print(out)"
   ]
  },
  {
   "cell_type": "code",
   "execution_count": 5,
   "id": "3aff16af",
   "metadata": {},
   "outputs": [
    {
     "name": "stdout",
     "output_type": "stream",
     "text": [
      "1845\n"
     ]
    },
    {
     "data": {
      "text/plain": [
       "Text(0.5, 1.0, 'MET distribution')"
      ]
     },
     "execution_count": 5,
     "metadata": {},
     "output_type": "execute_result"
    },
    {
     "data": {
      "image/png": "[encoded data removed]",
      "text/plain": [
       "<Figure size 432x288 with 1 Axes>"
      ]
     },
     "metadata": {
      "needs_background": "light"
     },
     "output_type": "display_data"
    }
   ],
   "source": [
    "print(out[\"sig_WPHADWMLEPjj_4f_EWK\"][\"entries\"])\n",
    "out[\"sig_WPHADWMLEPjj_4f_EWK\"][\"MET\"].plot()\n",
    "plt.xlabel(\"$E_{T}^{miss}$ [GeV]\")\n",
    "plt.ylabel(\"counts\")\n",
    "plt.title(\"MET distribution\")"
   ]
  },
  {
   "cell_type": "code",
   "execution_count": 51,
   "id": "68650ad2",
   "metadata": {},
   "outputs": [
    {
     "data": {
      "text/plain": [
       "Text(0.5, 1.0, 'electron $p_{T}$ distribution')"
      ]
     },
     "execution_count": 51,
     "metadata": {},
     "output_type": "execute_result"
    },
    {
     "data": {
      "image/png": "[encoded data removed]",
      "text/plain": [
       "<Figure size 432x288 with 1 Axes>"
      ]
     },
     "metadata": {
      "needs_background": "light"
     },
     "output_type": "display_data"
    }
   ],
   "source": [
    "out[\"sig_WPHADWMLEPjj_4f_EWK\"][\"e_pT\"].plot()\n",
    "plt.xlabel(\"$p_{T}^{e}$ [GeV]\")\n",
    "plt.ylabel(\"counts\")\n",
    "plt.title(\"electron $p_{T}$ distribution\")"
   ]
  },
  {
   "cell_type": "code",
   "execution_count": 39,
   "id": "900d20a6",
   "metadata": {},
   "outputs": [
    {
     "data": {
      "text/plain": [
       "Text(0.5, 1.0, 'AK8 jet distribution')"
      ]
     },
     "execution_count": 39,
     "metadata": {},
     "output_type": "execute_result"
    },
    {
     "data": {
      "image/png": "[encoded data removed]",
      "text/plain": [
       "<Figure size 432x288 with 1 Axes>"
      ]
     },
     "metadata": {
      "needs_background": "light"
     },
     "output_type": "display_data"
    }
   ],
   "source": [
    "out[\"sig_WPHADWMLEPjj_4f_EWK\"][\"fatjet\"].plot()\n",
    "plt.xlabel(\"$m_{jet}$ [GeV]\")\n",
    "plt.ylabel(\"counts\")\n",
    "plt.title(\"AK8 jet distribution\")"
   ]
  },
  {
   "cell_type": "code",
   "execution_count": 40,
   "id": "bcd1dfc8",
   "metadata": {},
   "outputs": [
    {
     "data": {
      "text/plain": [
       "Text(0.5, 1.0, 'VBS $m_{jj}$ distribution')"
      ]
     },
     "execution_count": 40,
     "metadata": {},
     "output_type": "execute_result"
    },
    {
     "data": {
      "image/png": "[encoded data removed]",
      "text/plain": [
       "<Figure size 432x288 with 1 Axes>"
      ]
     },
     "metadata": {
      "needs_background": "light"
     },
     "output_type": "display_data"
    }
   ],
   "source": [
    "out[\"sig_WPHADWMLEPjj_4f_EWK\"][\"jets_mass\"].plot()\n",
    "plt.xlabel(\"$m_{jj}$ [GeV]\")\n",
    "plt.ylabel(\"counts\")\n",
    "plt.title(\"VBS $m_{jj}$ distribution\")"
   ]
  },
  {
   "cell_type": "code",
   "execution_count": 41,
   "id": "2ab4eb56",
   "metadata": {},
   "outputs": [
    {
     "data": {
      "text/plain": [
       "Text(0.5, 1.0, '$\\\\Delta\\\\eta$ VBS jets')"
      ]
     },
     "execution_count": 41,
     "metadata": {},
     "output_type": "execute_result"
    },
    {
     "data": {
      "image/png": "[encoded data removed]",
      "text/plain": [
       "<Figure size 432x288 with 1 Axes>"
      ]
     },
     "metadata": {
      "needs_background": "light"
     },
     "output_type": "display_data"
    }
   ],
   "source": [
    "out[\"sig_WPHADWMLEPjj_4f_EWK\"][\"jets_eta\"].plot()\n",
    "plt.xlabel(\"$\\Delta\\eta$\")\n",
    "plt.ylabel(\"counts\")\n",
    "plt.title(\"$\\Delta\\eta$ VBS jets\")"
   ]
  },
  {
   "cell_type": "code",
   "execution_count": 42,
   "id": "4a272981",
   "metadata": {},
   "outputs": [
    {
     "data": {
      "text/plain": [
       "Text(0.5, 1.0, 'Leading VBS jet $p_{T}$')"
      ]
     },
     "execution_count": 42,
     "metadata": {},
     "output_type": "execute_result"
    },
    {
     "data": {
      "image/png": "[encoded data removed]",
      "text/plain": [
       "<Figure size 432x288 with 1 Axes>"
      ]
     },
     "metadata": {
      "needs_background": "light"
     },
     "output_type": "display_data"
    }
   ],
   "source": [
    "out[\"sig_WPHADWMLEPjj_4f_EWK\"][\"jets_lead\"].plot()\n",
    "plt.xlabel(\"$p_{T}^{j}$ [GeV]\")\n",
    "plt.ylabel(\"counts\")\n",
    "plt.title(\"Leading VBS jet $p_{T}$\")"
   ]
  },
  {
   "cell_type": "code",
   "execution_count": 43,
   "id": "3850ebaa",
   "metadata": {},
   "outputs": [
    {
     "data": {
      "text/plain": [
       "Text(0.5, 1.0, 'Trailing VBS jet $p_{T}$')"
      ]
     },
     "execution_count": 43,
     "metadata": {},
     "output_type": "execute_result"
    },
    {
     "data": {
      "image/png": "[encoded data removed]",
      "text/plain": [
       "<Figure size 432x288 with 1 Axes>"
      ]
     },
     "metadata": {
      "needs_background": "light"
     },
     "output_type": "display_data"
    }
   ],
   "source": [
    "out[\"sig_WPHADWMLEPjj_4f_EWK\"][\"jets_trail\"].plot()\n",
    "plt.xlabel(\"$p_{T}^{j}$ [GeV]\")\n",
    "plt.ylabel(\"counts\")\n",
    "plt.title(\"Trailing VBS jet $p_{T}$\")"
   ]
  },
  {
   "cell_type": "code",
   "execution_count": 44,
   "id": "3f6c92bf",
   "metadata": {},
   "outputs": [
    {
     "data": {
      "text/plain": [
       "<matplotlib.legend.Legend at 0x7f9b9462fbb0>"
      ]
     },
     "execution_count": 44,
     "metadata": {},
     "output_type": "execute_result"
    },
    {
     "data": {
      "image/png": "[encoded data removed]",
      "text/plain": [
       "<Figure size 432x288 with 1 Axes>"
      ]
     },
     "metadata": {
      "needs_background": "light"
     },
     "output_type": "display_data"
    }
   ],
   "source": [
    "(out[\"sig_WPHADWMLEPjj_4f_EWK\"][\"Nsubj\"]/out[\"sig_WWjj4f\"][\"entries\"]).plot()\n",
    "plt.title(\"70 GeV < $m_{jet}$ < 115 GeV\")\n",
    "plt.xlabel(\"$t_{N}$\")\n",
    "plt.ylabel(\"relative occurrence\")\n",
    "plt.legend()"
   ]
  },
  {
   "cell_type": "code",
   "execution_count": 45,
   "id": "412d229e",
   "metadata": {},
   "outputs": [
    {
     "data": {
      "text/plain": [
       "<matplotlib.legend.Legend at 0x7f9b94591670>"
      ]
     },
     "execution_count": 45,
     "metadata": {},
     "output_type": "execute_result"
    },
    {
     "data": {
      "image/png": "[encoded data removed]",
      "text/plain": [
       "<Figure size 432x288 with 1 Axes>"
      ]
     },
     "metadata": {
      "needs_background": "light"
     },
     "output_type": "display_data"
    }
   ],
   "source": [
    "(out[\"sig_WPHADWMLEPjj_4f_EWK\"][\"t_ratio\"]/out[\"sig_WWjj4f\"][\"entries\"]).plot()\n",
    "plt.title(\"70 GeV < $m_{jet}$ < 115 GeV\")\n",
    "plt.xlabel(\"$t_{2}/t_{1}$\")\n",
    "plt.ylabel(\"relative occurrence\")\n",
    "plt.legend()"
   ]
  },
  {
   "cell_type": "code",
   "execution_count": 46,
   "id": "1c516095",
   "metadata": {},
   "outputs": [
    {
     "data": {
      "text/plain": [
       "<matplotlib.legend.Legend at 0x7f9b943f2610>"
      ]
     },
     "execution_count": 46,
     "metadata": {},
     "output_type": "execute_result"
    },
    {
     "data": {
      "image/png": "[encoded data removed]",
      "text/plain": [
       "<Figure size 432x288 with 1 Axes>"
      ]
     },
     "metadata": {
      "needs_background": "light"
     },
     "output_type": "display_data"
    }
   ],
   "source": [
    "(out[\"sig_WPHADWMLEPjj_4f_EWK\"][\"pNet\"]/out[\"sig_WWjj4f\"][\"entries\"]).plot()\n",
    "plt.title(\"70 GeV < $m_{jet}$ < 115 GeV\")\n",
    "plt.xlabel(\"WvsQCD score\")\n",
    "plt.ylabel(\"relative occurrence\")\n",
    "plt.legend()"
   ]
  },
  {
   "cell_type": "code",
   "execution_count": null,
   "id": "220e94f4",
   "metadata": {},
   "outputs": [],
   "source": []
  }
 ],
 "metadata": {
  "@webio": {
   "lastCommId": null,
   "lastKernelId": null
  },
  "kernelspec": {
   "display_name": "Python 3",
   "language": "python",
   "name": "python3"
  },
  "language_info": {
   "codemirror_mode": {
    "name": "ipython",
    "version": 3
   },
   "file_extension": ".py",
   "mimetype": "text/x-python",
   "name": "python",
   "nbconvert_exporter": "python",
   "pygments_lexer": "ipython3",
   "version": "3.9.12"
  }
 },
 "nbformat": 4,
 "nbformat_minor": 5
}
