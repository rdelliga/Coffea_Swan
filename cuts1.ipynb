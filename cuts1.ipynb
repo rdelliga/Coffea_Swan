{
 "cells": [
  {
   "cell_type": "code",
   "execution_count": 1,
   "id": "9ef76dc5",
   "metadata": {},
   "outputs": [],
   "source": [
    "import uproot\n",
    "import awkward as ak #The events object is an awkward array\n",
    "## Plotting.\n",
    "import matplotlib.pyplot as plt\n",
    "\n",
    "# Hists\n",
    "import hist\n",
    "from hist import Hist\n",
    "import pickle #to save histograms\n",
    "\n",
    "# NanoEvents\n",
    "from coffea.nanoevents import NanoEventsFactory, NanoAODSchema\n",
    "\n",
    "# Processors (for parallelization)\n",
    "#import coffea.processor as processor\n",
    "from coffea import processor\n",
    "\n",
    "#Math\n",
    "import math\n",
    "\n",
    "#Numpy\n",
    "import numpy as np\n",
    "\n",
    "#PackedSelection (to mask events)\n",
    "from coffea.analysis_tools import PackedSelection\n",
    "\n",
    "#Clock to count time\n",
    "import time"
   ]
  },
  {
   "cell_type": "code",
   "execution_count": 2,
   "id": "1e75d2a3",
   "metadata": {},
   "outputs": [],
   "source": [
    "# The processor class bundles our data analysis together while giving us some helpful tools.  It also leaves looping and chunks to the framework instead of us.\n",
    "class MyProcessor(processor.ProcessorABC):\n",
    "    def __init__(self):\n",
    "        pass\n",
    "    \n",
    "    def process(self, old_events):\n",
    "        #Implement the selections to veto events\n",
    "        selection = PackedSelection()\n",
    "        #At least one lepton \n",
    "        selection.add(\"one_l\", (ak.num(old_events.Electron)+ak.num(old_events.Muon))>=1)\n",
    "        #Electron signal region\n",
    "        selection.add(\"fst_tight_e\", ak.mask(old_events.Electron, ak.num(old_events.Electron) >= 1)[:, 0].mvaFall17V2Iso_WP90 == True)\n",
    "        selection.add(\n",
    "            \"electron_pT\",\n",
    "            ak.any(old_events.Electron.pt > 35.0, axis=1)  \n",
    "        )\n",
    "        selection.add(\n",
    "            \"e_range_eta\",\n",
    "            ak.any(abs (old_events.Electron.eta) < 2.5, axis=1)\n",
    "        )\n",
    "        #The following two cuts work in inverse logic, when you require the selection later you must take false\n",
    "        selection.add(\"snd_tight_e\", ak.mask(old_events.Electron, ak.num(old_events.Electron) > 1)[:, 1].mvaFall17V2Iso_WP90 == True)\n",
    "        selection.add(\"loose_e\", (ak.mask(old_events.Electron, ak.num(old_events.Electron) > 1)[:, 1].mvaFall17V2Iso_WPL == True) & (ak.mask(old_events.Electron, ak.num(old_events.Electron) > 1)[:, 1].pt >10))\n",
    "        #Muon signal region (boosted)\n",
    "        selection.add(\"one_tight_mu\", ak.mask(old_events.Muon, ak.num(old_events.Muon) >= 1)[:, 0].tightId == (3>2))\n",
    "        selection.add(\"no_2nd_tight_mu\", ak.mask(old_events.Muon, ak.num(old_events.Muon) > 1)[:, 1].tightId == (3==2))\n",
    "        #The following three cuts work in inverse logic, when you require the selection later you must take false\n",
    "        selection.add(\"any_tight_e\", ak.any(old_events.Electron.mvaFall17V2Iso_WP90 == (3>2), axis=1))\n",
    "        selection.add(\n",
    "            \"muon_pT\",\n",
    "            ak.any(old_events.Muon.pt >= 30.0, axis=1)\n",
    "        )\n",
    "        selection.add(\n",
    "            \"mu_range_eta\",\n",
    "            ak.any(abs (old_events.Muon.eta) < 2.4, axis=1)\n",
    "        )\n",
    "        selection.add(\"loose_mu\", (ak.mask(old_events.Muon, ak.num(old_events.Muon) > 1)[:, 1].looseId == (3>2)) & (ak.mask(old_events.Muon, ak.num(old_events.Muon) > 1)[:, 1].pt >10))\n",
    "        selection.add(\"loose_e1\", (ak.mask(old_events.Electron, ak.num(old_events.Electron) > 1)[:, 0].mvaFall17V2Iso_WPL == (3>2)) & (ak.mask(old_events.Electron, ak.num(old_events.Electron) > 1)[:, 0].pt >10))\n",
    "        selection.add(\"loose_e2\", (ak.mask(old_events.Electron, ak.num(old_events.Electron) > 1)[:, 1].mvaFall17V2Iso_WPL == (3>2)) & (ak.mask(old_events.Electron, ak.num(old_events.Electron) > 1)[:, 1].pt >10))\n",
    "        #Puppy met cut\n",
    "        selection.add(\"lead_pMET\", old_events.PuppiMET.pt>30)\n",
    "        #b Veto\n",
    "        selection.add(\"b_veto\", ak.all(old_events.Jet.btagDeepB<=0.84, axis=1))\n",
    "        #selection.add(\"b_veto\", ak.all(old_events.Jet.btagCSVV2<=0.81, axis=1))\n",
    "        #VBS jets (looking for the max invariant mass pair)\n",
    "        # Get all combinations of jet pairs in every event\n",
    "        dijets_o = ak.combinations(old_events.Jet, 2, fields=['i0', 'i1'])\n",
    "        # Check that jet pairs have the greatest mass\n",
    "        ismax_o=(dijets_o['i0']+dijets_o['i1']).mass==ak.max((dijets_o['i0']+dijets_o['i1']).mass, axis=1)\n",
    "        #previous line: returns a Boolean array with True where the condition is met, and false otherwise\n",
    "        # Mask the dijets with the ismax to get dijets with the gratest mass\n",
    "        VBS_jets_o = dijets_o[ismax_o]\n",
    "        # Separate pairs into arrays of the leading and the trailing VBS jets in each pair.\n",
    "        VBS_ljet_o, VBS_tjet_o = ak.unzip(VBS_jets_o)\n",
    "        #VBS selection\n",
    "        selection.add(\n",
    "            \"lead_VBS_ljet\",   \n",
    "            ak.all(VBS_ljet_o.pt>50, axis=1)\n",
    "        )\n",
    "        selection.add(\n",
    "            \"lead_VBS_tjet\",   \n",
    "            ak.all(VBS_tjet_o.pt>30, axis=1)\n",
    "        )\n",
    "        selection.add(\n",
    "            \"lead_VBS_mass\",   \n",
    "            ak.all((VBS_ljet_o+VBS_tjet_o).mass>500, axis=1)\n",
    "        )\n",
    "        selection.add(\n",
    "            \"lead_VBS_eta\",   \n",
    "            ak.all(abs(VBS_ljet_o.eta-VBS_tjet_o.eta)>2.5, axis=1)\n",
    "        )\n",
    "        selection.add(\"one_fatjet\", (ak.num(old_events.FatJet) == 1))\n",
    "        selection.add(\"two_jet\", (ak.num(old_events.Jet) >= 2))\n",
    "        #Transverse mass of the W boson decaying leptonically\n",
    "        #With electrons\n",
    "        selection.add(\n",
    "            \"W_Tmass_e\",\n",
    "            ak.all(2*old_events.Electron.pt*old_events.MET.pt*(1-np.cos(old_events.Electron.phi-old_events.MET.phi))<185**2, axis=1)\n",
    "        )\n",
    "        #With muons\n",
    "        selection.add(\n",
    "            \"W_Tmass_mu\",\n",
    "            ak.all(2*old_events.Muon.pt*old_events.MET.pt*(1-np.cos(old_events.Muon.phi-old_events.MET.phi))<185**2, axis=1)\n",
    "        )\n",
    "        #Invariant mass of the W boson decaying hadronically, use softdropmass\n",
    "        selection.add(\n",
    "            \"W_mass_fatjet\",\n",
    "            ak.all((old_events.FatJet.msoftdrop>70) & (old_events.FatJet.msoftdrop<115), axis=1)\n",
    "        )\n",
    "        #Electron mask\n",
    "        #one_l=True, fst_tight_e=True, snd_tight_e=False, loose_e=False, electron_pT=True, e_range_eta=True, lead_pMET=True, b_veto=True, lead_VBS_ljet=True, lead_VBS_tjet=True, lead_VBS_mass=True, lead_VBS_eta=True, one_fatjet=True, two_jet=True, W_Tmass_e=True, W_mass_fatjet=True\n",
    "        ev_mask_e = selection.require(one_l=True, fst_tight_e=True, snd_tight_e=False, loose_e=False, electron_pT=True, e_range_eta=True, lead_pMET=True, b_veto=True, lead_VBS_ljet=True, lead_VBS_tjet=True, lead_VBS_mass=True, lead_VBS_eta=True, two_jet=True, one_fatjet=True, W_mass_fatjet=True)\n",
    "        #Muon mask\n",
    "        ev_mask_mu = selection.require(one_l=True, one_tight_mu=True, no_2nd_tight_mu=True, loose_mu=False, loose_e1=False, loose_e2=False, any_tight_e=False, muon_pT=True, mu_range_eta=True, lead_pMET=True, b_veto=True, lead_VBS_ljet=True, lead_VBS_tjet=True, lead_VBS_mass=True, lead_VBS_eta=True, one_fatjet=True, two_jet=True, W_Tmass_mu=True, W_mass_fatjet=True)\n",
    "        #Apply the cuts on the events with the mask (chose either electron or muon signal region)\n",
    "        events=old_events[ev_mask_e]\n",
    "        \n",
    "        # This is where we do our actual analysis. The dataset has columns similar to the TTree's; events.columns can tell you them, or events.[object].columns for deeper depth.\n",
    "        dataset = events.metadata['dataset']\n",
    "        #Define the fiducial region\n",
    "        #Electron, muon , jets, fatjets\n",
    "        jets=events.Jet\n",
    "        fatjets = events.FatJet\n",
    "        #Jets isolation from electrons\n",
    "        # Get all combinations of jets and electrons in every event\n",
    "        jets_e = ak.cartesian({\"x\": jets, \"y\": events.Electron})\n",
    "        # Check that jets satisfy the isolation\n",
    "        jets_iso_e = ((jets_e[\"x\"].eta-jets_e[\"y\"].eta)**2+(jets_e[\"x\"].phi-jets_e[\"y\"].phi)**2>0.4**2)\n",
    "        # Mask the jets_e with the jets_iso to get jets isolated from electrons\n",
    "        jets_e = jets_e[jets_iso_e]\n",
    "        # Separate pairs into jets and electons, redefining the jets (but not the electrons)\n",
    "        jets, el = ak.unzip(jets_e)\n",
    "        #FatJets isolation from electrons\n",
    "        # Get all combinations of fatjets and electrons in every event\n",
    "        fatjets_e = ak.cartesian({\"x\": fatjets, \"y\": events.Electron})\n",
    "        # Check that jets satisfy the isolation\n",
    "        fatjets_iso_e = ((fatjets_e[\"x\"].eta-fatjets_e[\"y\"].eta)**2+(fatjets_e[\"x\"].phi-fatjets_e[\"y\"].phi)**2>0.8**2)\n",
    "        # Mask the fatjets_e with the fatjets_iso to get fatjets isolated from electrons\n",
    "        fatjets_e = fatjets_e[fatjets_iso_e]\n",
    "        # Separate pairs into fatjets and electons, redefining the fatjets (but not the electrons)\n",
    "        fatjets, el = ak.unzip(fatjets_e)\n",
    "        #Jets isolation from muons\n",
    "        # Get all combinations of jets and muons in every event\n",
    "        #jets_mu = ak.cartesian({\"x\": jets, \"y\": events.Muon})\n",
    "        # Check that jets satisfy the isolation\n",
    "        #jets_iso_mu = ((jets_mu[\"x\"].eta-jets_mu[\"y\"].eta)**2+(jets_mu[\"x\"].phi-jets_mu[\"y\"].phi)**2>0.4**2)\n",
    "        # Mask the jets_mu with the jets_iso_mu to get jets isolated from muons\n",
    "        #jets_mu = jets_mu[jets_iso_mu]\n",
    "        # Separate pairs into jets and muons, redefining the jets (but not the muons)\n",
    "        #jets, mu = ak.unzip(jets_mu)\n",
    "        #FatJets isolation from muons\n",
    "        # Get all combinations of fatjets and muons in every event\n",
    "        #fatjets_mu = ak.cartesian({\"x\": fatjets, \"y\": events.Muon})\n",
    "        # Check that fatjets satisfy the isolation\n",
    "        #fatjets_iso_mu = ((fatjets_mu[\"x\"].eta-fatjets_mu[\"y\"].eta)**2+(fatjets_mu[\"x\"].phi-fatjets_mu[\"y\"].phi)**2>0.8**2)\n",
    "        # Mask the fatjets_mu with the fatjets_iso_mu to get fatjets isolated from muons\n",
    "        #fatjets_mu = fatjets_mu[fatjets_iso_mu]\n",
    "        # Separate pairs into jets and muons, redefining the jets (but not the muons)\n",
    "        #fatjets, mu = ak.unzip(fatjets_mu)\n",
    "        #Jets cuts\n",
    "        jets_eta_cut = (abs (jets.eta) < 4.7)\n",
    "        jets_pT_cut = (jets.pt > 30)\n",
    "        jets = jets[jets_pT_cut&jets_eta_cut]\n",
    "        #FatJets cuts\n",
    "        fatjets_eta_cut = (abs (fatjets.eta) < 2.4)\n",
    "        fatjets_pT_cut = (fatjets.pt > 200)\n",
    "        fatjets = fatjets[fatjets_pT_cut&fatjets_eta_cut]\n",
    "        #Removing AK4(Jet) jets overlapping with AK8(FatJets) jets\n",
    "        # Get all combinations of jets and fatjets in every event\n",
    "        jets_fatjets = ak.cartesian({\"x\": jets, \"y\": fatjets})\n",
    "        # Check that jets satisfy the isolation\n",
    "        jets_iso_f = ((jets_fatjets[\"x\"].eta-jets_fatjets[\"y\"].eta)**2+(jets_fatjets[\"x\"].phi-jets_fatjets[\"y\"].phi)**2>0.8**2)\n",
    "        # Mask the jets_fatjets with the jets_iso_f to get jets isolated from fatjets\n",
    "        jets_fatjets = jets_fatjets[jets_iso_f]\n",
    "        # Separate pairs into jets and electons, redefining the jets (but not the fatjets)\n",
    "        jets, fj = ak.unzip(jets_fatjets)\n",
    "        #VBS jets (looking for the max invariant mass pair)\n",
    "        # Get all combinations of jet pairs in every event\n",
    "        VBSjets = ak.combinations(events.Jet, 2, fields=['i0', 'i1'])\n",
    "        # Mask the dijets with the ismax to get dijets with the gratest mass\n",
    "        VBS_jets = VBSjets[(VBSjets['i0']+VBSjets['i1']).mass==ak.max((VBSjets['i0']+VBSjets['i1']).mass, axis=1)]\n",
    "        # Separate pairs into arrays of the leading and the trailing VBS jets in each pair.\n",
    "        VBS_jet_lead, VBS_jet_trail = ak.unzip(VBS_jets)\n",
    "        \n",
    "        #Get the variables of N-subjectiness\n",
    "        tau_1=fatjets.tau1\n",
    "        tau_2=fatjets.tau2\n",
    "        #Take the tau2 to tau1 ratio\n",
    "        tau_r=tau_2/tau_1\n",
    "        #Get the variables of particleNet and deepTag\n",
    "        pNet=fatjets.particleNet_WvsQCD\n",
    "        dTag=fatjets.deepTag_WvsQCD\n",
    "        \n",
    "        # Bins and categories for the histogram\n",
    "        h_PuppiMET = hist.Hist(hist.axis.StrCategory(name='channel', categories=['PuppiMET']), \n",
    "                      hist.axis.Regular(name='x', label='PuppiMET [GeV]', bins=20, start=30, stop=300))\n",
    "        h_e_pT = hist.Hist(hist.axis.StrCategory(name='channel', categories=['e_pT']), \n",
    "                      hist.axis.Regular(name='x', label='$p_{T}^{e}$ [GeV]', bins=16, start=35, stop=160))\n",
    "        h_e_eta = hist.Hist(hist.axis.StrCategory(name='channel', categories=['e_eta']), \n",
    "                      hist.axis.Regular(name='x', label='$\\eta^{e}$', bins=20, start=-2.5, stop=2.5))\n",
    "        h_fatjet_pT = hist.Hist(hist.axis.StrCategory(name='channel', categories=['fatjet_pT']), \n",
    "                      hist.axis.Regular(name='x', label='$p_{T}^{W_{had}}$ [GeV]', bins=20, start=200, stop=600))\n",
    "        h_fatjet_mass = hist.Hist(hist.axis.StrCategory(name='channel', categories=['fatjet_mass']), \n",
    "                      hist.axis.Regular(name='x', label='$m^{W_{had}}$ [GeV]', bins=20, start=30, stop=150))\n",
    "        h_jets_mass = hist.Hist(hist.axis.StrCategory(name='channel', categories=['jets_mass']), \n",
    "                      hist.axis.Regular(name='x', label='$m_{jj} VBS$ [GeV]', bins=24, start=500, stop=3500))\n",
    "        h_jets_eta = hist.Hist(hist.axis.StrCategory(name='channel', categories=['jets_eta']), \n",
    "                      hist.axis.Regular(name='x', label='$\\Delta\\eta_{jj} VBS$', bins=20, start=2.5, stop=8.5))\n",
    "        h_jets_lead = hist.Hist(hist.axis.StrCategory(name='channel', categories=['jets_lead']), \n",
    "                      hist.axis.Regular(name='x', label='$leading VBS p_{T}^{j}$ [Gev]', bins=20, start=50, stop=500))\n",
    "        h_jets_trail = hist.Hist(hist.axis.StrCategory(name='channel', categories=['jets_trail']), \n",
    "                      hist.axis.Regular(name='x', label='$trailing VBS p_{T}^{j}$ [Gev]', bins=14, start=30, stop=250))\n",
    "        h_LHE_HT = hist.Hist(hist.axis.StrCategory(name='channel', categories=['LHE_HT']), \n",
    "                      hist.axis.Variable([70,100,200,400,600,800,1200,2500,3500],name='x', label='LHE HT'))\n",
    "        h_Nsubj_t1 = hist.Hist(hist.axis.StrCategory(name='channel', categories=['$t_{1}$']), \n",
    "                      hist.axis.Regular(name='x', label='tau_1', bins=50, start= 0, stop=1))\n",
    "        h_Nsubj_t2 = hist.Hist(hist.axis.StrCategory(name='channel', categories=['$t_{2}$']), \n",
    "                      hist.axis.Regular(name='x', label='tau_2', bins=50, start= 0, stop=1))\n",
    "        h_t_ratio = hist.Hist(hist.axis.StrCategory(name='channel', categories=['t_ratio']), \n",
    "                      hist.axis.Regular(name='x', label='tau_r', bins=50, start= 0, stop=1))\n",
    "        h_pNet = hist.Hist(hist.axis.StrCategory(name='channel', categories=['pNet']), \n",
    "                      hist.axis.Regular(name='x', label='WvsQCD', bins=50, start= 0, stop=1))\n",
    "\n",
    "        # This fills our histogram once our data is collected.\n",
    "        h_PuppiMET.fill(channel='PuppiMET', x=events.PuppiMET.pt)\n",
    "        h_e_pT.fill(channel='e_pT', x=events.Electron[:,0].pt)\n",
    "        h_e_eta.fill(channel='e_eta', x=events.Electron[:,0].eta)\n",
    "        h_fatjet_pT.fill(channel='fatjet_pT', x=ak.flatten(fatjets.pt))\n",
    "        h_fatjet_mass.fill(channel='fatjet_mass', x=ak.flatten(fatjets.mass))\n",
    "        #previous line: you have to flatten the awkward array because its size is ambiguous due to variable-length arrays\n",
    "        h_jets_mass.fill(channel='jets_mass', x=ak.flatten((VBS_jet_lead+VBS_jet_trail).mass))\n",
    "        h_jets_eta.fill(channel='jets_eta', x=ak.flatten(abs(VBS_jet_lead.eta-VBS_jet_trail.eta)))\n",
    "        h_jets_lead.fill(channel='jets_lead', x=ak.flatten(VBS_jet_lead.pt))\n",
    "        h_jets_trail.fill(channel='jets_trail', x=ak.flatten(VBS_jet_trail.pt))\n",
    "        h_LHE_HT.fill(channel='LHE_HT', x=events.LHE.HT)\n",
    "        h_Nsubj_t1.fill(channel='$t_{1}$', x=ak.flatten(tau_1))\n",
    "        h_Nsubj_t2.fill(channel='$t_{2}$', x=ak.flatten(tau_2))\n",
    "        h_t_ratio.fill(channel='t_ratio', x=ak.flatten(tau_r))\n",
    "        h_pNet.fill(channel='pNet', x=ak.flatten(pNet))\n",
    "        \n",
    "        return {\n",
    "            dataset: {\n",
    "                \"entries\": len(events),\n",
    "                \"PuppiMET\": h_PuppiMET,\n",
    "                \"e_pT\": h_e_pT,\n",
    "                \"e_eta\": h_e_eta,\n",
    "                \"fatjet_pT\": h_fatjet_pT,\n",
    "                \"fatjet_mass\": h_fatjet_mass,\n",
    "                \"jets_mass\": h_jets_mass,\n",
    "                \"jets_eta\": h_jets_eta,\n",
    "                \"jets_lead\": h_jets_lead,\n",
    "                \"jets_trail\": h_jets_trail,\n",
    "                \"LHE_HT\": h_LHE_HT,\n",
    "                \"Nsubj_t1\": h_Nsubj_t1,\n",
    "                \"Nsubj_t2\": h_Nsubj_t2,\n",
    "                \"t_ratio\": h_t_ratio,\n",
    "                \"pNet\": h_pNet\n",
    "            }\n",
    "        }\n",
    "    \n",
    "    def postprocess(self, accumulator):\n",
    "        #This is where we can make post-analysis adjustments, such as handle weights, rebinning or scaling our histograms.\n",
    "        pass"
   ]
  },
  {
   "cell_type": "code",
   "execution_count": 4,
   "id": "91faa784",
   "metadata": {},
   "outputs": [
    {
     "data": {
      "application/vnd.jupyter.widget-view+json": {
       "model_id": "15b03425d5374eb188d44a9781b94e27",
       "version_major": 2,
       "version_minor": 0
      },
      "text/plain": [
       "Preprocessing:   0%|          | 0/643 [00:00<?, ?file/s]"
      ]
     },
     "metadata": {},
     "output_type": "display_data"
    },
    {
     "data": {
      "application/vnd.jupyter.widget-view+json": {
       "model_id": "884e4a4247b3489693c78cf1aca15b35",
       "version_major": 2,
       "version_minor": 0
      },
      "text/plain": [
       "Processing:   0%|          | 0/3241 [00:00<?, ?chunk/s]"
      ]
     },
     "metadata": {},
     "output_type": "display_data"
    },
    {
     "name": "stdout",
     "output_type": "stream",
     "text": [
      "18269.539573431015\n",
      "{'bkg_WJets_2500ToInf': {'jets_trail': Hist(\n",
      "  StrCategory(['jets_trail'], name='channel'),\n",
      "  Regular(14, 30, 250, name='x', label='$trailing VBS p_{T}^{j}$ [Gev]'),\n",
      "  storage=Double()) # Sum: 2.0, 'jets_mass': Hist(\n",
      "  StrCategory(['jets_mass'], name='channel'),\n",
      "  Regular(24, 500, 3500, name='x', label='$m_{jj} VBS$ [GeV]'),\n",
      "  storage=Double()) # Sum: 2.0, 'fatjet_mass': Hist(\n",
      "  StrCategory(['fatjet_mass'], name='channel'),\n",
      "  Regular(20, 30, 150, name='x', label='$m^{W_{had}}$ [GeV]'),\n",
      "  storage=Double()) # Sum: 2.0 (3.0 with flow), 'jets_lead': Hist(\n",
      "  StrCategory(['jets_lead'], name='channel'),\n",
      "  Regular(20, 50, 500, name='x', label='$leading VBS p_{T}^{j}$ [Gev]'),\n",
      "  storage=Double()) # Sum: 0.0 (2.0 with flow), 't_ratio': Hist(\n",
      "  StrCategory(['t_ratio'], name='channel'),\n",
      "  Regular(60, 0, 1, name='x', label='tau_r'),\n",
      "  storage=Double()) # Sum: 3.0, 'Nsubj_t1': Hist(\n",
      "  StrCategory(['$t_{1}$'], name='channel'),\n",
      "  Regular(60, 0, 1, name='x', label='tau_1'),\n",
      "  storage=Double()) # Sum: 3.0, 'entries': 2, 'e_pT': Hist(\n",
      "  StrCategory(['e_pT'], name='channel'),\n",
      "  Regular(20, 35, 200, name='x', label='$p_{T}^{e}$ [GeV]'),\n",
      "  storage=Double()) # Sum: 2.0, 'Nsubj_t2': Hist(\n",
      "  StrCategory(['$t_{2}$'], name='channel'),\n",
      "  Regular(60, 0, 1, name='x', label='tau_2'),\n",
      "  storage=Double()) # Sum: 3.0, 'fatjet_pT': Hist(\n",
      "  StrCategory(['fatjet_pT'], name='channel'),\n",
      "  Regular(20, 200, 600, name='x', label='$p_{T}^{W_{had}}$ [GeV]'),\n",
      "  storage=Double()) # Sum: 0.0 (3.0 with flow), 'LHE_HT': Hist(\n",
      "  StrCategory(['LHE_HT'], name='channel'),\n",
      "  Variable([70, 100, 200, 400, 600, 800, 1200, 2500, 3500], name='x', label='LHE HT'),\n",
      "  storage=Double()) # Sum: 2.0, 'pNet': Hist(\n",
      "  StrCategory(['pNet'], name='channel'),\n",
      "  Regular(60, 0, 1, name='x', label='WvsQCD'),\n",
      "  storage=Double()) # Sum: 3.0, 'e_eta': Hist(\n",
      "  StrCategory(['e_eta'], name='channel'),\n",
      "  Regular(30, -2.5, 2.5, name='x', label='$\\\\eta^{e}$'),\n",
      "  storage=Double()) # Sum: 2.0, 'jets_eta': Hist(\n",
      "  StrCategory(['jets_eta'], name='channel'),\n",
      "  Regular(20, 2.5, 8.5, name='x', label='$\\\\Delta\\\\eta_{jj} VBS$'),\n",
      "  storage=Double()) # Sum: 2.0, 'PuppiMET': Hist(\n",
      "  StrCategory(['PuppiMET'], name='channel'),\n",
      "  Regular(30, 30, 300, name='x', label='PuppiMET [GeV]'),\n",
      "  storage=Double()) # Sum: 0.0 (2.0 with flow)}, 'bkg_WJets_1200To2500': {'entries': 91, 'PuppiMET': Hist(\n",
      "  StrCategory(['PuppiMET'], name='channel'),\n",
      "  Regular(30, 30, 300, name='x', label='PuppiMET [GeV]'),\n",
      "  storage=Double()) # Sum: 0.0 (91.0 with flow), 'e_pT': Hist(\n",
      "  StrCategory(['e_pT'], name='channel'),\n",
      "  Regular(20, 35, 200, name='x', label='$p_{T}^{e}$ [GeV]'),\n",
      "  storage=Double()) # Sum: 91.0, 'e_eta': Hist(\n",
      "  StrCategory(['e_eta'], name='channel'),\n",
      "  Regular(30, -2.5, 2.5, name='x', label='$\\\\eta^{e}$'),\n",
      "  storage=Double()) # Sum: 91.0, 'fatjet_pT': Hist(\n",
      "  StrCategory(['fatjet_pT'], name='channel'),\n",
      "  Regular(20, 200, 600, name='x', label='$p_{T}^{W_{had}}$ [GeV]'),\n",
      "  storage=Double()) # Sum: 4.0 (129.0 with flow), 'fatjet_mass': Hist(\n",
      "  StrCategory(['fatjet_mass'], name='channel'),\n",
      "  Regular(20, 30, 150, name='x', label='$m^{W_{had}}$ [GeV]'),\n",
      "  storage=Double()) # Sum: 91.0 (129.0 with flow), 'jets_mass': Hist(\n",
      "  StrCategory(['jets_mass'], name='channel'),\n",
      "  Regular(24, 500, 3500, name='x', label='$m_{jj} VBS$ [GeV]'),\n",
      "  storage=Double()) # Sum: 89.0 (91.0 with flow), 'jets_eta': Hist(\n",
      "  StrCategory(['jets_eta'], name='channel'),\n",
      "  Regular(20, 2.5, 8.5, name='x', label='$\\\\Delta\\\\eta_{jj} VBS$'),\n",
      "  storage=Double()) # Sum: 91.0, 'jets_lead': Hist(\n",
      "  StrCategory(['jets_lead'], name='channel'),\n",
      "  Regular(20, 50, 500, name='x', label='$leading VBS p_{T}^{j}$ [Gev]'),\n",
      "  storage=Double()) # Sum: 1.0 (91.0 with flow), 'jets_trail': Hist(\n",
      "  StrCategory(['jets_trail'], name='channel'),\n",
      "  Regular(14, 30, 250, name='x', label='$trailing VBS p_{T}^{j}$ [Gev]'),\n",
      "  storage=Double()) # Sum: 91.0, 'LHE_HT': Hist(\n",
      "  StrCategory(['LHE_HT'], name='channel'),\n",
      "  Variable([70, 100, 200, 400, 600, 800, 1200, 2500, 3500], name='x', label='LHE HT'),\n",
      "  storage=Double()) # Sum: 91.0, 'Nsubj_t1': Hist(\n",
      "  StrCategory(['$t_{1}$'], name='channel'),\n",
      "  Regular(60, 0, 1, name='x', label='tau_1'),\n",
      "  storage=Double()) # Sum: 129.0, 'Nsubj_t2': Hist(\n",
      "  StrCategory(['$t_{2}$'], name='channel'),\n",
      "  Regular(60, 0, 1, name='x', label='tau_2'),\n",
      "  storage=Double()) # Sum: 129.0, 't_ratio': Hist(\n",
      "  StrCategory(['t_ratio'], name='channel'),\n",
      "  Regular(60, 0, 1, name='x', label='tau_r'),\n",
      "  storage=Double()) # Sum: 129.0, 'pNet': Hist(\n",
      "  StrCategory(['pNet'], name='channel'),\n",
      "  Regular(60, 0, 1, name='x', label='WvsQCD'),\n",
      "  storage=Double()) # Sum: 129.0}, 'bkg_WJets_800To1200': {'entries': 752, 'PuppiMET': Hist(\n",
      "  StrCategory(['PuppiMET'], name='channel'),\n",
      "  Regular(30, 30, 300, name='x', label='PuppiMET [GeV]'),\n",
      "  storage=Double()) # Sum: 300.0 (752.0 with flow), 'e_pT': Hist(\n",
      "  StrCategory(['e_pT'], name='channel'),\n",
      "  Regular(20, 35, 200, name='x', label='$p_{T}^{e}$ [GeV]'),\n",
      "  storage=Double()) # Sum: 752.0, 'e_eta': Hist(\n",
      "  StrCategory(['e_eta'], name='channel'),\n",
      "  Regular(30, -2.5, 2.5, name='x', label='$\\\\eta^{e}$'),\n",
      "  storage=Double()) # Sum: 748.0 (752.0 with flow), 'fatjet_pT': Hist(\n",
      "  StrCategory(['fatjet_pT'], name='channel'),\n",
      "  Regular(20, 200, 600, name='x', label='$p_{T}^{W_{had}}$ [GeV]'),\n",
      "  storage=Double()) # Sum: 681.0 (1173.0 with flow), 'fatjet_mass': Hist(\n",
      "  StrCategory(['fatjet_mass'], name='channel'),\n",
      "  Regular(20, 30, 150, name='x', label='$m^{W_{had}}$ [GeV]'),\n",
      "  storage=Double()) # Sum: 1115.0 (1173.0 with flow), 'jets_mass': Hist(\n",
      "  StrCategory(['jets_mass'], name='channel'),\n",
      "  Regular(24, 500, 3500, name='x', label='$m_{jj} VBS$ [GeV]'),\n",
      "  storage=Double()) # Sum: 745.0 (752.0 with flow), 'jets_eta': Hist(\n",
      "  StrCategory(['jets_eta'], name='channel'),\n",
      "  Regular(20, 2.5, 8.5, name='x', label='$\\\\Delta\\\\eta_{jj} VBS$'),\n",
      "  storage=Double()) # Sum: 752.0, 'jets_lead': Hist(\n",
      "  StrCategory(['jets_lead'], name='channel'),\n",
      "  Regular(20, 50, 500, name='x', label='$leading VBS p_{T}^{j}$ [Gev]'),\n",
      "  storage=Double()) # Sum: 340.0 (752.0 with flow), 'jets_trail': Hist(\n",
      "  StrCategory(['jets_trail'], name='channel'),\n",
      "  Regular(14, 30, 250, name='x', label='$trailing VBS p_{T}^{j}$ [Gev]'),\n",
      "  storage=Double()) # Sum: 749.0 (752.0 with flow), 'LHE_HT': Hist(\n",
      "  StrCategory(['LHE_HT'], name='channel'),\n",
      "  Variable([70, 100, 200, 400, 600, 800, 1200, 2500, 3500], name='x', label='LHE HT'),\n",
      "  storage=Double()) # Sum: 752.0, 'Nsubj_t1': Hist(\n",
      "  StrCategory(['$t_{1}$'], name='channel'),\n",
      "  Regular(60, 0, 1, name='x', label='tau_1'),\n",
      "  storage=Double()) # Sum: 1173.0, 'Nsubj_t2': Hist(\n",
      "  StrCategory(['$t_{2}$'], name='channel'),\n",
      "  Regular(60, 0, 1, name='x', label='tau_2'),\n",
      "  storage=Double()) # Sum: 1173.0, 't_ratio': Hist(\n",
      "  StrCategory(['t_ratio'], name='channel'),\n",
      "  Regular(60, 0, 1, name='x', label='tau_r'),\n",
      "  storage=Double()) # Sum: 1173.0, 'pNet': Hist(\n",
      "  StrCategory(['pNet'], name='channel'),\n",
      "  Regular(60, 0, 1, name='x', label='WvsQCD'),\n",
      "  storage=Double()) # Sum: 1173.0}, 'bkg_WJets_600To800': {'entries': 5469, 'PuppiMET': Hist(\n",
      "  StrCategory(['PuppiMET'], name='channel'),\n",
      "  Regular(30, 30, 300, name='x', label='PuppiMET [GeV]'),\n",
      "  storage=Double()) # Sum: 4311.0 (5469.0 with flow), 'e_pT': Hist(\n",
      "  StrCategory(['e_pT'], name='channel'),\n",
      "  Regular(20, 35, 200, name='x', label='$p_{T}^{e}$ [GeV]'),\n",
      "  storage=Double()) # Sum: 5450.0 (5469.0 with flow), 'e_eta': Hist(\n",
      "  StrCategory(['e_eta'], name='channel'),\n",
      "  Regular(30, -2.5, 2.5, name='x', label='$\\\\eta^{e}$'),\n",
      "  storage=Double()) # Sum: 5401.0 (5469.0 with flow), 'fatjet_pT': Hist(\n",
      "  StrCategory(['fatjet_pT'], name='channel'),\n",
      "  Regular(20, 200, 600, name='x', label='$p_{T}^{W_{had}}$ [GeV]'),\n",
      "  storage=Double()) # Sum: 7482.0 (7733.0 with flow), 'fatjet_mass': Hist(\n",
      "  StrCategory(['fatjet_mass'], name='channel'),\n",
      "  Regular(20, 30, 150, name='x', label='$m^{W_{had}}$ [GeV]'),\n",
      "  storage=Double()) # Sum: 7698.0 (7733.0 with flow), 'jets_mass': Hist(\n",
      "  StrCategory(['jets_mass'], name='channel'),\n",
      "  Regular(24, 500, 3500, name='x', label='$m_{jj} VBS$ [GeV]'),\n",
      "  storage=Double()) # Sum: 5459.0 (5469.0 with flow), 'jets_eta': Hist(\n",
      "  StrCategory(['jets_eta'], name='channel'),\n",
      "  Regular(20, 2.5, 8.5, name='x', label='$\\\\Delta\\\\eta_{jj} VBS$'),\n",
      "  storage=Double()) # Sum: 5469.0, 'jets_lead': Hist(\n",
      "  StrCategory(['jets_lead'], name='channel'),\n",
      "  Regular(20, 50, 500, name='x', label='$leading VBS p_{T}^{j}$ [Gev]'),\n",
      "  storage=Double()) # Sum: 5023.0 (5469.0 with flow), 'jets_trail': Hist(\n",
      "  StrCategory(['jets_trail'], name='channel'),\n",
      "  Regular(14, 30, 250, name='x', label='$trailing VBS p_{T}^{j}$ [Gev]'),\n",
      "  storage=Double()) # Sum: 5463.0 (5469.0 with flow), 'LHE_HT': Hist(\n",
      "  StrCategory(['LHE_HT'], name='channel'),\n",
      "  Variable([70, 100, 200, 400, 600, 800, 1200, 2500, 3500], name='x', label='LHE HT'),\n",
      "  storage=Double()) # Sum: 5469.0, 'Nsubj_t1': Hist(\n",
      "  StrCategory(['$t_{1}$'], name='channel'),\n",
      "  Regular(60, 0, 1, name='x', label='tau_1'),\n",
      "  storage=Double()) # Sum: 7733.0, 'Nsubj_t2': Hist(\n",
      "  StrCategory(['$t_{2}$'], name='channel'),\n",
      "  Regular(60, 0, 1, name='x', label='tau_2'),\n",
      "  storage=Double()) # Sum: 7733.0, 't_ratio': Hist(\n",
      "  StrCategory(['t_ratio'], name='channel'),\n",
      "  Regular(60, 0, 1, name='x', label='tau_r'),\n",
      "  storage=Double()) # Sum: 7733.0, 'pNet': Hist(\n",
      "  StrCategory(['pNet'], name='channel'),\n",
      "  Regular(60, 0, 1, name='x', label='WvsQCD'),\n",
      "  storage=Double()) # Sum: 7733.0}, 'bkg_WJets_400To600': {'entries': 10826, 'PuppiMET': Hist(\n",
      "  StrCategory(['PuppiMET'], name='channel'),\n",
      "  Regular(30, 30, 300, name='x', label='PuppiMET [GeV]'),\n",
      "  storage=Double()) # Sum: 10219.0 (10826.0 with flow), 'e_pT': Hist(\n",
      "  StrCategory(['e_pT'], name='channel'),\n",
      "  Regular(20, 35, 200, name='x', label='$p_{T}^{e}$ [GeV]'),\n",
      "  storage=Double()) # Sum: 10788.0 (10826.0 with flow), 'e_eta': Hist(\n",
      "  StrCategory(['e_eta'], name='channel'),\n",
      "  Regular(30, -2.5, 2.5, name='x', label='$\\\\eta^{e}$'),\n",
      "  storage=Double()) # Sum: 10674.0 (10826.0 with flow), 'fatjet_pT': Hist(\n",
      "  StrCategory(['fatjet_pT'], name='channel'),\n",
      "  Regular(20, 200, 600, name='x', label='$p_{T}^{W_{had}}$ [GeV]'),\n",
      "  storage=Double()) # Sum: 13243.0, 'fatjet_mass': Hist(\n",
      "  StrCategory(['fatjet_mass'], name='channel'),\n",
      "  Regular(20, 30, 150, name='x', label='$m^{W_{had}}$ [GeV]'),\n",
      "  storage=Double()) # Sum: 13241.0 (13243.0 with flow), 'jets_mass': Hist(\n",
      "  StrCategory(['jets_mass'], name='channel'),\n",
      "  Regular(24, 500, 3500, name='x', label='$m_{jj} VBS$ [GeV]'),\n",
      "  storage=Double()) # Sum: 10817.0 (10826.0 with flow), 'jets_eta': Hist(\n",
      "  StrCategory(['jets_eta'], name='channel'),\n",
      "  Regular(20, 2.5, 8.5, name='x', label='$\\\\Delta\\\\eta_{jj} VBS$'),\n",
      "  storage=Double()) # Sum: 10822.0 (10826.0 with flow), 'jets_lead': Hist(\n",
      "  StrCategory(['jets_lead'], name='channel'),\n",
      "  Regular(20, 50, 500, name='x', label='$leading VBS p_{T}^{j}$ [Gev]'),\n",
      "  storage=Double()) # Sum: 10815.0 (10826.0 with flow), 'jets_trail': Hist(\n",
      "  StrCategory(['jets_trail'], name='channel'),\n",
      "  Regular(14, 30, 250, name='x', label='$trailing VBS p_{T}^{j}$ [Gev]'),\n",
      "  storage=Double()) # Sum: 10826.0, 'LHE_HT': Hist(\n",
      "  StrCategory(['LHE_HT'], name='channel'),\n",
      "  Variable([70, 100, 200, 400, 600, 800, 1200, 2500, 3500], name='x', label='LHE HT'),\n",
      "  storage=Double()) # Sum: 10826.0, 'Nsubj_t1': Hist(\n",
      "  StrCategory(['$t_{1}$'], name='channel'),\n",
      "  Regular(60, 0, 1, name='x', label='tau_1'),\n",
      "  storage=Double()) # Sum: 13243.0, 'Nsubj_t2': Hist(\n",
      "  StrCategory(['$t_{2}$'], name='channel'),\n",
      "  Regular(60, 0, 1, name='x', label='tau_2'),\n",
      "  storage=Double()) # Sum: 13243.0, 't_ratio': Hist(\n",
      "  StrCategory(['t_ratio'], name='channel'),\n",
      "  Regular(60, 0, 1, name='x', label='tau_r'),\n",
      "  storage=Double()) # Sum: 13243.0, 'pNet': Hist(\n",
      "  StrCategory(['pNet'], name='channel'),\n",
      "  Regular(60, 0, 1, name='x', label='WvsQCD'),\n",
      "  storage=Double()) # Sum: 13243.0}, 'bkg_WJets_200To400': {'entries': 12936, 'PuppiMET': Hist(\n",
      "  StrCategory(['PuppiMET'], name='channel'),\n",
      "  Regular(30, 30, 300, name='x', label='PuppiMET [GeV]'),\n",
      "  storage=Double()) # Sum: 12815.0 (12936.0 with flow), 'e_pT': Hist(\n",
      "  StrCategory(['e_pT'], name='channel'),\n",
      "  Regular(20, 35, 200, name='x', label='$p_{T}^{e}$ [GeV]'),\n",
      "  storage=Double()) # Sum: 12893.0 (12936.0 with flow), 'e_eta': Hist(\n",
      "  StrCategory(['e_eta'], name='channel'),\n",
      "  Regular(30, -2.5, 2.5, name='x', label='$\\\\eta^{e}$'),\n",
      "  storage=Double()) # Sum: 12745.0 (12936.0 with flow), 'fatjet_pT': Hist(\n",
      "  StrCategory(['fatjet_pT'], name='channel'),\n",
      "  Regular(20, 200, 600, name='x', label='$p_{T}^{W_{had}}$ [GeV]'),\n",
      "  storage=Double()) # Sum: 12514.0, 'fatjet_mass': Hist(\n",
      "  StrCategory(['fatjet_mass'], name='channel'),\n",
      "  Regular(20, 30, 150, name='x', label='$m^{W_{had}}$ [GeV]'),\n",
      "  storage=Double()) # Sum: 12514.0, 'jets_mass': Hist(\n",
      "  StrCategory(['jets_mass'], name='channel'),\n",
      "  Regular(24, 500, 3500, name='x', label='$m_{jj} VBS$ [GeV]'),\n",
      "  storage=Double()) # Sum: 12926.0 (12936.0 with flow), 'jets_eta': Hist(\n",
      "  StrCategory(['jets_eta'], name='channel'),\n",
      "  Regular(20, 2.5, 8.5, name='x', label='$\\\\Delta\\\\eta_{jj} VBS$'),\n",
      "  storage=Double()) # Sum: 12931.0 (12936.0 with flow), 'jets_lead': Hist(\n",
      "  StrCategory(['jets_lead'], name='channel'),\n",
      "  Regular(20, 50, 500, name='x', label='$leading VBS p_{T}^{j}$ [Gev]'),\n",
      "  storage=Double()) # Sum: 12936.0, 'jets_trail': Hist(\n",
      "  StrCategory(['jets_trail'], name='channel'),\n",
      "  Regular(14, 30, 250, name='x', label='$trailing VBS p_{T}^{j}$ [Gev]'),\n",
      "  storage=Double()) # Sum: 12936.0, 'LHE_HT': Hist(\n",
      "  StrCategory(['LHE_HT'], name='channel'),\n",
      "  Variable([70, 100, 200, 400, 600, 800, 1200, 2500, 3500], name='x', label='LHE HT'),\n",
      "  storage=Double()) # Sum: 12936.0, 'Nsubj_t1': Hist(\n",
      "  StrCategory(['$t_{1}$'], name='channel'),\n",
      "  Regular(60, 0, 1, name='x', label='tau_1'),\n",
      "  storage=Double()) # Sum: 12514.0, 'Nsubj_t2': Hist(\n",
      "  StrCategory(['$t_{2}$'], name='channel'),\n",
      "  Regular(60, 0, 1, name='x', label='tau_2'),\n",
      "  storage=Double()) # Sum: 12514.0, 't_ratio': Hist(\n",
      "  StrCategory(['t_ratio'], name='channel'),\n",
      "  Regular(60, 0, 1, name='x', label='tau_r'),\n",
      "  storage=Double()) # Sum: 12514.0, 'pNet': Hist(\n",
      "  StrCategory(['pNet'], name='channel'),\n",
      "  Regular(60, 0, 1, name='x', label='WvsQCD'),\n",
      "  storage=Double()) # Sum: 12514.0}, 'bkg_WJets_100To200': {'entries': 101, 'PuppiMET': Hist(\n",
      "  StrCategory(['PuppiMET'], name='channel'),\n",
      "  Regular(30, 30, 300, name='x', label='PuppiMET [GeV]'),\n",
      "  storage=Double()) # Sum: 101.0, 'e_pT': Hist(\n",
      "  StrCategory(['e_pT'], name='channel'),\n",
      "  Regular(20, 35, 200, name='x', label='$p_{T}^{e}$ [GeV]'),\n",
      "  storage=Double()) # Sum: 101.0, 'e_eta': Hist(\n",
      "  StrCategory(['e_eta'], name='channel'),\n",
      "  Regular(30, -2.5, 2.5, name='x', label='$\\\\eta^{e}$'),\n",
      "  storage=Double()) # Sum: 100.0 (101.0 with flow), 'fatjet_pT': Hist(\n",
      "  StrCategory(['fatjet_pT'], name='channel'),\n",
      "  Regular(20, 200, 600, name='x', label='$p_{T}^{W_{had}}$ [GeV]'),\n",
      "  storage=Double()) # Sum: 85.0, 'fatjet_mass': Hist(\n",
      "  StrCategory(['fatjet_mass'], name='channel'),\n",
      "  Regular(20, 30, 150, name='x', label='$m^{W_{had}}$ [GeV]'),\n",
      "  storage=Double()) # Sum: 85.0, 'jets_mass': Hist(\n",
      "  StrCategory(['jets_mass'], name='channel'),\n",
      "  Regular(24, 500, 3500, name='x', label='$m_{jj} VBS$ [GeV]'),\n",
      "  storage=Double()) # Sum: 101.0, 'jets_eta': Hist(\n",
      "  StrCategory(['jets_eta'], name='channel'),\n",
      "  Regular(20, 2.5, 8.5, name='x', label='$\\\\Delta\\\\eta_{jj} VBS$'),\n",
      "  storage=Double()) # Sum: 101.0, 'jets_lead': Hist(\n",
      "  StrCategory(['jets_lead'], name='channel'),\n",
      "  Regular(20, 50, 500, name='x', label='$leading VBS p_{T}^{j}$ [Gev]'),\n",
      "  storage=Double()) # Sum: 101.0, 'jets_trail': Hist(\n",
      "  StrCategory(['jets_trail'], name='channel'),\n",
      "  Regular(14, 30, 250, name='x', label='$trailing VBS p_{T}^{j}$ [Gev]'),\n",
      "  storage=Double()) # Sum: 101.0, 'LHE_HT': Hist(\n",
      "  StrCategory(['LHE_HT'], name='channel'),\n",
      "  Variable([70, 100, 200, 400, 600, 800, 1200, 2500, 3500], name='x', label='LHE HT'),\n",
      "  storage=Double()) # Sum: 101.0, 'Nsubj_t1': Hist(\n",
      "  StrCategory(['$t_{1}$'], name='channel'),\n",
      "  Regular(60, 0, 1, name='x', label='tau_1'),\n",
      "  storage=Double()) # Sum: 85.0, 'Nsubj_t2': Hist(\n",
      "  StrCategory(['$t_{2}$'], name='channel'),\n",
      "  Regular(60, 0, 1, name='x', label='tau_2'),\n",
      "  storage=Double()) # Sum: 85.0, 't_ratio': Hist(\n",
      "  StrCategory(['t_ratio'], name='channel'),\n",
      "  Regular(60, 0, 1, name='x', label='tau_r'),\n",
      "  storage=Double()) # Sum: 85.0, 'pNet': Hist(\n",
      "  StrCategory(['pNet'], name='channel'),\n",
      "  Regular(60, 0, 1, name='x', label='WvsQCD'),\n",
      "  storage=Double()) # Sum: 85.0}, 'bkg_WJets_70To100': {'entries': 21, 'PuppiMET': Hist(\n",
      "  StrCategory(['PuppiMET'], name='channel'),\n",
      "  Regular(30, 30, 300, name='x', label='PuppiMET [GeV]'),\n",
      "  storage=Double()) # Sum: 20.0 (21.0 with flow), 'e_pT': Hist(\n",
      "  StrCategory(['e_pT'], name='channel'),\n",
      "  Regular(20, 35, 200, name='x', label='$p_{T}^{e}$ [GeV]'),\n",
      "  storage=Double()) # Sum: 21.0, 'e_eta': Hist(\n",
      "  StrCategory(['e_eta'], name='channel'),\n",
      "  Regular(30, -2.5, 2.5, name='x', label='$\\\\eta^{e}$'),\n",
      "  storage=Double()) # Sum: 21.0, 'fatjet_pT': Hist(\n",
      "  StrCategory(['fatjet_pT'], name='channel'),\n",
      "  Regular(20, 200, 600, name='x', label='$p_{T}^{W_{had}}$ [GeV]'),\n",
      "  storage=Double()) # Sum: 15.0, 'fatjet_mass': Hist(\n",
      "  StrCategory(['fatjet_mass'], name='channel'),\n",
      "  Regular(20, 30, 150, name='x', label='$m^{W_{had}}$ [GeV]'),\n",
      "  storage=Double()) # Sum: 15.0, 'jets_mass': Hist(\n",
      "  StrCategory(['jets_mass'], name='channel'),\n",
      "  Regular(24, 500, 3500, name='x', label='$m_{jj} VBS$ [GeV]'),\n",
      "  storage=Double()) # Sum: 21.0, 'jets_eta': Hist(\n",
      "  StrCategory(['jets_eta'], name='channel'),\n",
      "  Regular(20, 2.5, 8.5, name='x', label='$\\\\Delta\\\\eta_{jj} VBS$'),\n",
      "  storage=Double()) # Sum: 21.0, 'jets_lead': Hist(\n",
      "  StrCategory(['jets_lead'], name='channel'),\n",
      "  Regular(20, 50, 500, name='x', label='$leading VBS p_{T}^{j}$ [Gev]'),\n",
      "  storage=Double()) # Sum: 21.0, 'jets_trail': Hist(\n",
      "  StrCategory(['jets_trail'], name='channel'),\n",
      "  Regular(14, 30, 250, name='x', label='$trailing VBS p_{T}^{j}$ [Gev]'),\n",
      "  storage=Double()) # Sum: 21.0, 'LHE_HT': Hist(\n",
      "  StrCategory(['LHE_HT'], name='channel'),\n",
      "  Variable([70, 100, 200, 400, 600, 800, 1200, 2500, 3500], name='x', label='LHE HT'),\n",
      "  storage=Double()) # Sum: 21.0, 'Nsubj_t1': Hist(\n",
      "  StrCategory(['$t_{1}$'], name='channel'),\n",
      "  Regular(60, 0, 1, name='x', label='tau_1'),\n",
      "  storage=Double()) # Sum: 15.0, 'Nsubj_t2': Hist(\n",
      "  StrCategory(['$t_{2}$'], name='channel'),\n",
      "  Regular(60, 0, 1, name='x', label='tau_2'),\n",
      "  storage=Double()) # Sum: 15.0, 't_ratio': Hist(\n",
      "  StrCategory(['t_ratio'], name='channel'),\n",
      "  Regular(60, 0, 1, name='x', label='tau_r'),\n",
      "  storage=Double()) # Sum: 15.0, 'pNet': Hist(\n",
      "  StrCategory(['pNet'], name='channel'),\n",
      "  Regular(60, 0, 1, name='x', label='WvsQCD'),\n",
      "  storage=Double()) # Sum: 15.0}, 'bkg_WJets': {'entries': 214, 'PuppiMET': Hist(\n",
      "  StrCategory(['PuppiMET'], name='channel'),\n",
      "  Regular(30, 30, 300, name='x', label='PuppiMET [GeV]'),\n",
      "  storage=Double()) # Sum: 207.0 (214.0 with flow), 'e_pT': Hist(\n",
      "  StrCategory(['e_pT'], name='channel'),\n",
      "  Regular(20, 35, 200, name='x', label='$p_{T}^{e}$ [GeV]'),\n",
      "  storage=Double()) # Sum: 214.0, 'e_eta': Hist(\n",
      "  StrCategory(['e_eta'], name='channel'),\n",
      "  Regular(30, -2.5, 2.5, name='x', label='$\\\\eta^{e}$'),\n",
      "  storage=Double()) # Sum: 210.0 (214.0 with flow), 'fatjet_pT': Hist(\n",
      "  StrCategory(['fatjet_pT'], name='channel'),\n",
      "  Regular(20, 200, 600, name='x', label='$p_{T}^{W_{had}}$ [GeV]'),\n",
      "  storage=Double()) # Sum: 214.0, 'fatjet_mass': Hist(\n",
      "  StrCategory(['fatjet_mass'], name='channel'),\n",
      "  Regular(20, 30, 150, name='x', label='$m^{W_{had}}$ [GeV]'),\n",
      "  storage=Double()) # Sum: 214.0, 'jets_mass': Hist(\n",
      "  StrCategory(['jets_mass'], name='channel'),\n",
      "  Regular(24, 500, 3500, name='x', label='$m_{jj} VBS$ [GeV]'),\n",
      "  storage=Double()) # Sum: 214.0, 'jets_eta': Hist(\n",
      "  StrCategory(['jets_eta'], name='channel'),\n",
      "  Regular(20, 2.5, 8.5, name='x', label='$\\\\Delta\\\\eta_{jj} VBS$'),\n",
      "  storage=Double()) # Sum: 214.0, 'jets_lead': Hist(\n",
      "  StrCategory(['jets_lead'], name='channel'),\n",
      "  Regular(20, 50, 500, name='x', label='$leading VBS p_{T}^{j}$ [Gev]'),\n",
      "  storage=Double()) # Sum: 214.0, 'jets_trail': Hist(\n",
      "  StrCategory(['jets_trail'], name='channel'),\n",
      "  Regular(14, 30, 250, name='x', label='$trailing VBS p_{T}^{j}$ [Gev]'),\n",
      "  storage=Double()) # Sum: 214.0, 'LHE_HT': Hist(\n",
      "  StrCategory(['LHE_HT'], name='channel'),\n",
      "  Variable([70, 100, 200, 400, 600, 800, 1200, 2500, 3500], name='x', label='LHE HT'),\n",
      "  storage=Double()) # Sum: 209.0 (214.0 with flow), 'Nsubj_t1': Hist(\n",
      "  StrCategory(['$t_{1}$'], name='channel'),\n",
      "  Regular(60, 0, 1, name='x', label='tau_1'),\n",
      "  storage=Double()) # Sum: 214.0, 'Nsubj_t2': Hist(\n",
      "  StrCategory(['$t_{2}$'], name='channel'),\n",
      "  Regular(60, 0, 1, name='x', label='tau_2'),\n",
      "  storage=Double()) # Sum: 214.0, 't_ratio': Hist(\n",
      "  StrCategory(['t_ratio'], name='channel'),\n",
      "  Regular(60, 0, 1, name='x', label='tau_r'),\n",
      "  storage=Double()) # Sum: 214.0, 'pNet': Hist(\n",
      "  StrCategory(['pNet'], name='channel'),\n",
      "  Regular(60, 0, 1, name='x', label='WvsQCD'),\n",
      "  storage=Double()) # Sum: 214.0}, 'sig_WWjj_4f_EWK': {'entries': 3630, 'PuppiMET': Hist(\n",
      "  StrCategory(['PuppiMET'], name='channel'),\n",
      "  Regular(30, 30, 300, name='x', label='PuppiMET [GeV]'),\n",
      "  storage=Double()) # Sum: 3223.0 (3630.0 with flow), 'e_pT': Hist(\n",
      "  StrCategory(['e_pT'], name='channel'),\n",
      "  Regular(20, 35, 200, name='x', label='$p_{T}^{e}$ [GeV]'),\n",
      "  storage=Double()) # Sum: 3621.0 (3630.0 with flow), 'e_eta': Hist(\n",
      "  StrCategory(['e_eta'], name='channel'),\n",
      "  Regular(30, -2.5, 2.5, name='x', label='$\\\\eta^{e}$'),\n",
      "  storage=Double()) # Sum: 3614.0 (3630.0 with flow), 'fatjet_pT': Hist(\n",
      "  StrCategory(['fatjet_pT'], name='channel'),\n",
      "  Regular(20, 200, 600, name='x', label='$p_{T}^{W_{had}}$ [GeV]'),\n",
      "  storage=Double()) # Sum: 4095.0 (4178.0 with flow), 'fatjet_mass': Hist(\n",
      "  StrCategory(['fatjet_mass'], name='channel'),\n",
      "  Regular(20, 30, 150, name='x', label='$m^{W_{had}}$ [GeV]'),\n",
      "  storage=Double()) # Sum: 4178.0, 'jets_mass': Hist(\n",
      "  StrCategory(['jets_mass'], name='channel'),\n",
      "  Regular(24, 500, 3500, name='x', label='$m_{jj} VBS$ [GeV]'),\n",
      "  storage=Double()) # Sum: 3579.0 (3630.0 with flow), 'jets_eta': Hist(\n",
      "  StrCategory(['jets_eta'], name='channel'),\n",
      "  Regular(20, 2.5, 8.5, name='x', label='$\\\\Delta\\\\eta_{jj} VBS$'),\n",
      "  storage=Double()) # Sum: 3622.0 (3630.0 with flow), 'jets_lead': Hist(\n",
      "  StrCategory(['jets_lead'], name='channel'),\n",
      "  Regular(20, 50, 500, name='x', label='$leading VBS p_{T}^{j}$ [Gev]'),\n",
      "  storage=Double()) # Sum: 3514.0 (3630.0 with flow), 'jets_trail': Hist(\n",
      "  StrCategory(['jets_trail'], name='channel'),\n",
      "  Regular(14, 30, 250, name='x', label='$trailing VBS p_{T}^{j}$ [Gev]'),\n",
      "  storage=Double()) # Sum: 3630.0, 'LHE_HT': Hist(\n",
      "  StrCategory(['LHE_HT'], name='channel'),\n",
      "  Variable([70, 100, 200, 400, 600, 800, 1200, 2500, 3500], name='x', label='LHE HT'),\n",
      "  storage=Double()) # Sum: 3630.0, 'Nsubj_t1': Hist(\n",
      "  StrCategory(['$t_{1}$'], name='channel'),\n",
      "  Regular(60, 0, 1, name='x', label='tau_1'),\n",
      "  storage=Double()) # Sum: 4178.0, 'Nsubj_t2': Hist(\n",
      "  StrCategory(['$t_{2}$'], name='channel'),\n",
      "  Regular(60, 0, 1, name='x', label='tau_2'),\n",
      "  storage=Double()) # Sum: 4178.0, 't_ratio': Hist(\n",
      "  StrCategory(['t_ratio'], name='channel'),\n",
      "  Regular(60, 0, 1, name='x', label='tau_r'),\n",
      "  storage=Double()) # Sum: 4178.0, 'pNet': Hist(\n",
      "  StrCategory(['pNet'], name='channel'),\n",
      "  Regular(60, 0, 1, name='x', label='WvsQCD'),\n",
      "  storage=Double()) # Sum: 4178.0}}\n"
     ]
    }
   ],
   "source": [
    "#Clock\n",
    "tstart = time.time()\n",
    "\n",
    "#The processor to run the executor to use\n",
    "futures_run = processor.Runner(\n",
    "    executor = processor.FuturesExecutor(compression=None, workers=4),\n",
    "    #In the previous line, we can then set the the number of cores to use as argument of the FuturesExecutor \n",
    "    schema=NanoAODSchema,\n",
    "    #Coffea will split your data into chunks of many events.\n",
    "    #chunksize=200_000 #default 100_000\n",
    "    #maxchunks argument will stop the analysis after a certain number of chunks are reached\n",
    "    #maxchunks=10,\n",
    ")\n",
    "\n",
    "out = futures_run(\n",
    "    \"fileset.json\", #Fileset to read\n",
    "    \"Events\", #Name of the TTree in the root file\n",
    "    processor_instance=MyProcessor()\n",
    ")\n",
    "\n",
    "elapsed = time.time() - tstart\n",
    "print(\"Running time = {} s\".format(elapsed))\n",
    "#print(out)"
   ]
  },
  {
   "cell_type": "code",
   "execution_count": 60,
   "id": "c2945d08",
   "metadata": {},
   "outputs": [
    {
     "name": "stdout",
     "output_type": "stream",
     "text": [
      "Total time = 18269.539573431015 s\n"
     ]
    }
   ],
   "source": [
    "#2018 Luminosity\n",
    "lumi_2018 = 59.74 #fb-1\n",
    "\n",
    "#Signal cross sections\n",
    "xs_sig_WPHADWMLEPjj_4f_EWK = 0.9107\n",
    "xs_sig_WPLEPWMHADjj_4f_EWK = 0.9114\n",
    "xs_sig = xs_sig_WPHADWMLEPjj_4f_EWK + xs_sig_WPLEPWMHADjj_4f_EWK\n",
    "\n",
    "#Background WJets cross sections\n",
    "xs_WJets = 61526.7 #pb\n",
    "xs_WJets_70To100 = 1292.0\n",
    "xs_WJets_100To200 = 1395.0\n",
    "xs_WJets_200To400 = 407.9\n",
    "xs_WJets_400To600 = 57.48\n",
    "xs_WJets_600To800 = 18.77\n",
    "xs_WJets_800To1200 = 5.366\n",
    "xs_WJets_1200To2500 = 1.074\n",
    "xs_WJets_2500ToInf = 0.008001"
   ]
  },
  {
   "cell_type": "code",
   "execution_count": 5,
   "id": "3aff16af",
   "metadata": {},
   "outputs": [
    {
     "name": "stdout",
     "output_type": "stream",
     "text": [
      "3630\n"
     ]
    },
    {
     "data": {
      "text/plain": [
       "Text(0.5, 1.0, 'PuppiMET distribution')"
      ]
     },
     "execution_count": 5,
     "metadata": {},
     "output_type": "execute_result"
    },
    {
     "data": {
      "image/png": "[encoded data removed]",
      "text/plain": [
       "<Figure size 432x288 with 1 Axes>"
      ]
     },
     "metadata": {
      "needs_background": "light"
     },
     "output_type": "display_data"
    }
   ],
   "source": [
    "print(out[\"sig_WWjj_4f_EWK\"][\"entries\"])\n",
    "(out[\"sig_WWjj_4f_EWK\"][\"PuppiMET\"]/out[\"sig_WWjj_4f_EWK\"][\"entries\"]).plot()\n",
    "plt.xlabel(\"PuppiMET [GeV]\")\n",
    "#plt.ylabel(\"counts\")\n",
    "plt.title(\"PuppiMET distribution\")"
   ]
  },
  {
   "cell_type": "code",
   "execution_count": 8,
   "id": "68650ad2",
   "metadata": {},
   "outputs": [
    {
     "data": {
      "text/plain": [
       "Text(0.5, 1.0, 'electron $p_{T}$ distribution')"
      ]
     },
     "execution_count": 8,
     "metadata": {},
     "output_type": "execute_result"
    },
    {
     "data": {
      "image/png": "[encoded data removed]",
      "text/plain": [
       "<Figure size 432x288 with 1 Axes>"
      ]
     },
     "metadata": {
      "needs_background": "light"
     },
     "output_type": "display_data"
    }
   ],
   "source": [
    "(out[\"sig_WWjj_4f_EWK\"][\"e_pT\"]/out[\"sig_WWjj_4f_EWK\"][\"entries\"]).plot()\n",
    "plt.xlabel(\"$p_{T}^{e}$ [GeV]\")\n",
    "#plt.ylabel(\"counts\")\n",
    "plt.title(\"electron $p_{T}$ distribution\")"
   ]
  },
  {
   "cell_type": "code",
   "execution_count": 9,
   "id": "c57d6496",
   "metadata": {},
   "outputs": [
    {
     "data": {
      "text/plain": [
       "Text(0.5, 1.0, 'electron $\\\\eta$ distribution')"
      ]
     },
     "execution_count": 9,
     "metadata": {},
     "output_type": "execute_result"
    },
    {
     "data": {
      "image/png": "[encoded data removed]",
      "text/plain": [
       "<Figure size 432x288 with 1 Axes>"
      ]
     },
     "metadata": {
      "needs_background": "light"
     },
     "output_type": "display_data"
    }
   ],
   "source": [
    "(out[\"sig_WWjj_4f_EWK\"][\"e_eta\"]/out[\"sig_WWjj_4f_EWK\"][\"entries\"]).plot()\n",
    "#plt.ylabel(\"counts\")\n",
    "plt.title(\"electron $\\eta$ distribution\")"
   ]
  },
  {
   "cell_type": "code",
   "execution_count": 10,
   "id": "900d20a6",
   "metadata": {},
   "outputs": [
    {
     "data": {
      "text/plain": [
       "Text(0.5, 1.0, 'AK8 jet distribution')"
      ]
     },
     "execution_count": 10,
     "metadata": {},
     "output_type": "execute_result"
    },
    {
     "data": {
      "image/png": "[encoded data removed]",
      "text/plain": [
       "<Figure size 432x288 with 1 Axes>"
      ]
     },
     "metadata": {
      "needs_background": "light"
     },
     "output_type": "display_data"
    }
   ],
   "source": [
    "(out[\"sig_WWjj_4f_EWK\"][\"fatjet_pT\"]/out[\"sig_WWjj_4f_EWK\"][\"entries\"]).plot()\n",
    "plt.xlabel(\"$p_{T}^{W_{had}}$ [GeV]\")\n",
    "#plt.ylabel(\"counts\")\n",
    "plt.title(\"AK8 jet distribution\")"
   ]
  },
  {
   "cell_type": "code",
   "execution_count": 86,
   "id": "0c655708",
   "metadata": {},
   "outputs": [
    {
     "data": {
      "text/plain": [
       "Text(0.5, 1.0, 'AK8 jet distribution')"
      ]
     },
     "execution_count": 86,
     "metadata": {},
     "output_type": "execute_result"
    },
    {
     "data": {
      "image/png": "[encoded data removed]",
      "text/plain": [
       "<Figure size 432x288 with 1 Axes>"
      ]
     },
     "metadata": {
      "needs_background": "light"
     },
     "output_type": "display_data"
    }
   ],
   "source": [
    "(out[\"sig_WWjj_4f_EWK\"][\"fatjet_mass\"]/out[\"sig_WWjj_4f_EWK\"][\"entries\"]).plot()\n",
    "plt.xlabel(\"$m_{SD}$ [GeV]\")\n",
    "#plt.ylabel(\"counts\")\n",
    "plt.title(\"AK8 jet distribution\")"
   ]
  },
  {
   "cell_type": "code",
   "execution_count": 14,
   "id": "bcd1dfc8",
   "metadata": {},
   "outputs": [
    {
     "data": {
      "text/plain": [
       "Text(0.5, 1.0, 'VBS $m_{jj}$ distribution')"
      ]
     },
     "execution_count": 14,
     "metadata": {},
     "output_type": "execute_result"
    },
    {
     "data": {
      "image/png": "[encoded data removed]",
      "text/plain": [
       "<Figure size 432x288 with 1 Axes>"
      ]
     },
     "metadata": {
      "needs_background": "light"
     },
     "output_type": "display_data"
    }
   ],
   "source": [
    "(out[\"sig_WWjj_4f_EWK\"][\"jets_mass\"]/out[\"sig_WWjj_4f_EWK\"][\"entries\"]).plot()\n",
    "plt.xlabel(\"$m_{jj}$ [GeV]\")\n",
    "#plt.ylabel(\"counts\")\n",
    "plt.yscale(\"log\")\n",
    "plt.title(\"VBS $m_{jj}$ distribution\")"
   ]
  },
  {
   "cell_type": "code",
   "execution_count": 15,
   "id": "2ab4eb56",
   "metadata": {},
   "outputs": [
    {
     "data": {
      "text/plain": [
       "Text(0.5, 1.0, '$\\\\Delta\\\\eta$ VBS jets')"
      ]
     },
     "execution_count": 15,
     "metadata": {},
     "output_type": "execute_result"
    },
    {
     "data": {
      "image/png": "[encoded data removed]",
      "text/plain": [
       "<Figure size 432x288 with 1 Axes>"
      ]
     },
     "metadata": {
      "needs_background": "light"
     },
     "output_type": "display_data"
    }
   ],
   "source": [
    "(out[\"sig_WWjj_4f_EWK\"][\"jets_eta\"]/out[\"sig_WWjj_4f_EWK\"][\"entries\"]).plot()\n",
    "plt.xlabel(\"$\\Delta\\eta_{jj} \\ VBS$\")\n",
    "#plt.ylabel(\"counts\")\n",
    "plt.title(\"$\\Delta\\eta$ VBS jets\")"
   ]
  },
  {
   "cell_type": "code",
   "execution_count": 16,
   "id": "4a272981",
   "metadata": {},
   "outputs": [
    {
     "data": {
      "text/plain": [
       "Text(0.5, 1.0, 'Leading VBS jet $p_{T}$')"
      ]
     },
     "execution_count": 16,
     "metadata": {},
     "output_type": "execute_result"
    },
    {
     "data": {
      "image/png": "[encoded data removed]",
      "text/plain": [
       "<Figure size 432x288 with 1 Axes>"
      ]
     },
     "metadata": {
      "needs_background": "light"
     },
     "output_type": "display_data"
    }
   ],
   "source": [
    "(out[\"sig_WWjj_4f_EWK\"][\"jets_lead\"]/out[\"sig_WWjj_4f_EWK\"][\"entries\"]).plot()\n",
    "plt.xlabel(\"$leading \\ VBS \\ p_{T}^{jet}$ [Gev]\")\n",
    "#plt.ylabel(\"counts\")\n",
    "plt.title(\"Leading VBS jet $p_{T}$\")"
   ]
  },
  {
   "cell_type": "code",
   "execution_count": 17,
   "id": "3850ebaa",
   "metadata": {},
   "outputs": [
    {
     "data": {
      "text/plain": [
       "Text(0.5, 1.0, 'Trailing VBS jet $p_{T}$')"
      ]
     },
     "execution_count": 17,
     "metadata": {},
     "output_type": "execute_result"
    },
    {
     "data": {
      "image/png": "[encoded data removed]",
      "text/plain": [
       "<Figure size 432x288 with 1 Axes>"
      ]
     },
     "metadata": {
      "needs_background": "light"
     },
     "output_type": "display_data"
    }
   ],
   "source": [
    "(out[\"sig_WWjj_4f_EWK\"][\"jets_trail\"]/out[\"sig_WWjj_4f_EWK\"][\"entries\"]).plot()\n",
    "plt.xlabel(\"$trailing \\ VBS \\ p_{T}^{jet}$ [Gev]\")\n",
    "#plt.ylabel(\"counts\")\n",
    "plt.yscale(\"log\")\n",
    "plt.title(\"Trailing VBS jet $p_{T}$\")"
   ]
  },
  {
   "cell_type": "code",
   "execution_count": 129,
   "id": "3f6c92bf",
   "metadata": {},
   "outputs": [
    {
     "data": {
      "text/plain": [
       "<matplotlib.legend.Legend at 0x7f0f914a6940>"
      ]
     },
     "execution_count": 129,
     "metadata": {},
     "output_type": "execute_result"
    },
    {
     "data": {
      "image/png": "[encoded data removed]",
      "text/plain": [
       "<Figure size 432x288 with 1 Axes>"
      ]
     },
     "metadata": {
      "needs_background": "light"
     },
     "output_type": "display_data"
    }
   ],
   "source": [
    "(out[\"sig_WWjj_4f_EWK\"][\"Nsubj_t1\"]/out[\"sig_WWjj_4f_EWK\"][\"Nsubj_t1\"].sum()).plot()\n",
    "(out[\"bkg_WJets\"][\"Nsubj_t1\"]/out[\"bkg_WJets\"][\"Nsubj_t1\"].sum()).plot()\n",
    "plt.title(\"70 GeV < $m_{SD}$ < 115 GeV\")\n",
    "plt.xlabel(\"$\\\\tau_{1}$\")\n",
    "plt.ylabel(\"relative occurrence\")\n",
    "plt.legend([\"W->e$\\\\nu$ + W->2j Sig\", \"W->e$\\\\nu$ + Jets Bkg\"])"
   ]
  },
  {
   "cell_type": "code",
   "execution_count": 130,
   "id": "248c7cd1",
   "metadata": {},
   "outputs": [
    {
     "data": {
      "text/plain": [
       "<matplotlib.legend.Legend at 0x7f0f91fa69d0>"
      ]
     },
     "execution_count": 130,
     "metadata": {},
     "output_type": "execute_result"
    },
    {
     "data": {
      "image/png": "[encoded data removed]",
      "text/plain": [
       "<Figure size 432x288 with 1 Axes>"
      ]
     },
     "metadata": {
      "needs_background": "light"
     },
     "output_type": "display_data"
    }
   ],
   "source": [
    "(out[\"sig_WWjj_4f_EWK\"][\"Nsubj_t2\"]/out[\"sig_WWjj_4f_EWK\"][\"Nsubj_t2\"].sum()).plot()\n",
    "(out[\"bkg_WJets\"][\"Nsubj_t2\"]/out[\"bkg_WJets\"][\"Nsubj_t2\"].sum()).plot()\n",
    "plt.title(\"70 GeV < $m_{SD}$ < 115 GeV\")\n",
    "plt.xlabel(\"$\\\\tau_{2}$\")\n",
    "plt.ylabel(\"relative occurrence\")\n",
    "plt.legend([\"W->e$\\\\nu$ + W->2j Sig\", \"W->e$\\\\nu$ + Jets Bkg\"])"
   ]
  },
  {
   "cell_type": "code",
   "execution_count": 132,
   "id": "412d229e",
   "metadata": {},
   "outputs": [
    {
     "data": {
      "text/plain": [
       "<matplotlib.legend.Legend at 0x7f0f90d78af0>"
      ]
     },
     "execution_count": 132,
     "metadata": {},
     "output_type": "execute_result"
    },
    {
     "data": {
      "image/png": "[encoded data removed]",
      "text/plain": [
       "<Figure size 432x288 with 1 Axes>"
      ]
     },
     "metadata": {
      "needs_background": "light"
     },
     "output_type": "display_data"
    }
   ],
   "source": [
    "h_s_t = out[\"sig_WWjj_4f_EWK\"][\"t_ratio\"]/(out[\"sig_WWjj_4f_EWK\"][\"t_ratio\"].sum())\n",
    "h_s_t.plot()\n",
    "h_b_t = out[\"bkg_WJets\"][\"t_ratio\"]/(out[\"bkg_WJets\"][\"t_ratio\"].sum())\n",
    "h_b_t.plot()\n",
    "plt.title(\"70 GeV < $m_{SD}$ < 115 GeV\")\n",
    "plt.xlabel(\"$\\\\tau_{2}/\\\\tau_{1}$\")\n",
    "plt.ylabel(\"relative occurrence\")\n",
    "plt.legend([\"W->e$\\\\nu$ + W->2j Sig\", \"W->e$\\\\nu$ + Jets Bkg\"])"
   ]
  },
  {
   "cell_type": "code",
   "execution_count": 136,
   "id": "1c516095",
   "metadata": {},
   "outputs": [
    {
     "data": {
      "text/plain": [
       "<matplotlib.legend.Legend at 0x7f0f903dcc70>"
      ]
     },
     "execution_count": 136,
     "metadata": {},
     "output_type": "execute_result"
    },
    {
     "data": {
      "image/png": "[encoded data removed]",
      "text/plain": [
       "<Figure size 432x288 with 1 Axes>"
      ]
     },
     "metadata": {
      "needs_background": "light"
     },
     "output_type": "display_data"
    }
   ],
   "source": [
    "h_s_p = out[\"sig_WWjj_4f_EWK\"][\"pNet\"]/(out[\"sig_WWjj_4f_EWK\"][\"pNet\"].sum())\n",
    "h_s_p.plot()\n",
    "h_b_p = out[\"bkg_WJets\"][\"pNet\"]/(out[\"bkg_WJets\"][\"pNet\"].sum())\n",
    "h_b_p.plot()\n",
    "plt.title(\"70 GeV < $m_{SD}$ < 115 GeV\")\n",
    "plt.xlabel(\"WvsQCD score\")\n",
    "plt.ylabel(\"relative occurrence\")\n",
    "plt.yscale(\"log\")\n",
    "plt.legend([\"W->e$\\\\nu$ + W->2j Sig\", \"W->e$\\\\nu$ + Jets Bkg\"], loc =\"upper left\")"
   ]
  },
  {
   "cell_type": "code",
   "execution_count": 147,
   "id": "0c619fe0",
   "metadata": {},
   "outputs": [
    {
     "data": {
      "text/plain": [
       "<matplotlib.legend.Legend at 0x7f0f8fac1e20>"
      ]
     },
     "execution_count": 147,
     "metadata": {},
     "output_type": "execute_result"
    },
    {
     "data": {
      "image/png": "[encoded data removed]",
      "text/plain": [
       "<Figure size 432x288 with 1 Axes>"
      ]
     },
     "metadata": {
      "needs_background": "light"
     },
     "output_type": "display_data"
    }
   ],
   "source": [
    "#Initialize counters to integrate the histograms\n",
    "s_t, b_t, s_p, b_p = [0, 0, 0, 0]\n",
    "#Initialize lists to store the values of the integration\n",
    "x_s_t = [] #signal t_ratio\n",
    "y_b_t = [] #background t_ratio\n",
    "x_s_p = [] #signal pNet\n",
    "y_b_p = [] #background pNet\n",
    "\n",
    "#Loop over the bins of the histograms to integrate\n",
    "for i in range(len(h_s_t.counts().flatten())): #len(h_s_t.counts().flatten()) is the number of bins of the histogram \n",
    "    s_t = s_t + h_s_t.counts().flatten()[i]\n",
    "    if i%2 == 0: x_s_t.append(s_t) #Don't store all points because too close \n",
    "    b_t = b_t + h_b_t.counts().flatten()[i]\n",
    "    if i%2 == 0: y_b_t.append(b_t)\n",
    "    #For pNet, I integrate from the upper edge\n",
    "    k=(len(h_s_t.counts().flatten())-1)-i #Attention, the last bin is nbin-1!\n",
    "    s_p = s_p + h_s_p.counts().flatten()[k]\n",
    "    if i%2 == 0: x_s_p.append(s_p)\n",
    "    b_p = b_p + h_b_p.counts().flatten()[k]\n",
    "    if i%2 == 0: y_b_p.append(b_p)\n",
    "\n",
    "#Plotting the results in a graph\n",
    "plt.plot(x_s_t, y_b_t, label= \"t_ratio\", color='green', linestyle='dashed', linewidth = 2,\n",
    "         marker='o', markerfacecolor='blue', markersize=6)\n",
    "plt.plot(x_s_p, y_b_p, label= \"pNet\", color='green', linestyle='dashed', linewidth = 2,\n",
    "         marker='o', markerfacecolor='red', markersize=6)\n",
    "plt.xlim([0.25, 1.05])\n",
    "plt.title(\"70 GeV < $m_{SD}$ < 115 GeV\")\n",
    "plt.xlabel(\"Signal Efficiency\")\n",
    "plt.ylim([0.07, 1.1])\n",
    "plt.yscale(\"log\")\n",
    "plt.ylabel(\"Background Efficiency\")\n",
    "plt.text(0.74,0.12,\"W boson vs QCD\")\n",
    "plt.text(0.7,0.1,\"W->e$\\\\nu$ + W->2j Signal\")\n",
    "plt.text(0.68,0.082,\"W->e$\\\\nu$ + Jets Background\")\n",
    "plt.legend()"
   ]
  },
  {
   "cell_type": "code",
   "execution_count": 59,
   "id": "220e94f4",
   "metadata": {
    "scrolled": true
   },
   "outputs": [
    {
     "data": {
      "text/plain": [
       "<matplotlib.legend.Legend at 0x7f0f939f4130>"
      ]
     },
     "execution_count": 59,
     "metadata": {},
     "output_type": "execute_result"
    },
    {
     "data": {
      "image/png": "[encoded data removed]",
      "text/plain": [
       "<Figure size 432x288 with 1 Axes>"
      ]
     },
     "metadata": {
      "needs_background": "light"
     },
     "output_type": "display_data"
    }
   ],
   "source": [
    "#Now, instead of the W+jets inclusive sample, I use the HT binned samples\n",
    "#(out[\"bkg_WJets\"][\"LHE_HT\"]*lumi_2018*1000*xs_WJets/out[\"bkg_WJets\"][\"entries\"]).plot()\n",
    "h_HT_1 = out[\"bkg_WJets_70To100\"][\"LHE_HT\"]*lumi_2018*1000*xs_WJets_70To100/out[\"bkg_WJets_70To100\"][\"entries\"]\n",
    "h_HT_2 = out[\"bkg_WJets_100To200\"][\"LHE_HT\"]*lumi_2018*1000*xs_WJets_100To200/out[\"bkg_WJets_100To200\"][\"entries\"]\n",
    "h_HT_3 = out[\"bkg_WJets_200To400\"][\"LHE_HT\"]*lumi_2018*1000*xs_WJets_200To400/out[\"bkg_WJets_200To400\"][\"entries\"]\n",
    "h_HT_4 = out[\"bkg_WJets_400To600\"][\"LHE_HT\"]*lumi_2018*1000*xs_WJets_400To600/out[\"bkg_WJets_400To600\"][\"entries\"]\n",
    "h_HT_5 = out[\"bkg_WJets_600To800\"][\"LHE_HT\"]*lumi_2018*1000*xs_WJets_600To800/out[\"bkg_WJets_600To800\"][\"entries\"]\n",
    "h_HT_6 = out[\"bkg_WJets_800To1200\"][\"LHE_HT\"]*lumi_2018*1000*xs_WJets_800To1200/out[\"bkg_WJets_800To1200\"][\"entries\"]\n",
    "h_HT_7 = out[\"bkg_WJets_1200To2500\"][\"LHE_HT\"]*lumi_2018*1000*xs_WJets_1200To2500/out[\"bkg_WJets_1200To2500\"][\"entries\"]\n",
    "h_HT_8 = out[\"bkg_WJets_2500ToInf\"][\"LHE_HT\"]*lumi_2018*1000*xs_WJets_2500ToInf/out[\"bkg_WJets_2500ToInf\"][\"entries\"]\n",
    "h_HT_1.plot(label=\"WJets_HT_70To100\"), h_HT_2.plot(label=\"WJets_HT_100To200\"), h_HT_3.plot(label=\"WJets_HT_200To400\"), h_HT_4.plot(label=\"WJets_HT_400To600\"), h_HT_5.plot(label=\"WJets_HT_600To800\"), h_HT_6.plot(label=\"WJets_HT_800To1200\"), h_HT_7.plot(label=\"WJets_HT_1200To2500\"), h_HT_8.plot(label=\"WJets_HT_2500ToInf\")\n",
    "plt.title(\"LHE HT\")\n",
    "plt.xlabel(\"LHE HT\")\n",
    "plt.yscale(\"log\")\n",
    "plt.ylabel(\"events\")\n",
    "plt.legend(prop={'size':9})"
   ]
  },
  {
   "cell_type": "code",
   "execution_count": 150,
   "id": "52de0811",
   "metadata": {},
   "outputs": [
    {
     "data": {
      "text/plain": [
       "<matplotlib.legend.Legend at 0x7f0f8fa357f0>"
      ]
     },
     "execution_count": 150,
     "metadata": {},
     "output_type": "execute_result"
    },
    {
     "data": {
      "image/png": "[encoded data removed]",
      "text/plain": [
       "<Figure size 432x288 with 1 Axes>"
      ]
     },
     "metadata": {
      "needs_background": "light"
     },
     "output_type": "display_data"
    }
   ],
   "source": [
    "h_st = out[\"sig_WWjj_4f_EWK\"][\"t_ratio\"]/(out[\"sig_WWjj_4f_EWK\"][\"t_ratio\"].sum())\n",
    "h_st.plot(label=\"W->e$\\\\nu$ + W->2j Sig\")\n",
    "h_b1 = out[\"bkg_WJets_70To100\"][\"t_ratio\"]\n",
    "x1 = xs_WJets_70To100\n",
    "n1 = out[\"bkg_WJets_70To100\"][\"entries\"]\n",
    "h_b2 = out[\"bkg_WJets_100To200\"][\"t_ratio\"]\n",
    "x2 = xs_WJets_100To200\n",
    "n2 = out[\"bkg_WJets_100To200\"][\"entries\"]\n",
    "h_b3 = out[\"bkg_WJets_200To400\"][\"t_ratio\"]\n",
    "x3 = xs_WJets_200To400\n",
    "n3 = out[\"bkg_WJets_200To400\"][\"entries\"]\n",
    "h_b4 = out[\"bkg_WJets_400To600\"][\"t_ratio\"]\n",
    "x4 = xs_WJets_400To600\n",
    "n4 = out[\"bkg_WJets_400To600\"][\"entries\"]\n",
    "h_b5 = out[\"bkg_WJets_600To800\"][\"t_ratio\"]\n",
    "x5 = xs_WJets_600To800\n",
    "n5 = out[\"bkg_WJets_600To800\"][\"entries\"]\n",
    "h_b6 = out[\"bkg_WJets_800To1200\"][\"t_ratio\"]\n",
    "x6 = xs_WJets_800To1200\n",
    "n6 = out[\"bkg_WJets_800To1200\"][\"entries\"]\n",
    "h_b7 = out[\"bkg_WJets_1200To2500\"][\"t_ratio\"]\n",
    "x7 = xs_WJets_1200To2500\n",
    "n7 = out[\"bkg_WJets_1200To2500\"][\"entries\"]\n",
    "h_b8 = out[\"bkg_WJets_2500ToInf\"][\"t_ratio\"]\n",
    "x8 = xs_WJets_2500ToInf\n",
    "n8 = out[\"bkg_WJets_2500ToInf\"][\"entries\"]\n",
    "h_bt_to_normalize = (h_b1*x1+h_b2*x2+h_b3*x3+h_b4*x4+h_b5*x5+h_b6*x6+h_b7*x7+h_b8*x8)/(x1+x2+x3+x4+x5+x6+x7+x8)\n",
    "h_bt = (h_bt_to_normalize/h_bt_to_normalize.sum())\n",
    "h_bt.plot(label = \"W->e$\\\\nu$ + Jets Bkg\")\n",
    "plt.title(\"70 GeV < $m_{SD}$ < 115 GeV\")\n",
    "plt.xlabel(\"$\\\\tau_{2}/\\\\tau_{1}$\")\n",
    "plt.ylabel(\"relative occurrence\")\n",
    "plt.legend()"
   ]
  },
  {
   "cell_type": "code",
   "execution_count": 139,
   "id": "f8ffdbee",
   "metadata": {},
   "outputs": [
    {
     "data": {
      "text/plain": [
       "<matplotlib.legend.Legend at 0x7f0f90294430>"
      ]
     },
     "execution_count": 139,
     "metadata": {},
     "output_type": "execute_result"
    },
    {
     "data": {
      "image/png": "[encoded data removed]",
      "text/plain": [
       "<Figure size 432x288 with 1 Axes>"
      ]
     },
     "metadata": {
      "needs_background": "light"
     },
     "output_type": "display_data"
    }
   ],
   "source": [
    "h_sp = out[\"sig_WWjj_4f_EWK\"][\"pNet\"]/(out[\"sig_WWjj_4f_EWK\"][\"pNet\"].sum())\n",
    "h_sp.plot(label = \"W->e$\\\\nu$ + W->2j Sig\")\n",
    "h_p1 = out[\"bkg_WJets_70To100\"][\"pNet\"]\n",
    "h_p2 = out[\"bkg_WJets_100To200\"][\"pNet\"]\n",
    "h_p3 = out[\"bkg_WJets_200To400\"][\"pNet\"]\n",
    "h_p4 = out[\"bkg_WJets_400To600\"][\"pNet\"]\n",
    "h_p5 = out[\"bkg_WJets_600To800\"][\"pNet\"]\n",
    "h_p6 = out[\"bkg_WJets_800To1200\"][\"pNet\"]\n",
    "h_p7 = out[\"bkg_WJets_1200To2500\"][\"pNet\"]\n",
    "h_p8 = out[\"bkg_WJets_2500ToInf\"][\"pNet\"]\n",
    "h_bp_to_normalize = ((h_p1*x1+h_p2*x2+h_p3*x3+h_p4*x4+h_p5*x5+h_p6*x6+h_p7*x7+h_p8*x8)/(x1+x2+x3+x4+x5+x6+x7+x8))\n",
    "h_bp = (h_bp_to_normalize/h_bp_to_normalize.sum())\n",
    "h_bp.plot(label = \"W->e$\\\\nu$ + Jets Bkg\")\n",
    "plt.title(\"70 GeV < $m_{SD}$ < 115 GeV\")\n",
    "plt.xlabel(\"WvsQCD score\")\n",
    "plt.ylabel(\"relative occurrence\")\n",
    "plt.yscale(\"log\")\n",
    "plt.legend(loc = \"upper left\")"
   ]
  },
  {
   "cell_type": "code",
   "execution_count": 164,
   "id": "0c24876a",
   "metadata": {},
   "outputs": [],
   "source": [
    "#Save histograms in file.pkl, need to import pickle\n",
    "with open(\"t_ratio.pkl\", \"wb\") as f:\n",
    "    pickle.dump(h_st, f)\n",
    "    pickle.dump(h_bt, f)\n",
    "with open(\"pNet.pkl\", \"wb\") as f_p:\n",
    "    pickle.dump(h_sp, f_p)\n",
    "    pickle.dump(h_bp, f_p)"
   ]
  },
  {
   "cell_type": "code",
   "execution_count": 165,
   "id": "ded0a295",
   "metadata": {},
   "outputs": [],
   "source": [
    "#Load histograms from file.pkl\n",
    "with open(\"t_ratio.pkl\", \"rb\") as fo:\n",
    "    ho_st = pickle.load(fo)\n",
    "    ho_bt = pickle.load(fo)\n",
    "with open(\"pNet.pkl\", \"rb\") as fo_p:\n",
    "    ho_sp = pickle.load(fo_p)\n",
    "    ho_bp = pickle.load(fo_p)"
   ]
  },
  {
   "cell_type": "code",
   "execution_count": 166,
   "id": "3d58644d",
   "metadata": {},
   "outputs": [
    {
     "data": {
      "text/plain": [
       "<matplotlib.legend.Legend at 0x7f0f8f34c250>"
      ]
     },
     "execution_count": 166,
     "metadata": {},
     "output_type": "execute_result"
    },
    {
     "data": {
      "image/png": "[encoded data removed]",
      "text/plain": [
       "<Figure size 432x288 with 1 Axes>"
      ]
     },
     "metadata": {
      "needs_background": "light"
     },
     "output_type": "display_data"
    }
   ],
   "source": [
    "#Initialize counters to integrate the histograms\n",
    "st, bt, sp, bp = [0, 0, 0, 0]\n",
    "#Initialize lists to store the values of the integration\n",
    "x_st = [] #signal t_ratio\n",
    "y_bt = [] #background t_ratio\n",
    "x_sp = [] #signal pNet\n",
    "y_bp = [] #background pNet\n",
    "\n",
    "#Loop over the bins of the histograms to integrate\n",
    "for j in range(len(ho_st.counts().flatten())): #len(ho_st.counts().flatten()) is the number of bins of the histograms \n",
    "    st = st + ho_st.counts().flatten()[j]\n",
    "    if j%2 == 0: x_st.append(st) #Don't store all points because too close  \n",
    "    bt = bt + ho_bt.counts().flatten()[j]\n",
    "    if j%2 == 0: y_bt.append(bt)\n",
    "    #For pNet, I integrate from the upper edge\n",
    "    l=(len(ho_st.counts().flatten())-1)-j #Attention, the last bin is nbin-1!\n",
    "    sp = sp + ho_sp.counts().flatten()[l]\n",
    "    if j%2 == 0: x_sp.append(sp)\n",
    "    bp = bp + ho_bp.counts().flatten()[l]\n",
    "    if j%2 == 0: y_bp.append(bp)\n",
    "\n",
    "#Plotting the results in a graph\n",
    "plt.plot(x_st, y_bt, label= \"t ratio\", color='green', linestyle='dashed', linewidth = 2,\n",
    "         marker='o', markerfacecolor='blue', markersize=6)\n",
    "plt.plot(x_sp, y_bp, label= \"pNet\", color='green', linestyle='dashed', linewidth = 2,\n",
    "         marker='o', markerfacecolor='red', markersize=6)\n",
    "plt.xlim([0.25, 1.05])\n",
    "plt.title(\"70 GeV < $m_{SD}$ < 115 GeV\")\n",
    "plt.xlabel(\"Signal Efficiency\")\n",
    "plt.ylim([0.06, 1.1])\n",
    "plt.yscale(\"log\")\n",
    "plt.ylabel(\"Background Efficiency\")\n",
    "plt.text(0.74,0.12,\"W boson vs QCD\")\n",
    "plt.text(0.7,0.1,\"W->e$\\\\nu$ + W->2j Signal\")\n",
    "plt.text(0.68,0.082,\"W->e$\\\\nu$ + Jets Background\")\n",
    "plt.legend()"
   ]
  },
  {
   "cell_type": "code",
   "execution_count": null,
   "id": "2e9997e4",
   "metadata": {},
   "outputs": [],
   "source": [
    "#To do, signal to square noise ration versus signal efficiency"
   ]
  }
 ],
 "metadata": {
  "@webio": {
   "lastCommId": null,
   "lastKernelId": null
  },
  "kernelspec": {
   "display_name": "Python 3",
   "language": "python",
   "name": "python3"
  },
  "language_info": {
   "codemirror_mode": {
    "name": "ipython",
    "version": 3
   },
   "file_extension": ".py",
   "mimetype": "text/x-python",
   "name": "python",
   "nbconvert_exporter": "python",
   "pygments_lexer": "ipython3",
   "version": "3.9.12"
  }
 },
 "nbformat": 4,
 "nbformat_minor": 5
}
