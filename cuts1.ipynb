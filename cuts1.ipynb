{
 "cells": [
  {
   "cell_type": "code",
   "execution_count": 1,
   "id": "9ef76dc5",
   "metadata": {},
   "outputs": [],
   "source": [
    "import uproot\n",
    "import awkward as ak #The events object is an awkward array\n",
    "## Plotting.\n",
    "import matplotlib.pyplot as plt\n",
    "\n",
    "# Hists\n",
    "import hist\n",
    "from hist import Hist\n",
    "\n",
    "# NanoEvents\n",
    "from coffea.nanoevents import NanoEventsFactory, NanoAODSchema\n",
    "\n",
    "# Processors (for parallelization)\n",
    "#import coffea.processor as processor\n",
    "from coffea import processor\n",
    "\n",
    "#Math\n",
    "import math\n",
    "\n",
    "#Numpy\n",
    "import numpy as np\n",
    "\n",
    "#PackedSelection to select events\n",
    "from coffea.analysis_tools import PackedSelection\n",
    "\n",
    "#Clock to count time\n",
    "import time"
   ]
  },
  {
   "cell_type": "code",
   "execution_count": 2,
   "id": "1e75d2a3",
   "metadata": {},
   "outputs": [],
   "source": [
    "# The processor class bundles our data analysis together while giving us some helpful tools.  It also leaves looping and chunks to the framework instead of us.\n",
    "class MyProcessor(processor.ProcessorABC):\n",
    "    def __init__(self):\n",
    "        pass\n",
    "    \n",
    "    def process(self, old_events):\n",
    "        #Implement the selections to veto events\n",
    "        selection = PackedSelection()\n",
    "        #At least one lepton \n",
    "        selection.add(\"one_l\", (ak.num(old_events.Electron)+ak.num(old_events.Muon))>=1)\n",
    "        #Electron signal region\n",
    "        selection.add(\"fst_tight_e\", ak.mask(old_events.Electron, ak.num(old_events.Electron) >= 1)[:, 0].mvaFall17V2Iso_WP90 == True)\n",
    "        selection.add(\n",
    "            \"electron_pT\",\n",
    "            ak.any(old_events.Electron.pt > 35.0, axis=1)  \n",
    "        )\n",
    "        selection.add(\n",
    "            \"e_range_eta\",\n",
    "            ak.any(abs (old_events.Electron.eta) < 2.5, axis=1)\n",
    "        )\n",
    "        #The following two cuts work in inverse logic, when you require the selection later you must take false\n",
    "        selection.add(\"snd_tight_e\", ak.mask(old_events.Electron, ak.num(old_events.Electron) > 1)[:, 1].mvaFall17V2Iso_WP90 == True)\n",
    "        selection.add(\"loose_e\", (ak.mask(old_events.Electron, ak.num(old_events.Electron) > 1)[:, 1].mvaFall17V2Iso_WPL == True) & (ak.mask(old_events.Electron, ak.num(old_events.Electron) > 1)[:, 1].pt >10))\n",
    "        #Muon signal region (boosted)\n",
    "        selection.add(\"one_tight_mu\", ak.mask(old_events.Muon, ak.num(old_events.Muon) >= 1)[:, 0].tightId == (3>2))\n",
    "        selection.add(\"no_2nd_tight_mu\", ak.mask(old_events.Muon, ak.num(old_events.Muon) > 1)[:, 1].tightId == (3==2))\n",
    "        #The following three cuts work in inverse logic, when you require the selection later you must take false\n",
    "        selection.add(\"any_tight_e\", ak.any(old_events.Electron.mvaFall17V2Iso_WP90 == (3>2), axis=1))\n",
    "        selection.add(\n",
    "            \"muon_pT\",\n",
    "            ak.any(old_events.Muon.pt >= 30.0, axis=1)\n",
    "        )\n",
    "        selection.add(\n",
    "            \"mu_range_eta\",\n",
    "            ak.any(abs (old_events.Muon.eta) < 2.4, axis=1)\n",
    "        )\n",
    "        selection.add(\"loose_mu\", (ak.mask(old_events.Muon, ak.num(old_events.Muon) > 1)[:, 1].looseId == (3>2)) & (ak.mask(old_events.Muon, ak.num(old_events.Muon) > 1)[:, 1].pt >10))\n",
    "        selection.add(\"loose_e1\", (ak.mask(old_events.Electron, ak.num(old_events.Electron) > 1)[:, 0].mvaFall17V2Iso_WPL == (3>2)) & (ak.mask(old_events.Electron, ak.num(old_events.Electron) > 1)[:, 0].pt >10))\n",
    "        selection.add(\"loose_e2\", (ak.mask(old_events.Electron, ak.num(old_events.Electron) > 1)[:, 1].mvaFall17V2Iso_WPL == (3>2)) & (ak.mask(old_events.Electron, ak.num(old_events.Electron) > 1)[:, 1].pt >10))\n",
    "        #Puppy met cut\n",
    "        selection.add(\"lead_pMET\", old_events.PuppiMET.pt>30)\n",
    "        #b Veto\n",
    "        selection.add(\"b_veto\", ak.all(old_events.Jet.btagDeepB<=0.84, axis=1))\n",
    "        #selection.add(\"b_veto\", ak.all(old_events.Jet.btagCSVV2<=0.81, axis=1))\n",
    "        #VBS jets (looking for the max invariant mass pair)\n",
    "        # Get all combinations of jet pairs in every event\n",
    "        dijets_o = ak.combinations(old_events.Jet, 2, fields=['i0', 'i1'])\n",
    "        # Check that jet pairs have the greatest mass\n",
    "        ismax_o=(dijets_o['i0']+dijets_o['i1']).mass==ak.max((dijets_o['i0']+dijets_o['i1']).mass, axis=1)\n",
    "        #previous line: returns a Boolean array with True where the condition is met, and false otherwise\n",
    "        # Mask the dijets with the ismax to get dijets with the gratest mass\n",
    "        VBS_jets_o = dijets_o[ismax_o]\n",
    "        # Separate pairs into arrays of the leading and the trailing VBS jets in each pair.\n",
    "        VBS_ljet_o, VBS_tjet_o = ak.unzip(VBS_jets_o)\n",
    "        #VBS selection\n",
    "        selection.add(\n",
    "            \"lead_VBS_ljet\",   \n",
    "            ak.all(VBS_ljet_o.pt>50, axis=1)\n",
    "        )\n",
    "        selection.add(\n",
    "            \"lead_VBS_tjet\",   \n",
    "            ak.all(VBS_tjet_o.pt>30, axis=1)\n",
    "        )\n",
    "        selection.add(\n",
    "            \"lead_VBS_mass\",   \n",
    "            ak.all((VBS_ljet_o+VBS_tjet_o).mass>500, axis=1)\n",
    "        )\n",
    "        selection.add(\n",
    "            \"lead_VBS_eta\",   \n",
    "            ak.all(abs(VBS_ljet_o.eta-VBS_tjet_o.eta)>2.5, axis=1)\n",
    "        )\n",
    "        selection.add(\"one_fatjet\", (ak.num(old_events.FatJet) == 1))\n",
    "        selection.add(\"two_jet\", (ak.num(old_events.Jet) >= 2))\n",
    "        #Transverse mass of the W boson decaying leptonically\n",
    "        #With electrons\n",
    "        selection.add(\n",
    "            \"W_Tmass_e\",\n",
    "            ak.all(2*old_events.Electron.pt*old_events.MET.pt*(1-np.cos(old_events.Electron.phi-old_events.MET.phi))<185**2, axis=1)\n",
    "        )\n",
    "        #With muons\n",
    "        selection.add(\n",
    "            \"W_Tmass_mu\",\n",
    "            ak.all(2*old_events.Muon.pt*old_events.MET.pt*(1-np.cos(old_events.Muon.phi-old_events.MET.phi))<185**2, axis=1)\n",
    "        )\n",
    "        #Invariant mass of the W boson decaying hadronically, use softdropmass\n",
    "        selection.add(\n",
    "            \"W_mass_fatjet\",\n",
    "            ak.all((old_events.FatJet.msoftdrop>70) & (old_events.FatJet.msoftdrop<115), axis=1)\n",
    "        )\n",
    "        #Electron mask\n",
    "        #one_l=True, fst_tight_e=True, snd_tight_e=False, loose_e=False, electron_pT=True, e_range_eta=True, lead_pMET=True, b_veto=True, lead_VBS_ljet=True, lead_VBS_tjet=True, lead_VBS_mass=True, lead_VBS_eta=True, one_fatjet=True, two_jet=True, W_Tmass_e=True, W_mass_fatjet=True\n",
    "        ev_mask_e = selection.require(one_l=True, fst_tight_e=True, snd_tight_e=False, loose_e=False, electron_pT=True, e_range_eta=True, lead_pMET=True, b_veto=True, lead_VBS_ljet=True, lead_VBS_tjet=True, lead_VBS_mass=True, lead_VBS_eta=True, two_jet=True, one_fatjet=True, W_mass_fatjet=True)\n",
    "        #Muon mask\n",
    "        ev_mask_mu = selection.require(one_l=True, one_tight_mu=True, no_2nd_tight_mu=True, loose_mu=False, loose_e1=False, loose_e2=False, any_tight_e=False, muon_pT=True, mu_range_eta=True, lead_pMET=True, b_veto=True, lead_VBS_ljet=True, lead_VBS_tjet=True, lead_VBS_mass=True, lead_VBS_eta=True, one_fatjet=True, two_jet=True, W_Tmass_mu=True, W_mass_fatjet=True)\n",
    "        #Apply the cuts on the events with the mask (chose either electron or muon signal region)\n",
    "        events=old_events[ev_mask_e]\n",
    "        \n",
    "        # This is where we do our actual analysis. The dataset has columns similar to the TTree's; events.columns can tell you them, or events.[object].columns for deeper depth.\n",
    "        dataset = events.metadata['dataset']\n",
    "        #Define the fiducial region\n",
    "        #Electron, muon , jets, fatjets\n",
    "        jets=events.Jet\n",
    "        fatjets = events.FatJet\n",
    "        #Jets isolation from electrons\n",
    "        # Get all combinations of jets and electrons in every event\n",
    "        jets_e = ak.cartesian({\"x\": jets, \"y\": events.Electron})\n",
    "        # Check that jets satisfy the isolation\n",
    "        jets_iso_e = ((jets_e[\"x\"].eta-jets_e[\"y\"].eta)**2+(jets_e[\"x\"].phi-jets_e[\"y\"].phi)**2>0.4**2)\n",
    "        # Mask the jets_e with the jets_iso to get jets isolated from electrons\n",
    "        jets_e = jets_e[jets_iso_e]\n",
    "        # Separate pairs into jets and electons, redefining the jets (but not the electrons)\n",
    "        jets, el = ak.unzip(jets_e)\n",
    "        #FatJets isolation from electrons\n",
    "        # Get all combinations of fatjets and electrons in every event\n",
    "        fatjets_e = ak.cartesian({\"x\": fatjets, \"y\": events.Electron})\n",
    "        # Check that jets satisfy the isolation\n",
    "        fatjets_iso_e = ((fatjets_e[\"x\"].eta-fatjets_e[\"y\"].eta)**2+(fatjets_e[\"x\"].phi-fatjets_e[\"y\"].phi)**2>0.8**2)\n",
    "        # Mask the fatjets_e with the fatjets_iso to get fatjets isolated from electrons\n",
    "        fatjets_e = fatjets_e[fatjets_iso_e]\n",
    "        # Separate pairs into fatjets and electons, redefining the fatjets (but not the electrons)\n",
    "        fatjets, el = ak.unzip(fatjets_e)\n",
    "        #Jets isolation from muons\n",
    "        # Get all combinations of jets and muons in every event\n",
    "        #jets_mu = ak.cartesian({\"x\": jets, \"y\": events.Muon})\n",
    "        # Check that jets satisfy the isolation\n",
    "        #jets_iso_mu = ((jets_mu[\"x\"].eta-jets_mu[\"y\"].eta)**2+(jets_mu[\"x\"].phi-jets_mu[\"y\"].phi)**2>0.4**2)\n",
    "        # Mask the jets_mu with the jets_iso_mu to get jets isolated from muons\n",
    "        #jets_mu = jets_mu[jets_iso_mu]\n",
    "        # Separate pairs into jets and muons, redefining the jets (but not the muons)\n",
    "        #jets, mu = ak.unzip(jets_mu)\n",
    "        #FatJets isolation from muons\n",
    "        # Get all combinations of fatjets and muons in every event\n",
    "        #fatjets_mu = ak.cartesian({\"x\": fatjets, \"y\": events.Muon})\n",
    "        # Check that fatjets satisfy the isolation\n",
    "        #fatjets_iso_mu = ((fatjets_mu[\"x\"].eta-fatjets_mu[\"y\"].eta)**2+(fatjets_mu[\"x\"].phi-fatjets_mu[\"y\"].phi)**2>0.8**2)\n",
    "        # Mask the fatjets_mu with the fatjets_iso_mu to get fatjets isolated from muons\n",
    "        #fatjets_mu = fatjets_mu[fatjets_iso_mu]\n",
    "        # Separate pairs into jets and muons, redefining the jets (but not the muons)\n",
    "        #fatjets, mu = ak.unzip(fatjets_mu)\n",
    "        #Jets cuts\n",
    "        jets_eta_cut = (abs (jets.eta) < 4.7)\n",
    "        jets_pT_cut = (jets.pt > 30)\n",
    "        jets = jets[jets_pT_cut&jets_eta_cut]\n",
    "        #FatJets cuts\n",
    "        fatjets_eta_cut = (abs (fatjets.eta) < 2.4)\n",
    "        fatjets_pT_cut = (fatjets.pt > 200)\n",
    "        fatjets = fatjets[fatjets_pT_cut&fatjets_eta_cut]\n",
    "        #Removing AK4(Jet) jets overlapping with AK8(FatJets) jets\n",
    "        # Get all combinations of jets and fatjets in every event\n",
    "        jets_fatjets = ak.cartesian({\"x\": jets, \"y\": fatjets})\n",
    "        # Check that jets satisfy the isolation\n",
    "        jets_iso_f = ((jets_fatjets[\"x\"].eta-jets_fatjets[\"y\"].eta)**2+(jets_fatjets[\"x\"].phi-jets_fatjets[\"y\"].phi)**2>0.8**2)\n",
    "        # Mask the jets_fatjets with the jets_iso_f to get jets isolated from fatjets\n",
    "        jets_fatjets = jets_fatjets[jets_iso_f]\n",
    "        # Separate pairs into jets and electons, redefining the jets (but not the fatjets)\n",
    "        jets, fj = ak.unzip(jets_fatjets)\n",
    "        #VBS jets (looking for the max invariant mass pair)\n",
    "        # Get all combinations of jet pairs in every event\n",
    "        VBSjets = ak.combinations(events.Jet, 2, fields=['i0', 'i1'])\n",
    "        # Mask the dijets with the ismax to get dijets with the gratest mass\n",
    "        VBS_jets = VBSjets[(VBSjets['i0']+VBSjets['i1']).mass==ak.max((VBSjets['i0']+VBSjets['i1']).mass, axis=1)]\n",
    "        # Separate pairs into arrays of the leading and the trailing VBS jets in each pair.\n",
    "        VBS_jet_lead, VBS_jet_trail = ak.unzip(VBS_jets)\n",
    "        \n",
    "        #Get the variables of N-subjectiness\n",
    "        tau_1=fatjets.tau1\n",
    "        tau_2=fatjets.tau2\n",
    "        #Take the tau2 to tau1 ratio\n",
    "        tau_r=tau_2/tau_1\n",
    "        #Get the variables of particleNet and deepTag\n",
    "        pNet=fatjets.particleNet_WvsQCD\n",
    "        dTag=fatjets.deepTag_WvsQCD\n",
    "        \n",
    "        # Bins and categories for the histogram\n",
    "        h_PuppiMET = hist.Hist(hist.axis.StrCategory(name='channel', categories=['PuppiMET']), \n",
    "                      hist.axis.Regular(name='x', label='PuppiMET [GeV]', bins=30, start=30, stop=300))\n",
    "        h_e_pT = hist.Hist(hist.axis.StrCategory(name='channel', categories=['e_pT']), \n",
    "                      hist.axis.Regular(name='x', label='$p_{T}^{e}$ [GeV]', bins=20, start=35, stop=200))\n",
    "        h_e_eta = hist.Hist(hist.axis.StrCategory(name='channel', categories=['e_eta']), \n",
    "                      hist.axis.Regular(name='x', label='$\\eta^{e}$', bins=30, start=-2.5, stop=2.5))\n",
    "        h_fatjet_pT = hist.Hist(hist.axis.StrCategory(name='channel', categories=['fatjet_pT']), \n",
    "                      hist.axis.Regular(name='x', label='$p_{T}^{W_{had}}$ [GeV]', bins=20, start=200, stop=600))\n",
    "        h_fatjet_mass = hist.Hist(hist.axis.StrCategory(name='channel', categories=['fatjet_mass']), \n",
    "                      hist.axis.Regular(name='x', label='$m^{W_{had}}$ [GeV]', bins=20, start=30, stop=150))\n",
    "        h_jets_mass = hist.Hist(hist.axis.StrCategory(name='channel', categories=['jets_mass']), \n",
    "                      hist.axis.Regular(name='x', label='$m_{jj} VBS$ [GeV]', bins=24, start=500, stop=3500))\n",
    "        h_jets_eta = hist.Hist(hist.axis.StrCategory(name='channel', categories=['jets_eta']), \n",
    "                      hist.axis.Regular(name='x', label='$\\Delta\\eta_{jj} VBS$', bins=20, start=2.5, stop=8.5))\n",
    "        h_jets_lead = hist.Hist(hist.axis.StrCategory(name='channel', categories=['jets_lead']), \n",
    "                      hist.axis.Regular(name='x', label='$leading VBS p_{T}^{j}$ [Gev]', bins=20, start=50, stop=500))\n",
    "        h_jets_trail = hist.Hist(hist.axis.StrCategory(name='channel', categories=['jets_trail']), \n",
    "                      hist.axis.Regular(name='x', label='$trailing VBS p_{T}^{j}$ [Gev]', bins=14, start=30, stop=250))\n",
    "        h_LHE_HT = hist.Hist(hist.axis.StrCategory(name='channel', categories=['LHE_HT']), \n",
    "                      hist.axis.Variable([70,100,200,400,600,800,1200,2500,3500],name='x', label='LHE HT'))\n",
    "        h_Nsubj_t1 = hist.Hist(hist.axis.StrCategory(name='channel', categories=['$t_{1}$']), \n",
    "                      hist.axis.Regular(name='x', label='tau_1', bins=40, start= 0, stop=1))\n",
    "        h_Nsubj_t2 = hist.Hist(hist.axis.StrCategory(name='channel', categories=['$t_{2}$']), \n",
    "                      hist.axis.Regular(name='x', label='tau_2', bins=40, start= 0, stop=1))\n",
    "        h_t_ratio = hist.Hist(hist.axis.StrCategory(name='channel', categories=['t_ratio']), \n",
    "                      hist.axis.Regular(name='x', label='tau_r', bins=40, start= 0, stop=1))\n",
    "        h_pNet = hist.Hist(hist.axis.StrCategory(name='channel', categories=['pNet']), \n",
    "                      hist.axis.Regular(name='x', label='WvsQCD', bins=40, start= 0, stop=1))\n",
    "\n",
    "        \n",
    "             \n",
    "        # This fills our histogram once our data is collected.\n",
    "        h_PuppiMET.fill(channel='PuppiMET', x=events.PuppiMET.pt)\n",
    "        h_e_pT.fill(channel='e_pT', x=events.Electron[:,0].pt)\n",
    "        h_e_eta.fill(channel='e_eta', x=events.Electron[:,0].eta)\n",
    "        h_fatjet_pT.fill(channel='fatjet_pT', x=ak.flatten(fatjets.pt))\n",
    "        h_fatjet_mass.fill(channel='fatjet_mass', x=ak.flatten(fatjets.mass))\n",
    "        #previous line: you have to flatten the awkward array because its size is ambiguous due to variable-length arrays\n",
    "        h_jets_mass.fill(channel='jets_mass', x=ak.flatten((VBS_jet_lead+VBS_jet_trail).mass))\n",
    "        h_jets_eta.fill(channel='jets_eta', x=ak.flatten(abs(VBS_jet_lead.eta-VBS_jet_trail.eta)))\n",
    "        h_jets_lead.fill(channel='jets_lead', x=ak.flatten(VBS_jet_lead.pt))\n",
    "        h_jets_trail.fill(channel='jets_trail', x=ak.flatten(VBS_jet_trail.pt))\n",
    "        h_LHE_HT.fill(channel='LHE_HT', x=events.LHE.HT)\n",
    "        h_Nsubj_t1.fill(channel='$t_{1}$', x=ak.flatten(tau_1))\n",
    "        h_Nsubj_t2.fill(channel='$t_{2}$', x=ak.flatten(tau_2))\n",
    "        h_t_ratio.fill(channel='t_ratio', x=ak.flatten(tau_r))\n",
    "        h_pNet.fill(channel='pNet', x=ak.flatten(pNet))\n",
    "        \n",
    "        return {\n",
    "            dataset: {\n",
    "                \"entries\": len(events),\n",
    "                \"PuppiMET\": h_PuppiMET,\n",
    "                \"e_pT\": h_e_pT,\n",
    "                \"e_eta\": h_e_eta,\n",
    "                \"fatjet_pT\": h_fatjet_pT,\n",
    "                \"fatjet_mass\": h_fatjet_mass,\n",
    "                \"jets_mass\": h_jets_mass,\n",
    "                \"jets_eta\": h_jets_eta,\n",
    "                \"jets_lead\": h_jets_lead,\n",
    "                \"jets_trail\": h_jets_trail,\n",
    "                \"LHE_HT\": h_LHE_HT,\n",
    "                \"Nsubj_t1\": h_Nsubj_t1,\n",
    "                \"Nsubj_t2\": h_Nsubj_t2,\n",
    "                \"t_ratio\": h_t_ratio,\n",
    "                \"pNet\": h_pNet\n",
    "            }\n",
    "        }\n",
    "    \n",
    "    def postprocess(self, accumulator):\n",
    "        #This is where we can make post-analysis adjustments, such as handle weights, rebinning or scaling our histograms.\n",
    "        pass"
   ]
  },
  {
   "cell_type": "code",
   "execution_count": 3,
   "id": "2ae8b990",
   "metadata": {},
   "outputs": [],
   "source": [
    "lumi_2018 = 59.74 #fb-1\n",
    "\n",
    "xs_sig_WPHADWMLEPjj_4f_EWK = 0.9107\n",
    "xs_sig_WPLEPWMHADjj_4f_EWK = 0.9114\n",
    "xs_sig = xs_sig_WPHADWMLEPjj_4f_EWK + xs_sig_WPLEPWMHADjj_4f_EWK\n",
    "\n",
    "xs_WJets = 61526.7 #pb\n",
    "xs_WJets_70To100 = 1292.0\n",
    "xs_WJets_100To200 = 1395.0\n",
    "xs_WJets_200To400 = 407.9\n",
    "xs_WJets_400To600 = 57.48\n",
    "xs_WJets_600To800 = 18.77\n",
    "xs_WJets_800To1200 = 5.366\n",
    "xs_WJets_1200To2500 = 1.074\n",
    "xs_WJets_2500ToInf = 0.008001"
   ]
  },
  {
   "cell_type": "code",
   "execution_count": 4,
   "id": "91faa784",
   "metadata": {},
   "outputs": [
    {
     "data": {
      "application/vnd.jupyter.widget-view+json": {
       "model_id": "829f280c4dae4712b77e5a9ca5c97a32",
       "version_major": 2,
       "version_minor": 0
      },
      "text/plain": [
       "Preprocessing:   0%|          | 0/643 [00:00<?, ?file/s]"
      ]
     },
     "metadata": {},
     "output_type": "display_data"
    },
    {
     "data": {
      "application/vnd.jupyter.widget-view+json": {
       "model_id": "e74bb484c9464fde82bd8cd578bbcf48",
       "version_major": 2,
       "version_minor": 0
      },
      "text/plain": [
       "Processing:   0%|          | 0/3241 [00:00<?, ?chunk/s]"
      ]
     },
     "metadata": {},
     "output_type": "display_data"
    },
    {
     "name": "stdout",
     "output_type": "stream",
     "text": [
      "9709.334687232971\n",
      "{'bkg_WJets_2500ToInf': {'fatjet_mass': Hist(\n",
      "  StrCategory(['fatjet_mass'], name='channel'),\n",
      "  Regular(20, 30, 150, name='x', label='$m^{W_{had}}$ [GeV]'),\n",
      "  storage=Double()) # Sum: 2.0 (3.0 with flow), 'jets_mass': Hist(\n",
      "  StrCategory(['jets_mass'], name='channel'),\n",
      "  Regular(24, 500, 3500, name='x', label='$m_{jj} VBS$ [GeV]'),\n",
      "  storage=Double()) # Sum: 2.0, 'jets_eta': Hist(\n",
      "  StrCategory(['jets_eta'], name='channel'),\n",
      "  Regular(20, 2.5, 8.5, name='x', label='$\\\\Delta\\\\eta_{jj} VBS$'),\n",
      "  storage=Double()) # Sum: 2.0, 'PuppiMET': Hist(\n",
      "  StrCategory(['PuppiMET'], name='channel'),\n",
      "  Regular(30, 30, 300, name='x', label='PuppiMET [GeV]'),\n",
      "  storage=Double()) # Sum: 0.0 (2.0 with flow), 'e_pT': Hist(\n",
      "  StrCategory(['e_pT'], name='channel'),\n",
      "  Regular(20, 35, 400, name='x', label='$p_{T}^{e}$ [GeV]'),\n",
      "  storage=Double()) # Sum: 2.0, 'e_eta': Hist(\n",
      "  StrCategory(['e_eta'], name='channel'),\n",
      "  Regular(30, -2.5, 2.5, name='x', label='$\\\\eta^{e}$'),\n",
      "  storage=Double()) # Sum: 2.0, 'fatjet_pT': Hist(\n",
      "  StrCategory(['fatjet_pT'], name='channel'),\n",
      "  Regular(20, 200, 600, name='x', label='$p_{T}^{W_{had}}$ [GeV]'),\n",
      "  storage=Double()) # Sum: 0.0 (3.0 with flow), 'Nsubj_t1': Hist(\n",
      "  StrCategory(['$t_{1}$'], name='channel'),\n",
      "  Regular(40, 0, 1, name='x', label='tau_1'),\n",
      "  storage=Double()) # Sum: 3.0, 'jets_trail': Hist(\n",
      "  StrCategory(['jets_trail'], name='channel'),\n",
      "  Regular(14, 30, 250, name='x', label='$trailing VBS p_{T}^{j}$ [Gev]'),\n",
      "  storage=Double()) # Sum: 2.0, 'Nsubj_t2': Hist(\n",
      "  StrCategory(['$t_{2}$'], name='channel'),\n",
      "  Regular(40, 0, 1, name='x', label='tau_2'),\n",
      "  storage=Double()) # Sum: 3.0, 'LHE_HT': Hist(\n",
      "  StrCategory(['LHE_HT'], name='channel'),\n",
      "  Variable([70, 100, 200, 400, 600, 800, 1200, 2500, 3500], name='x', label='LHE HT'),\n",
      "  storage=Double()) # Sum: 2.0, 't_ratio': Hist(\n",
      "  StrCategory(['t_ratio'], name='channel'),\n",
      "  Regular(40, 0, 1, name='x', label='tau_r'),\n",
      "  storage=Double()) # Sum: 3.0, 'entries': 2, 'pNet': Hist(\n",
      "  StrCategory(['pNet'], name='channel'),\n",
      "  Regular(40, 0, 1, name='x', label='WvsQCD'),\n",
      "  storage=Double()) # Sum: 3.0, 'jets_lead': Hist(\n",
      "  StrCategory(['jets_lead'], name='channel'),\n",
      "  Regular(20, 50, 180, name='x', label='$leading VBS p_{T}^{j}$ [Gev]'),\n",
      "  storage=Double()) # Sum: 0.0 (2.0 with flow)}, 'bkg_WJets_1200To2500': {'entries': 91, 'PuppiMET': Hist(\n",
      "  StrCategory(['PuppiMET'], name='channel'),\n",
      "  Regular(30, 30, 300, name='x', label='PuppiMET [GeV]'),\n",
      "  storage=Double()) # Sum: 0.0 (91.0 with flow), 'e_pT': Hist(\n",
      "  StrCategory(['e_pT'], name='channel'),\n",
      "  Regular(20, 35, 400, name='x', label='$p_{T}^{e}$ [GeV]'),\n",
      "  storage=Double()) # Sum: 91.0, 'e_eta': Hist(\n",
      "  StrCategory(['e_eta'], name='channel'),\n",
      "  Regular(30, -2.5, 2.5, name='x', label='$\\\\eta^{e}$'),\n",
      "  storage=Double()) # Sum: 91.0, 'fatjet_pT': Hist(\n",
      "  StrCategory(['fatjet_pT'], name='channel'),\n",
      "  Regular(20, 200, 600, name='x', label='$p_{T}^{W_{had}}$ [GeV]'),\n",
      "  storage=Double()) # Sum: 4.0 (129.0 with flow), 'fatjet_mass': Hist(\n",
      "  StrCategory(['fatjet_mass'], name='channel'),\n",
      "  Regular(20, 30, 150, name='x', label='$m^{W_{had}}$ [GeV]'),\n",
      "  storage=Double()) # Sum: 91.0 (129.0 with flow), 'jets_mass': Hist(\n",
      "  StrCategory(['jets_mass'], name='channel'),\n",
      "  Regular(24, 500, 3500, name='x', label='$m_{jj} VBS$ [GeV]'),\n",
      "  storage=Double()) # Sum: 89.0 (91.0 with flow), 'jets_eta': Hist(\n",
      "  StrCategory(['jets_eta'], name='channel'),\n",
      "  Regular(20, 2.5, 8.5, name='x', label='$\\\\Delta\\\\eta_{jj} VBS$'),\n",
      "  storage=Double()) # Sum: 91.0, 'jets_lead': Hist(\n",
      "  StrCategory(['jets_lead'], name='channel'),\n",
      "  Regular(20, 50, 180, name='x', label='$leading VBS p_{T}^{j}$ [Gev]'),\n",
      "  storage=Double()) # Sum: 0.0 (91.0 with flow), 'jets_trail': Hist(\n",
      "  StrCategory(['jets_trail'], name='channel'),\n",
      "  Regular(14, 30, 250, name='x', label='$trailing VBS p_{T}^{j}$ [Gev]'),\n",
      "  storage=Double()) # Sum: 91.0, 'LHE_HT': Hist(\n",
      "  StrCategory(['LHE_HT'], name='channel'),\n",
      "  Variable([70, 100, 200, 400, 600, 800, 1200, 2500, 3500], name='x', label='LHE HT'),\n",
      "  storage=Double()) # Sum: 91.0, 'Nsubj_t1': Hist(\n",
      "  StrCategory(['$t_{1}$'], name='channel'),\n",
      "  Regular(40, 0, 1, name='x', label='tau_1'),\n",
      "  storage=Double()) # Sum: 129.0, 'Nsubj_t2': Hist(\n",
      "  StrCategory(['$t_{2}$'], name='channel'),\n",
      "  Regular(40, 0, 1, name='x', label='tau_2'),\n",
      "  storage=Double()) # Sum: 129.0, 't_ratio': Hist(\n",
      "  StrCategory(['t_ratio'], name='channel'),\n",
      "  Regular(40, 0, 1, name='x', label='tau_r'),\n",
      "  storage=Double()) # Sum: 129.0, 'pNet': Hist(\n",
      "  StrCategory(['pNet'], name='channel'),\n",
      "  Regular(40, 0, 1, name='x', label='WvsQCD'),\n",
      "  storage=Double()) # Sum: 129.0}, 'bkg_WJets_800To1200': {'entries': 752, 'PuppiMET': Hist(\n",
      "  StrCategory(['PuppiMET'], name='channel'),\n",
      "  Regular(30, 30, 300, name='x', label='PuppiMET [GeV]'),\n",
      "  storage=Double()) # Sum: 300.0 (752.0 with flow), 'e_pT': Hist(\n",
      "  StrCategory(['e_pT'], name='channel'),\n",
      "  Regular(20, 35, 400, name='x', label='$p_{T}^{e}$ [GeV]'),\n",
      "  storage=Double()) # Sum: 752.0, 'e_eta': Hist(\n",
      "  StrCategory(['e_eta'], name='channel'),\n",
      "  Regular(30, -2.5, 2.5, name='x', label='$\\\\eta^{e}$'),\n",
      "  storage=Double()) # Sum: 748.0 (752.0 with flow), 'fatjet_pT': Hist(\n",
      "  StrCategory(['fatjet_pT'], name='channel'),\n",
      "  Regular(20, 200, 600, name='x', label='$p_{T}^{W_{had}}$ [GeV]'),\n",
      "  storage=Double()) # Sum: 681.0 (1173.0 with flow), 'fatjet_mass': Hist(\n",
      "  StrCategory(['fatjet_mass'], name='channel'),\n",
      "  Regular(20, 30, 150, name='x', label='$m^{W_{had}}$ [GeV]'),\n",
      "  storage=Double()) # Sum: 1115.0 (1173.0 with flow), 'jets_mass': Hist(\n",
      "  StrCategory(['jets_mass'], name='channel'),\n",
      "  Regular(24, 500, 3500, name='x', label='$m_{jj} VBS$ [GeV]'),\n",
      "  storage=Double()) # Sum: 745.0 (752.0 with flow), 'jets_eta': Hist(\n",
      "  StrCategory(['jets_eta'], name='channel'),\n",
      "  Regular(20, 2.5, 8.5, name='x', label='$\\\\Delta\\\\eta_{jj} VBS$'),\n",
      "  storage=Double()) # Sum: 752.0, 'jets_lead': Hist(\n",
      "  StrCategory(['jets_lead'], name='channel'),\n",
      "  Regular(20, 50, 180, name='x', label='$leading VBS p_{T}^{j}$ [Gev]'),\n",
      "  storage=Double()) # Sum: 145.0 (752.0 with flow), 'jets_trail': Hist(\n",
      "  StrCategory(['jets_trail'], name='channel'),\n",
      "  Regular(14, 30, 250, name='x', label='$trailing VBS p_{T}^{j}$ [Gev]'),\n",
      "  storage=Double()) # Sum: 749.0 (752.0 with flow), 'LHE_HT': Hist(\n",
      "  StrCategory(['LHE_HT'], name='channel'),\n",
      "  Variable([70, 100, 200, 400, 600, 800, 1200, 2500, 3500], name='x', label='LHE HT'),\n",
      "  storage=Double()) # Sum: 752.0, 'Nsubj_t1': Hist(\n",
      "  StrCategory(['$t_{1}$'], name='channel'),\n",
      "  Regular(40, 0, 1, name='x', label='tau_1'),\n",
      "  storage=Double()) # Sum: 1173.0, 'Nsubj_t2': Hist(\n",
      "  StrCategory(['$t_{2}$'], name='channel'),\n",
      "  Regular(40, 0, 1, name='x', label='tau_2'),\n",
      "  storage=Double()) # Sum: 1173.0, 't_ratio': Hist(\n",
      "  StrCategory(['t_ratio'], name='channel'),\n",
      "  Regular(40, 0, 1, name='x', label='tau_r'),\n",
      "  storage=Double()) # Sum: 1173.0, 'pNet': Hist(\n",
      "  StrCategory(['pNet'], name='channel'),\n",
      "  Regular(40, 0, 1, name='x', label='WvsQCD'),\n",
      "  storage=Double()) # Sum: 1173.0}, 'bkg_WJets_600To800': {'entries': 5469, 'PuppiMET': Hist(\n",
      "  StrCategory(['PuppiMET'], name='channel'),\n",
      "  Regular(30, 30, 300, name='x', label='PuppiMET [GeV]'),\n",
      "  storage=Double()) # Sum: 4311.0 (5469.0 with flow), 'e_pT': Hist(\n",
      "  StrCategory(['e_pT'], name='channel'),\n",
      "  Regular(20, 35, 400, name='x', label='$p_{T}^{e}$ [GeV]'),\n",
      "  storage=Double()) # Sum: 5453.0 (5469.0 with flow), 'e_eta': Hist(\n",
      "  StrCategory(['e_eta'], name='channel'),\n",
      "  Regular(30, -2.5, 2.5, name='x', label='$\\\\eta^{e}$'),\n",
      "  storage=Double()) # Sum: 5401.0 (5469.0 with flow), 'fatjet_pT': Hist(\n",
      "  StrCategory(['fatjet_pT'], name='channel'),\n",
      "  Regular(20, 200, 600, name='x', label='$p_{T}^{W_{had}}$ [GeV]'),\n",
      "  storage=Double()) # Sum: 7482.0 (7733.0 with flow), 'fatjet_mass': Hist(\n",
      "  StrCategory(['fatjet_mass'], name='channel'),\n",
      "  Regular(20, 30, 150, name='x', label='$m^{W_{had}}$ [GeV]'),\n",
      "  storage=Double()) # Sum: 7698.0 (7733.0 with flow), 'jets_mass': Hist(\n",
      "  StrCategory(['jets_mass'], name='channel'),\n",
      "  Regular(24, 500, 3500, name='x', label='$m_{jj} VBS$ [GeV]'),\n",
      "  storage=Double()) # Sum: 5459.0 (5469.0 with flow), 'jets_eta': Hist(\n",
      "  StrCategory(['jets_eta'], name='channel'),\n",
      "  Regular(20, 2.5, 8.5, name='x', label='$\\\\Delta\\\\eta_{jj} VBS$'),\n",
      "  storage=Double()) # Sum: 5469.0, 'jets_lead': Hist(\n",
      "  StrCategory(['jets_lead'], name='channel'),\n",
      "  Regular(20, 50, 180, name='x', label='$leading VBS p_{T}^{j}$ [Gev]'),\n",
      "  storage=Double()) # Sum: 2057.0 (5469.0 with flow), 'jets_trail': Hist(\n",
      "  StrCategory(['jets_trail'], name='channel'),\n",
      "  Regular(14, 30, 250, name='x', label='$trailing VBS p_{T}^{j}$ [Gev]'),\n",
      "  storage=Double()) # Sum: 5463.0 (5469.0 with flow), 'LHE_HT': Hist(\n",
      "  StrCategory(['LHE_HT'], name='channel'),\n",
      "  Variable([70, 100, 200, 400, 600, 800, 1200, 2500, 3500], name='x', label='LHE HT'),\n",
      "  storage=Double()) # Sum: 5469.0, 'Nsubj_t1': Hist(\n",
      "  StrCategory(['$t_{1}$'], name='channel'),\n",
      "  Regular(40, 0, 1, name='x', label='tau_1'),\n",
      "  storage=Double()) # Sum: 7733.0, 'Nsubj_t2': Hist(\n",
      "  StrCategory(['$t_{2}$'], name='channel'),\n",
      "  Regular(40, 0, 1, name='x', label='tau_2'),\n",
      "  storage=Double()) # Sum: 7733.0, 't_ratio': Hist(\n",
      "  StrCategory(['t_ratio'], name='channel'),\n",
      "  Regular(40, 0, 1, name='x', label='tau_r'),\n",
      "  storage=Double()) # Sum: 7733.0, 'pNet': Hist(\n",
      "  StrCategory(['pNet'], name='channel'),\n",
      "  Regular(40, 0, 1, name='x', label='WvsQCD'),\n",
      "  storage=Double()) # Sum: 7733.0}, 'bkg_WJets_400To600': {'entries': 10826, 'PuppiMET': Hist(\n",
      "  StrCategory(['PuppiMET'], name='channel'),\n",
      "  Regular(30, 30, 300, name='x', label='PuppiMET [GeV]'),\n",
      "  storage=Double()) # Sum: 10219.0 (10826.0 with flow), 'e_pT': Hist(\n",
      "  StrCategory(['e_pT'], name='channel'),\n",
      "  Regular(20, 35, 400, name='x', label='$p_{T}^{e}$ [GeV]'),\n",
      "  storage=Double()) # Sum: 10805.0 (10826.0 with flow), 'e_eta': Hist(\n",
      "  StrCategory(['e_eta'], name='channel'),\n",
      "  Regular(30, -2.5, 2.5, name='x', label='$\\\\eta^{e}$'),\n",
      "  storage=Double()) # Sum: 10674.0 (10826.0 with flow), 'fatjet_pT': Hist(\n",
      "  StrCategory(['fatjet_pT'], name='channel'),\n",
      "  Regular(20, 200, 600, name='x', label='$p_{T}^{W_{had}}$ [GeV]'),\n",
      "  storage=Double()) # Sum: 13243.0, 'fatjet_mass': Hist(\n",
      "  StrCategory(['fatjet_mass'], name='channel'),\n",
      "  Regular(20, 30, 150, name='x', label='$m^{W_{had}}$ [GeV]'),\n",
      "  storage=Double()) # Sum: 13241.0 (13243.0 with flow), 'jets_mass': Hist(\n",
      "  StrCategory(['jets_mass'], name='channel'),\n",
      "  Regular(24, 500, 3500, name='x', label='$m_{jj} VBS$ [GeV]'),\n",
      "  storage=Double()) # Sum: 10817.0 (10826.0 with flow), 'jets_eta': Hist(\n",
      "  StrCategory(['jets_eta'], name='channel'),\n",
      "  Regular(20, 2.5, 8.5, name='x', label='$\\\\Delta\\\\eta_{jj} VBS$'),\n",
      "  storage=Double()) # Sum: 10822.0 (10826.0 with flow), 'jets_lead': Hist(\n",
      "  StrCategory(['jets_lead'], name='channel'),\n",
      "  Regular(20, 50, 180, name='x', label='$leading VBS p_{T}^{j}$ [Gev]'),\n",
      "  storage=Double()) # Sum: 6526.0 (10826.0 with flow), 'jets_trail': Hist(\n",
      "  StrCategory(['jets_trail'], name='channel'),\n",
      "  Regular(14, 30, 250, name='x', label='$trailing VBS p_{T}^{j}$ [Gev]'),\n",
      "  storage=Double()) # Sum: 10826.0, 'LHE_HT': Hist(\n",
      "  StrCategory(['LHE_HT'], name='channel'),\n",
      "  Variable([70, 100, 200, 400, 600, 800, 1200, 2500, 3500], name='x', label='LHE HT'),\n",
      "  storage=Double()) # Sum: 10826.0, 'Nsubj_t1': Hist(\n",
      "  StrCategory(['$t_{1}$'], name='channel'),\n",
      "  Regular(40, 0, 1, name='x', label='tau_1'),\n",
      "  storage=Double()) # Sum: 13243.0, 'Nsubj_t2': Hist(\n",
      "  StrCategory(['$t_{2}$'], name='channel'),\n",
      "  Regular(40, 0, 1, name='x', label='tau_2'),\n",
      "  storage=Double()) # Sum: 13243.0, 't_ratio': Hist(\n",
      "  StrCategory(['t_ratio'], name='channel'),\n",
      "  Regular(40, 0, 1, name='x', label='tau_r'),\n",
      "  storage=Double()) # Sum: 13243.0, 'pNet': Hist(\n",
      "  StrCategory(['pNet'], name='channel'),\n",
      "  Regular(40, 0, 1, name='x', label='WvsQCD'),\n",
      "  storage=Double()) # Sum: 13243.0}, 'bkg_WJets_200To400': {'entries': 12936, 'PuppiMET': Hist(\n",
      "  StrCategory(['PuppiMET'], name='channel'),\n",
      "  Regular(30, 30, 300, name='x', label='PuppiMET [GeV]'),\n",
      "  storage=Double()) # Sum: 12815.0 (12936.0 with flow), 'e_pT': Hist(\n",
      "  StrCategory(['e_pT'], name='channel'),\n",
      "  Regular(20, 35, 400, name='x', label='$p_{T}^{e}$ [GeV]'),\n",
      "  storage=Double()) # Sum: 12922.0 (12936.0 with flow), 'e_eta': Hist(\n",
      "  StrCategory(['e_eta'], name='channel'),\n",
      "  Regular(30, -2.5, 2.5, name='x', label='$\\\\eta^{e}$'),\n",
      "  storage=Double()) # Sum: 12745.0 (12936.0 with flow), 'fatjet_pT': Hist(\n",
      "  StrCategory(['fatjet_pT'], name='channel'),\n",
      "  Regular(20, 200, 600, name='x', label='$p_{T}^{W_{had}}$ [GeV]'),\n",
      "  storage=Double()) # Sum: 12514.0, 'fatjet_mass': Hist(\n",
      "  StrCategory(['fatjet_mass'], name='channel'),\n",
      "  Regular(20, 30, 150, name='x', label='$m^{W_{had}}$ [GeV]'),\n",
      "  storage=Double()) # Sum: 12514.0, 'jets_mass': Hist(\n",
      "  StrCategory(['jets_mass'], name='channel'),\n",
      "  Regular(24, 500, 3500, name='x', label='$m_{jj} VBS$ [GeV]'),\n",
      "  storage=Double()) # Sum: 12926.0 (12936.0 with flow), 'jets_eta': Hist(\n",
      "  StrCategory(['jets_eta'], name='channel'),\n",
      "  Regular(20, 2.5, 8.5, name='x', label='$\\\\Delta\\\\eta_{jj} VBS$'),\n",
      "  storage=Double()) # Sum: 12931.0 (12936.0 with flow), 'jets_lead': Hist(\n",
      "  StrCategory(['jets_lead'], name='channel'),\n",
      "  Regular(20, 50, 180, name='x', label='$leading VBS p_{T}^{j}$ [Gev]'),\n",
      "  storage=Double()) # Sum: 10451.0 (12936.0 with flow), 'jets_trail': Hist(\n",
      "  StrCategory(['jets_trail'], name='channel'),\n",
      "  Regular(14, 30, 250, name='x', label='$trailing VBS p_{T}^{j}$ [Gev]'),\n",
      "  storage=Double()) # Sum: 12936.0, 'LHE_HT': Hist(\n",
      "  StrCategory(['LHE_HT'], name='channel'),\n",
      "  Variable([70, 100, 200, 400, 600, 800, 1200, 2500, 3500], name='x', label='LHE HT'),\n",
      "  storage=Double()) # Sum: 12936.0, 'Nsubj_t1': Hist(\n",
      "  StrCategory(['$t_{1}$'], name='channel'),\n",
      "  Regular(40, 0, 1, name='x', label='tau_1'),\n",
      "  storage=Double()) # Sum: 12514.0, 'Nsubj_t2': Hist(\n",
      "  StrCategory(['$t_{2}$'], name='channel'),\n",
      "  Regular(40, 0, 1, name='x', label='tau_2'),\n",
      "  storage=Double()) # Sum: 12514.0, 't_ratio': Hist(\n",
      "  StrCategory(['t_ratio'], name='channel'),\n",
      "  Regular(40, 0, 1, name='x', label='tau_r'),\n",
      "  storage=Double()) # Sum: 12514.0, 'pNet': Hist(\n",
      "  StrCategory(['pNet'], name='channel'),\n",
      "  Regular(40, 0, 1, name='x', label='WvsQCD'),\n",
      "  storage=Double()) # Sum: 12514.0}, 'bkg_WJets_100To200': {'entries': 101, 'PuppiMET': Hist(\n",
      "  StrCategory(['PuppiMET'], name='channel'),\n",
      "  Regular(30, 30, 300, name='x', label='PuppiMET [GeV]'),\n",
      "  storage=Double()) # Sum: 101.0, 'e_pT': Hist(\n",
      "  StrCategory(['e_pT'], name='channel'),\n",
      "  Regular(20, 35, 400, name='x', label='$p_{T}^{e}$ [GeV]'),\n",
      "  storage=Double()) # Sum: 101.0, 'e_eta': Hist(\n",
      "  StrCategory(['e_eta'], name='channel'),\n",
      "  Regular(30, -2.5, 2.5, name='x', label='$\\\\eta^{e}$'),\n",
      "  storage=Double()) # Sum: 100.0 (101.0 with flow), 'fatjet_pT': Hist(\n",
      "  StrCategory(['fatjet_pT'], name='channel'),\n",
      "  Regular(20, 200, 600, name='x', label='$p_{T}^{W_{had}}$ [GeV]'),\n",
      "  storage=Double()) # Sum: 85.0, 'fatjet_mass': Hist(\n",
      "  StrCategory(['fatjet_mass'], name='channel'),\n",
      "  Regular(20, 30, 150, name='x', label='$m^{W_{had}}$ [GeV]'),\n",
      "  storage=Double()) # Sum: 85.0, 'jets_mass': Hist(\n",
      "  StrCategory(['jets_mass'], name='channel'),\n",
      "  Regular(24, 500, 3500, name='x', label='$m_{jj} VBS$ [GeV]'),\n",
      "  storage=Double()) # Sum: 101.0, 'jets_eta': Hist(\n",
      "  StrCategory(['jets_eta'], name='channel'),\n",
      "  Regular(20, 2.5, 8.5, name='x', label='$\\\\Delta\\\\eta_{jj} VBS$'),\n",
      "  storage=Double()) # Sum: 101.0, 'jets_lead': Hist(\n",
      "  StrCategory(['jets_lead'], name='channel'),\n",
      "  Regular(20, 50, 180, name='x', label='$leading VBS p_{T}^{j}$ [Gev]'),\n",
      "  storage=Double()) # Sum: 96.0 (101.0 with flow), 'jets_trail': Hist(\n",
      "  StrCategory(['jets_trail'], name='channel'),\n",
      "  Regular(14, 30, 250, name='x', label='$trailing VBS p_{T}^{j}$ [Gev]'),\n",
      "  storage=Double()) # Sum: 101.0, 'LHE_HT': Hist(\n",
      "  StrCategory(['LHE_HT'], name='channel'),\n",
      "  Variable([70, 100, 200, 400, 600, 800, 1200, 2500, 3500], name='x', label='LHE HT'),\n",
      "  storage=Double()) # Sum: 101.0, 'Nsubj_t1': Hist(\n",
      "  StrCategory(['$t_{1}$'], name='channel'),\n",
      "  Regular(40, 0, 1, name='x', label='tau_1'),\n",
      "  storage=Double()) # Sum: 85.0, 'Nsubj_t2': Hist(\n",
      "  StrCategory(['$t_{2}$'], name='channel'),\n",
      "  Regular(40, 0, 1, name='x', label='tau_2'),\n",
      "  storage=Double()) # Sum: 85.0, 't_ratio': Hist(\n",
      "  StrCategory(['t_ratio'], name='channel'),\n",
      "  Regular(40, 0, 1, name='x', label='tau_r'),\n",
      "  storage=Double()) # Sum: 85.0, 'pNet': Hist(\n",
      "  StrCategory(['pNet'], name='channel'),\n",
      "  Regular(40, 0, 1, name='x', label='WvsQCD'),\n",
      "  storage=Double()) # Sum: 85.0}, 'bkg_WJets_70To100': {'entries': 21, 'PuppiMET': Hist(\n",
      "  StrCategory(['PuppiMET'], name='channel'),\n",
      "  Regular(30, 30, 300, name='x', label='PuppiMET [GeV]'),\n",
      "  storage=Double()) # Sum: 20.0 (21.0 with flow), 'e_pT': Hist(\n",
      "  StrCategory(['e_pT'], name='channel'),\n",
      "  Regular(20, 35, 400, name='x', label='$p_{T}^{e}$ [GeV]'),\n",
      "  storage=Double()) # Sum: 21.0, 'e_eta': Hist(\n",
      "  StrCategory(['e_eta'], name='channel'),\n",
      "  Regular(30, -2.5, 2.5, name='x', label='$\\\\eta^{e}$'),\n",
      "  storage=Double()) # Sum: 21.0, 'fatjet_pT': Hist(\n",
      "  StrCategory(['fatjet_pT'], name='channel'),\n",
      "  Regular(20, 200, 600, name='x', label='$p_{T}^{W_{had}}$ [GeV]'),\n",
      "  storage=Double()) # Sum: 15.0, 'fatjet_mass': Hist(\n",
      "  StrCategory(['fatjet_mass'], name='channel'),\n",
      "  Regular(20, 30, 150, name='x', label='$m^{W_{had}}$ [GeV]'),\n",
      "  storage=Double()) # Sum: 15.0, 'jets_mass': Hist(\n",
      "  StrCategory(['jets_mass'], name='channel'),\n",
      "  Regular(24, 500, 3500, name='x', label='$m_{jj} VBS$ [GeV]'),\n",
      "  storage=Double()) # Sum: 21.0, 'jets_eta': Hist(\n",
      "  StrCategory(['jets_eta'], name='channel'),\n",
      "  Regular(20, 2.5, 8.5, name='x', label='$\\\\Delta\\\\eta_{jj} VBS$'),\n",
      "  storage=Double()) # Sum: 21.0, 'jets_lead': Hist(\n",
      "  StrCategory(['jets_lead'], name='channel'),\n",
      "  Regular(20, 50, 180, name='x', label='$leading VBS p_{T}^{j}$ [Gev]'),\n",
      "  storage=Double()) # Sum: 17.0 (21.0 with flow), 'jets_trail': Hist(\n",
      "  StrCategory(['jets_trail'], name='channel'),\n",
      "  Regular(14, 30, 250, name='x', label='$trailing VBS p_{T}^{j}$ [Gev]'),\n",
      "  storage=Double()) # Sum: 21.0, 'LHE_HT': Hist(\n",
      "  StrCategory(['LHE_HT'], name='channel'),\n",
      "  Variable([70, 100, 200, 400, 600, 800, 1200, 2500, 3500], name='x', label='LHE HT'),\n",
      "  storage=Double()) # Sum: 21.0, 'Nsubj_t1': Hist(\n",
      "  StrCategory(['$t_{1}$'], name='channel'),\n",
      "  Regular(40, 0, 1, name='x', label='tau_1'),\n",
      "  storage=Double()) # Sum: 15.0, 'Nsubj_t2': Hist(\n",
      "  StrCategory(['$t_{2}$'], name='channel'),\n",
      "  Regular(40, 0, 1, name='x', label='tau_2'),\n",
      "  storage=Double()) # Sum: 15.0, 't_ratio': Hist(\n",
      "  StrCategory(['t_ratio'], name='channel'),\n",
      "  Regular(40, 0, 1, name='x', label='tau_r'),\n",
      "  storage=Double()) # Sum: 15.0, 'pNet': Hist(\n",
      "  StrCategory(['pNet'], name='channel'),\n",
      "  Regular(40, 0, 1, name='x', label='WvsQCD'),\n",
      "  storage=Double()) # Sum: 15.0}, 'bkg_WJets': {'entries': 214, 'PuppiMET': Hist(\n",
      "  StrCategory(['PuppiMET'], name='channel'),\n",
      "  Regular(30, 30, 300, name='x', label='PuppiMET [GeV]'),\n",
      "  storage=Double()) # Sum: 207.0 (214.0 with flow), 'e_pT': Hist(\n",
      "  StrCategory(['e_pT'], name='channel'),\n",
      "  Regular(20, 35, 400, name='x', label='$p_{T}^{e}$ [GeV]'),\n",
      "  storage=Double()) # Sum: 214.0, 'e_eta': Hist(\n",
      "  StrCategory(['e_eta'], name='channel'),\n",
      "  Regular(30, -2.5, 2.5, name='x', label='$\\\\eta^{e}$'),\n",
      "  storage=Double()) # Sum: 210.0 (214.0 with flow), 'fatjet_pT': Hist(\n",
      "  StrCategory(['fatjet_pT'], name='channel'),\n",
      "  Regular(20, 200, 600, name='x', label='$p_{T}^{W_{had}}$ [GeV]'),\n",
      "  storage=Double()) # Sum: 214.0, 'fatjet_mass': Hist(\n",
      "  StrCategory(['fatjet_mass'], name='channel'),\n",
      "  Regular(20, 30, 150, name='x', label='$m^{W_{had}}$ [GeV]'),\n",
      "  storage=Double()) # Sum: 214.0, 'jets_mass': Hist(\n",
      "  StrCategory(['jets_mass'], name='channel'),\n",
      "  Regular(24, 500, 3500, name='x', label='$m_{jj} VBS$ [GeV]'),\n",
      "  storage=Double()) # Sum: 214.0, 'jets_eta': Hist(\n",
      "  StrCategory(['jets_eta'], name='channel'),\n",
      "  Regular(20, 2.5, 8.5, name='x', label='$\\\\Delta\\\\eta_{jj} VBS$'),\n",
      "  storage=Double()) # Sum: 214.0, 'jets_lead': Hist(\n",
      "  StrCategory(['jets_lead'], name='channel'),\n",
      "  Regular(20, 50, 180, name='x', label='$leading VBS p_{T}^{j}$ [Gev]'),\n",
      "  storage=Double()) # Sum: 147.0 (214.0 with flow), 'jets_trail': Hist(\n",
      "  StrCategory(['jets_trail'], name='channel'),\n",
      "  Regular(14, 30, 250, name='x', label='$trailing VBS p_{T}^{j}$ [Gev]'),\n",
      "  storage=Double()) # Sum: 214.0, 'LHE_HT': Hist(\n",
      "  StrCategory(['LHE_HT'], name='channel'),\n",
      "  Variable([70, 100, 200, 400, 600, 800, 1200, 2500, 3500], name='x', label='LHE HT'),\n",
      "  storage=Double()) # Sum: 209.0 (214.0 with flow), 'Nsubj_t1': Hist(\n",
      "  StrCategory(['$t_{1}$'], name='channel'),\n",
      "  Regular(40, 0, 1, name='x', label='tau_1'),\n",
      "  storage=Double()) # Sum: 214.0, 'Nsubj_t2': Hist(\n",
      "  StrCategory(['$t_{2}$'], name='channel'),\n",
      "  Regular(40, 0, 1, name='x', label='tau_2'),\n",
      "  storage=Double()) # Sum: 214.0, 't_ratio': Hist(\n",
      "  StrCategory(['t_ratio'], name='channel'),\n",
      "  Regular(40, 0, 1, name='x', label='tau_r'),\n",
      "  storage=Double()) # Sum: 214.0, 'pNet': Hist(\n",
      "  StrCategory(['pNet'], name='channel'),\n",
      "  Regular(40, 0, 1, name='x', label='WvsQCD'),\n",
      "  storage=Double()) # Sum: 214.0}, 'sig_WWjj_4f_EWK': {'entries': 3630, 'PuppiMET': Hist(\n",
      "  StrCategory(['PuppiMET'], name='channel'),\n",
      "  Regular(30, 30, 300, name='x', label='PuppiMET [GeV]'),\n",
      "  storage=Double()) # Sum: 3223.0 (3630.0 with flow), 'e_pT': Hist(\n",
      "  StrCategory(['e_pT'], name='channel'),\n",
      "  Regular(20, 35, 400, name='x', label='$p_{T}^{e}$ [GeV]'),\n",
      "  storage=Double()) # Sum: 3625.0 (3630.0 with flow), 'e_eta': Hist(\n",
      "  StrCategory(['e_eta'], name='channel'),\n",
      "  Regular(30, -2.5, 2.5, name='x', label='$\\\\eta^{e}$'),\n",
      "  storage=Double()) # Sum: 3614.0 (3630.0 with flow), 'fatjet_pT': Hist(\n",
      "  StrCategory(['fatjet_pT'], name='channel'),\n",
      "  Regular(20, 200, 600, name='x', label='$p_{T}^{W_{had}}$ [GeV]'),\n",
      "  storage=Double()) # Sum: 4095.0 (4178.0 with flow), 'fatjet_mass': Hist(\n",
      "  StrCategory(['fatjet_mass'], name='channel'),\n",
      "  Regular(20, 30, 150, name='x', label='$m^{W_{had}}$ [GeV]'),\n",
      "  storage=Double()) # Sum: 4178.0, 'jets_mass': Hist(\n",
      "  StrCategory(['jets_mass'], name='channel'),\n",
      "  Regular(24, 500, 3500, name='x', label='$m_{jj} VBS$ [GeV]'),\n",
      "  storage=Double()) # Sum: 3579.0 (3630.0 with flow), 'jets_eta': Hist(\n",
      "  StrCategory(['jets_eta'], name='channel'),\n",
      "  Regular(20, 2.5, 8.5, name='x', label='$\\\\Delta\\\\eta_{jj} VBS$'),\n",
      "  storage=Double()) # Sum: 3622.0 (3630.0 with flow), 'jets_lead': Hist(\n",
      "  StrCategory(['jets_lead'], name='channel'),\n",
      "  Regular(20, 50, 180, name='x', label='$leading VBS p_{T}^{j}$ [Gev]'),\n",
      "  storage=Double()) # Sum: 2446.0 (3630.0 with flow), 'jets_trail': Hist(\n",
      "  StrCategory(['jets_trail'], name='channel'),\n",
      "  Regular(14, 30, 250, name='x', label='$trailing VBS p_{T}^{j}$ [Gev]'),\n",
      "  storage=Double()) # Sum: 3630.0, 'LHE_HT': Hist(\n",
      "  StrCategory(['LHE_HT'], name='channel'),\n",
      "  Variable([70, 100, 200, 400, 600, 800, 1200, 2500, 3500], name='x', label='LHE HT'),\n",
      "  storage=Double()) # Sum: 3630.0, 'Nsubj_t1': Hist(\n",
      "  StrCategory(['$t_{1}$'], name='channel'),\n",
      "  Regular(40, 0, 1, name='x', label='tau_1'),\n",
      "  storage=Double()) # Sum: 4178.0, 'Nsubj_t2': Hist(\n",
      "  StrCategory(['$t_{2}$'], name='channel'),\n",
      "  Regular(40, 0, 1, name='x', label='tau_2'),\n",
      "  storage=Double()) # Sum: 4178.0, 't_ratio': Hist(\n",
      "  StrCategory(['t_ratio'], name='channel'),\n",
      "  Regular(40, 0, 1, name='x', label='tau_r'),\n",
      "  storage=Double()) # Sum: 4178.0, 'pNet': Hist(\n",
      "  StrCategory(['pNet'], name='channel'),\n",
      "  Regular(40, 0, 1, name='x', label='WvsQCD'),\n",
      "  storage=Double()) # Sum: 4178.0}}\n"
     ]
    }
   ],
   "source": [
    "#Clock\n",
    "tstart = time.time()\n",
    "\n",
    "#The processor to run the executor to use\n",
    "futures_run = processor.Runner(\n",
    "    executor = processor.FuturesExecutor(compression=None, workers=4),\n",
    "    #In the previous line, we can then set the the number of cores to use as argument of the FuturesExecutor \n",
    "    schema=NanoAODSchema,\n",
    "    #Coffea will split your data into chunks of many events.\n",
    "    #chunksize=200_000 #default 100_000\n",
    "    #maxchunks argument will stop the analysis after a certain number of chunks are reached\n",
    "    #maxchunks=10,\n",
    ")\n",
    "\n",
    "out = futures_run(\n",
    "    \"fileset.json\",\n",
    "    \"Events\", #Name of the TTree in the root file\n",
    "    processor_instance=MyProcessor()\n",
    ")\n",
    "\n",
    "elapsed = time.time() - tstart\n",
    "print(elapsed)\n",
    "print(out)"
   ]
  },
  {
   "cell_type": "code",
   "execution_count": 68,
   "id": "3aff16af",
   "metadata": {},
   "outputs": [
    {
     "name": "stdout",
     "output_type": "stream",
     "text": [
      "3630\n"
     ]
    },
    {
     "data": {
      "text/plain": [
       "Text(0.5, 1.0, 'PuppiMET distribution')"
      ]
     },
     "execution_count": 68,
     "metadata": {},
     "output_type": "execute_result"
    },
    {
     "data": {
      "image/png": "[encoded data removed]",
      "text/plain": [
       "<Figure size 432x288 with 1 Axes>"
      ]
     },
     "metadata": {
      "needs_background": "light"
     },
     "output_type": "display_data"
    }
   ],
   "source": [
    "print(out[\"sig_WWjj_4f_EWK\"][\"entries\"])\n",
    "(out[\"sig_WWjj_4f_EWK\"][\"PuppiMET\"]/out[\"sig_WWjj_4f_EWK\"][\"entries\"]).plot()\n",
    "plt.xlabel(\"PuppiMET [GeV]\")\n",
    "#plt.ylabel(\"counts\")\n",
    "plt.title(\"PuppiMET distribution\")"
   ]
  },
  {
   "cell_type": "code",
   "execution_count": 69,
   "id": "68650ad2",
   "metadata": {},
   "outputs": [
    {
     "data": {
      "text/plain": [
       "Text(0.5, 1.0, 'electron $p_{T}$ distribution')"
      ]
     },
     "execution_count": 69,
     "metadata": {},
     "output_type": "execute_result"
    },
    {
     "data": {
      "image/png": "[encoded data removed]",
      "text/plain": [
       "<Figure size 432x288 with 1 Axes>"
      ]
     },
     "metadata": {
      "needs_background": "light"
     },
     "output_type": "display_data"
    }
   ],
   "source": [
    "(out[\"sig_WWjj_4f_EWK\"][\"e_pT\"]/out[\"sig_WWjj_4f_EWK\"][\"entries\"]).plot()\n",
    "plt.xlabel(\"$p_{T}^{e}$ [GeV]\")\n",
    "#plt.ylabel(\"counts\")\n",
    "plt.title(\"electron $p_{T}$ distribution\")"
   ]
  },
  {
   "cell_type": "code",
   "execution_count": 70,
   "id": "c57d6496",
   "metadata": {},
   "outputs": [
    {
     "data": {
      "text/plain": [
       "Text(0.5, 1.0, 'electron $\\\\eta$ distribution')"
      ]
     },
     "execution_count": 70,
     "metadata": {},
     "output_type": "execute_result"
    },
    {
     "data": {
      "image/png": "[encoded data removed]",
      "text/plain": [
       "<Figure size 432x288 with 1 Axes>"
      ]
     },
     "metadata": {
      "needs_background": "light"
     },
     "output_type": "display_data"
    }
   ],
   "source": [
    "(out[\"sig_WWjj_4f_EWK\"][\"e_eta\"]/out[\"sig_WWjj_4f_EWK\"][\"entries\"]).plot()\n",
    "#plt.ylabel(\"counts\")\n",
    "plt.title(\"electron $\\eta$ distribution\")"
   ]
  },
  {
   "cell_type": "code",
   "execution_count": 71,
   "id": "900d20a6",
   "metadata": {},
   "outputs": [
    {
     "data": {
      "text/plain": [
       "Text(0.5, 1.0, 'AK8 jet distribution')"
      ]
     },
     "execution_count": 71,
     "metadata": {},
     "output_type": "execute_result"
    },
    {
     "data": {
      "image/png": "[encoded data removed]",
      "text/plain": [
       "<Figure size 432x288 with 1 Axes>"
      ]
     },
     "metadata": {
      "needs_background": "light"
     },
     "output_type": "display_data"
    }
   ],
   "source": [
    "(out[\"sig_WWjj_4f_EWK\"][\"fatjet_pT\"]/out[\"sig_WWjj_4f_EWK\"][\"entries\"]).plot()\n",
    "plt.xlabel(\"$p_{T}^{W_{had}}$ [GeV]\")\n",
    "#plt.ylabel(\"counts\")\n",
    "plt.title(\"AK8 jet distribution\")"
   ]
  },
  {
   "cell_type": "code",
   "execution_count": 72,
   "id": "0c655708",
   "metadata": {},
   "outputs": [
    {
     "data": {
      "text/plain": [
       "Text(0.5, 1.0, 'AK8 jet distribution')"
      ]
     },
     "execution_count": 72,
     "metadata": {},
     "output_type": "execute_result"
    },
    {
     "data": {
      "image/png": "[encoded data removed]",
      "text/plain": [
       "<Figure size 432x288 with 1 Axes>"
      ]
     },
     "metadata": {
      "needs_background": "light"
     },
     "output_type": "display_data"
    }
   ],
   "source": [
    "(out[\"sig_WWjj_4f_EWK\"][\"fatjet_mass\"]/out[\"sig_WWjj_4f_EWK\"][\"entries\"]).plot()\n",
    "plt.xlabel(\"$m_{jet}$ [GeV]\")\n",
    "#plt.ylabel(\"counts\")\n",
    "plt.title(\"AK8 jet distribution\")"
   ]
  },
  {
   "cell_type": "code",
   "execution_count": 73,
   "id": "bcd1dfc8",
   "metadata": {},
   "outputs": [
    {
     "data": {
      "text/plain": [
       "Text(0.5, 1.0, 'VBS $m_{jj}$ distribution')"
      ]
     },
     "execution_count": 73,
     "metadata": {},
     "output_type": "execute_result"
    },
    {
     "data": {
      "image/png": "[encoded data removed]",
      "text/plain": [
       "<Figure size 432x288 with 1 Axes>"
      ]
     },
     "metadata": {
      "needs_background": "light"
     },
     "output_type": "display_data"
    }
   ],
   "source": [
    "(out[\"sig_WWjj_4f_EWK\"][\"jets_mass\"]/out[\"sig_WWjj_4f_EWK\"][\"entries\"]).plot()\n",
    "plt.xlabel(\"$m_{jj}$ [GeV]\")\n",
    "#plt.ylabel(\"counts\")\n",
    "plt.yscale(\"log\")\n",
    "plt.title(\"VBS $m_{jj}$ distribution\")"
   ]
  },
  {
   "cell_type": "code",
   "execution_count": 74,
   "id": "2ab4eb56",
   "metadata": {},
   "outputs": [
    {
     "data": {
      "text/plain": [
       "Text(0.5, 1.0, '$\\\\Delta\\\\eta$ VBS jets')"
      ]
     },
     "execution_count": 74,
     "metadata": {},
     "output_type": "execute_result"
    },
    {
     "data": {
      "image/png": "[encoded data removed]",
      "text/plain": [
       "<Figure size 432x288 with 1 Axes>"
      ]
     },
     "metadata": {
      "needs_background": "light"
     },
     "output_type": "display_data"
    }
   ],
   "source": [
    "(out[\"sig_WWjj_4f_EWK\"][\"jets_eta\"]/out[\"sig_WWjj_4f_EWK\"][\"entries\"]).plot()\n",
    "plt.xlabel(\"$\\Delta\\eta_{jj} \\ VBS$\")\n",
    "#plt.ylabel(\"counts\")\n",
    "plt.title(\"$\\Delta\\eta$ VBS jets\")"
   ]
  },
  {
   "cell_type": "code",
   "execution_count": 75,
   "id": "4a272981",
   "metadata": {},
   "outputs": [
    {
     "data": {
      "text/plain": [
       "Text(0.5, 1.0, 'Leading VBS jet $p_{T}$')"
      ]
     },
     "execution_count": 75,
     "metadata": {},
     "output_type": "execute_result"
    },
    {
     "data": {
      "image/png": "[encoded data removed]",
      "text/plain": [
       "<Figure size 432x288 with 1 Axes>"
      ]
     },
     "metadata": {
      "needs_background": "light"
     },
     "output_type": "display_data"
    }
   ],
   "source": [
    "(out[\"sig_WWjj_4f_EWK\"][\"jets_lead\"]/out[\"sig_WWjj_4f_EWK\"][\"entries\"]).plot()\n",
    "plt.xlabel(\"$leading \\ VBS \\ p_{T}^{jet}$ [Gev]\")\n",
    "#plt.ylabel(\"counts\")\n",
    "plt.title(\"Leading VBS jet $p_{T}$\")"
   ]
  },
  {
   "cell_type": "code",
   "execution_count": 76,
   "id": "3850ebaa",
   "metadata": {},
   "outputs": [
    {
     "data": {
      "text/plain": [
       "Text(0.5, 1.0, 'Trailing VBS jet $p_{T}$')"
      ]
     },
     "execution_count": 76,
     "metadata": {},
     "output_type": "execute_result"
    },
    {
     "data": {
      "image/png": "[encoded data removed]",
      "text/plain": [
       "<Figure size 432x288 with 1 Axes>"
      ]
     },
     "metadata": {
      "needs_background": "light"
     },
     "output_type": "display_data"
    }
   ],
   "source": [
    "(out[\"sig_WWjj_4f_EWK\"][\"jets_trail\"]/out[\"sig_WWjj_4f_EWK\"][\"entries\"]).plot()\n",
    "plt.xlabel(\"$trailing \\ VBS \\ p_{T}^{jet}$ [Gev]\")\n",
    "#plt.ylabel(\"counts\")\n",
    "plt.yscale(\"log\")\n",
    "plt.title(\"Trailing VBS jet $p_{T}$\")"
   ]
  },
  {
   "cell_type": "code",
   "execution_count": 38,
   "id": "3f6c92bf",
   "metadata": {},
   "outputs": [
    {
     "data": {
      "text/plain": [
       "<matplotlib.legend.Legend at 0x7f0b30070a00>"
      ]
     },
     "execution_count": 38,
     "metadata": {},
     "output_type": "execute_result"
    },
    {
     "data": {
      "image/png": "[encoded data removed]",
      "text/plain": [
       "<Figure size 432x288 with 1 Axes>"
      ]
     },
     "metadata": {
      "needs_background": "light"
     },
     "output_type": "display_data"
    }
   ],
   "source": [
    "(out[\"sig_WWjj_4f_EWK\"][\"Nsubj_t1\"]/out[\"sig_WWjj_4f_EWK\"][\"entries\"]).plot()\n",
    "(out[\"bkg_WJets\"][\"Nsubj_t1\"]/out[\"bkg_WJets\"][\"entries\"]).plot()\n",
    "plt.title(\"70 GeV < $m_{jet}$ < 115 GeV\")\n",
    "plt.xlabel(\"$t_{N}$\")\n",
    "plt.ylabel(\"relative occurrence\")\n",
    "plt.legend()"
   ]
  },
  {
   "cell_type": "code",
   "execution_count": 39,
   "id": "248c7cd1",
   "metadata": {},
   "outputs": [
    {
     "data": {
      "text/plain": [
       "<matplotlib.legend.Legend at 0x7f0b2af60550>"
      ]
     },
     "execution_count": 39,
     "metadata": {},
     "output_type": "execute_result"
    },
    {
     "data": {
      "image/png": "[encoded data removed]",
      "text/plain": [
       "<Figure size 432x288 with 1 Axes>"
      ]
     },
     "metadata": {
      "needs_background": "light"
     },
     "output_type": "display_data"
    }
   ],
   "source": [
    "(out[\"sig_WWjj_4f_EWK\"][\"Nsubj_t2\"]/out[\"sig_WWjj_4f_EWK\"][\"entries\"]).plot()\n",
    "(out[\"bkg_WJets\"][\"Nsubj_t2\"]/out[\"bkg_WJets\"][\"entries\"]).plot()\n",
    "plt.title(\"70 GeV < $m_{jet}$ < 115 GeV\")\n",
    "plt.xlabel(\"$t_{N}$\")\n",
    "plt.ylabel(\"relative occurrence\")\n",
    "plt.legend()"
   ]
  },
  {
   "cell_type": "code",
   "execution_count": 88,
   "id": "412d229e",
   "metadata": {},
   "outputs": [
    {
     "data": {
      "text/plain": [
       "<matplotlib.legend.Legend at 0x7f0b298d1730>"
      ]
     },
     "execution_count": 88,
     "metadata": {},
     "output_type": "execute_result"
    },
    {
     "data": {
      "image/png": "[encoded data removed]",
      "text/plain": [
       "<Figure size 432x288 with 1 Axes>"
      ]
     },
     "metadata": {
      "needs_background": "light"
     },
     "output_type": "display_data"
    }
   ],
   "source": [
    "(out[\"sig_WWjj_4f_EWK\"][\"t_ratio\"]/out[\"sig_WWjj_4f_EWK\"][\"entries\"]).plot()\n",
    "(out[\"bkg_WJets\"][\"t_ratio\"]/out[\"bkg_WJets\"][\"entries\"]).plot()\n",
    "plt.title(\"70 GeV < $m_{jet}$ < 115 GeV\")\n",
    "plt.xlabel(\"$t_{2}/t_{1}$\")\n",
    "plt.ylabel(\"relative occurrence\")\n",
    "plt.legend()"
   ]
  },
  {
   "cell_type": "code",
   "execution_count": 91,
   "id": "1c516095",
   "metadata": {},
   "outputs": [
    {
     "data": {
      "text/plain": [
       "<matplotlib.legend.Legend at 0x7f0b29c3bbb0>"
      ]
     },
     "execution_count": 91,
     "metadata": {},
     "output_type": "execute_result"
    },
    {
     "data": {
      "image/png": "[encoded data removed]",
      "text/plain": [
       "<Figure size 432x288 with 1 Axes>"
      ]
     },
     "metadata": {
      "needs_background": "light"
     },
     "output_type": "display_data"
    }
   ],
   "source": [
    "(out[\"sig_WWjj_4f_EWK\"][\"pNet\"]/out[\"sig_WWjj_4f_EWK\"][\"entries\"]).plot()\n",
    "(out[\"bkg_WJets\"][\"pNet\"]/out[\"bkg_WJets\"][\"entries\"]).plot()\n",
    "#(out[\"bkg_WJets\"][\"pNet\"]/out[\"bkg_WJets\"][\"entries\"]).plot()\n",
    "plt.title(\"70 GeV < $m_{jet}$ < 115 GeV\")\n",
    "plt.xlabel(\"WvsQCD score\")\n",
    "plt.ylabel(\"relative occurrence\")\n",
    "plt.legend()"
   ]
  },
  {
   "cell_type": "code",
   "execution_count": 44,
   "id": "220e94f4",
   "metadata": {
    "scrolled": true
   },
   "outputs": [
    {
     "data": {
      "text/plain": [
       "<matplotlib.legend.Legend at 0x7f0b2ace5820>"
      ]
     },
     "execution_count": 44,
     "metadata": {},
     "output_type": "execute_result"
    },
    {
     "data": {
      "image/png": "[encoded data removed]",
      "text/plain": [
       "<Figure size 432x288 with 1 Axes>"
      ]
     },
     "metadata": {
      "needs_background": "light"
     },
     "output_type": "display_data"
    }
   ],
   "source": [
    "#(out[\"bkg_WJets\"][\"LHE_HT\"]*lumi_2018*1000*xs_WJets/out[\"bkg_WJets\"][\"entries\"]).plot()\n",
    "h_1 = out[\"bkg_WJets_70To100\"][\"LHE_HT\"]*lumi_2018*1000*xs_WJets_70To100/out[\"bkg_WJets_70To100\"][\"entries\"]\n",
    "h_2 = out[\"bkg_WJets_100To200\"][\"LHE_HT\"]*lumi_2018*1000*xs_WJets_100To200/out[\"bkg_WJets_100To200\"][\"entries\"]\n",
    "h_3 = out[\"bkg_WJets_200To400\"][\"LHE_HT\"]*lumi_2018*1000*xs_WJets_200To400/out[\"bkg_WJets_200To400\"][\"entries\"]\n",
    "h_4 = out[\"bkg_WJets_400To600\"][\"LHE_HT\"]*lumi_2018*1000*xs_WJets_400To600/out[\"bkg_WJets_400To600\"][\"entries\"]\n",
    "h_5 = out[\"bkg_WJets_600To800\"][\"LHE_HT\"]*lumi_2018*1000*xs_WJets_600To800/out[\"bkg_WJets_600To800\"][\"entries\"]\n",
    "h_6 = out[\"bkg_WJets_800To1200\"][\"LHE_HT\"]*lumi_2018*1000*xs_WJets_800To1200/out[\"bkg_WJets_800To1200\"][\"entries\"]\n",
    "h_7 = out[\"bkg_WJets_1200To2500\"][\"LHE_HT\"]*lumi_2018*1000*xs_WJets_1200To2500/out[\"bkg_WJets_1200To2500\"][\"entries\"]\n",
    "h_8 = out[\"bkg_WJets_2500ToInf\"][\"LHE_HT\"]*lumi_2018*1000*xs_WJets_2500ToInf/out[\"bkg_WJets_2500ToInf\"][\"entries\"]\n",
    "h_1.plot(), h_2.plot(), h_3.plot(), h_4.plot(), h_5.plot(), h_6.plot(), h_7.plot(), h_8.plot()\n",
    "plt.title(\"LHE HT\")\n",
    "plt.xlabel(\"LHE HT\")\n",
    "plt.yscale(\"log\")\n",
    "plt.ylabel(\"counts\")\n",
    "plt.legend()"
   ]
  },
  {
   "cell_type": "code",
   "execution_count": 89,
   "id": "52de0811",
   "metadata": {},
   "outputs": [
    {
     "data": {
      "text/plain": [
       "<matplotlib.legend.Legend at 0x7f0b2a22b730>"
      ]
     },
     "execution_count": 89,
     "metadata": {},
     "output_type": "execute_result"
    },
    {
     "data": {
      "image/png": "[encoded data removed]",
      "text/plain": [
       "<Figure size 432x288 with 1 Axes>"
      ]
     },
     "metadata": {
      "needs_background": "light"
     },
     "output_type": "display_data"
    }
   ],
   "source": [
    "(out[\"sig_WWjj_4f_EWK\"][\"t_ratio\"]/out[\"sig_WWjj_4f_EWK\"][\"t_ratio\"].sum()).plot()\n",
    "h_1 = out[\"bkg_WJets_70To100\"][\"t_ratio\"]\n",
    "x1 = xs_WJets_70To100\n",
    "n1 = out[\"bkg_WJets_70To100\"][\"entries\"]\n",
    "h_2 = out[\"bkg_WJets_100To200\"][\"t_ratio\"]\n",
    "x2 = xs_WJets_100To200\n",
    "n2 = out[\"bkg_WJets_100To200\"][\"entries\"]\n",
    "h_3 = out[\"bkg_WJets_200To400\"][\"t_ratio\"]\n",
    "x3 = xs_WJets_200To400\n",
    "n3 = out[\"bkg_WJets_200To400\"][\"entries\"]\n",
    "h_4 = out[\"bkg_WJets_400To600\"][\"t_ratio\"]\n",
    "x4 = xs_WJets_400To600\n",
    "n4 = out[\"bkg_WJets_400To600\"][\"entries\"]\n",
    "h_5 = out[\"bkg_WJets_600To800\"][\"t_ratio\"]\n",
    "x5 = xs_WJets_600To800\n",
    "n5 = out[\"bkg_WJets_600To800\"][\"entries\"]\n",
    "h_6 = out[\"bkg_WJets_800To1200\"][\"t_ratio\"]\n",
    "x6 = xs_WJets_800To1200\n",
    "n6 = out[\"bkg_WJets_800To1200\"][\"entries\"]\n",
    "h_7 = out[\"bkg_WJets_1200To2500\"][\"t_ratio\"]\n",
    "x7 = xs_WJets_1200To2500\n",
    "n7 = out[\"bkg_WJets_1200To2500\"][\"entries\"]\n",
    "h_8 = out[\"bkg_WJets_2500ToInf\"][\"t_ratio\"]\n",
    "x8 = xs_WJets_2500ToInf\n",
    "n8 = out[\"bkg_WJets_2500ToInf\"][\"entries\"]\n",
    "h = ((h_1*x1+h_2*x2+h_3*x3+h_4*x4+h_5*x5+h_6*x6+h_7*x7+h_8*x8)/(x1+x2+x3+x4+x5+x6+x7+x8))\n",
    "(h/h.sum()).plot()\n",
    "plt.title(\"70 GeV < $m_{jet}$ < 115 GeV\")\n",
    "plt.xlabel(\"$t_{2}/t_{1}$\")\n",
    "plt.ylabel(\"counts\")\n",
    "plt.legend()"
   ]
  },
  {
   "cell_type": "code",
   "execution_count": 93,
   "id": "f8ffdbee",
   "metadata": {},
   "outputs": [
    {
     "data": {
      "text/plain": [
       "<matplotlib.legend.Legend at 0x7f0b297b6be0>"
      ]
     },
     "execution_count": 93,
     "metadata": {},
     "output_type": "execute_result"
    },
    {
     "data": {
      "image/png": "[encoded data removed]",
      "text/plain": [
       "<Figure size 432x288 with 1 Axes>"
      ]
     },
     "metadata": {
      "needs_background": "light"
     },
     "output_type": "display_data"
    }
   ],
   "source": [
    "(out[\"sig_WWjj_4f_EWK\"][\"pNet\"]/out[\"sig_WWjj_4f_EWK\"][\"pNet\"].sum()).plot()\n",
    "h_p1 = out[\"bkg_WJets_70To100\"][\"pNet\"]\n",
    "h_p2 = out[\"bkg_WJets_100To200\"][\"pNet\"]\n",
    "h_p3 = out[\"bkg_WJets_200To400\"][\"pNet\"]\n",
    "h_p4 = out[\"bkg_WJets_400To600\"][\"pNet\"]\n",
    "h_p5 = out[\"bkg_WJets_600To800\"][\"pNet\"]\n",
    "h_p6 = out[\"bkg_WJets_800To1200\"][\"pNet\"]\n",
    "h_p7 = out[\"bkg_WJets_1200To2500\"][\"pNet\"]\n",
    "h_p8 = out[\"bkg_WJets_2500ToInf\"][\"pNet\"]\n",
    "h_p = ((h_p1*x1+h_p2*x2+h_p3*x3+h_p4*x4+h_p5*x5+h_p6*x6+h_p7*x7+h_p8*x8)/(x1+x2+x3+x4+x5+x6+x7+x8))\n",
    "(h_p/h_p.sum()).plot()\n",
    "plt.title(\"70 GeV < $m_{jet}$ < 115 GeV\")\n",
    "plt.xlabel(\"WvsQCD score\")\n",
    "plt.ylabel(\"relative occurrence\")\n",
    "plt.legend()"
   ]
  },
  {
   "cell_type": "code",
   "execution_count": null,
   "id": "baac59a9",
   "metadata": {},
   "outputs": [],
   "source": []
  }
 ],
 "metadata": {
  "@webio": {
   "lastCommId": null,
   "lastKernelId": null
  },
  "kernelspec": {
   "display_name": "Python 3",
   "language": "python",
   "name": "python3"
  },
  "language_info": {
   "codemirror_mode": {
    "name": "ipython",
    "version": 3
   },
   "file_extension": ".py",
   "mimetype": "text/x-python",
   "name": "python",
   "nbconvert_exporter": "python",
   "pygments_lexer": "ipython3",
   "version": "3.9.12"
  }
 },
 "nbformat": 4,
 "nbformat_minor": 5
}
