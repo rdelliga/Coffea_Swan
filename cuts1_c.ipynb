{
 "cells": [
  {
   "cell_type": "code",
   "execution_count": 27,
   "id": "9ef76dc5",
   "metadata": {},
   "outputs": [],
   "source": [
    "import uproot\n",
    "import awkward as ak #The events object is an awkward array\n",
    "## Plotting.\n",
    "import matplotlib.pyplot as plt\n",
    "\n",
    "# Hists\n",
    "import hist\n",
    "from hist import Hist\n",
    "\n",
    "# NanoEvents\n",
    "from coffea.nanoevents import NanoEventsFactory, NanoAODSchema\n",
    "\n",
    "# Processors\n",
    "#import coffea.processor as processor\n",
    "from coffea import processor\n",
    "\n",
    "#Math\n",
    "import math\n",
    "\n",
    "#Numpy\n",
    "import numpy as np\n",
    "\n",
    "#PackedSelection to select events\n",
    "from coffea.analysis_tools import PackedSelection"
   ]
  },
  {
   "cell_type": "code",
   "execution_count": 45,
   "id": "4d26f223",
   "metadata": {},
   "outputs": [],
   "source": [
    "# The processor class bundles our data analysis together while giving us some helpful tools.  It also leaves looping and chunks to the framework instead of us.\n",
    "class MyProcessor(processor.ProcessorABC):\n",
    "    def __init__(self):\n",
    "        pass\n",
    "    \n",
    "    def process(self, old_events):\n",
    "        #Implement the selections to veto events\n",
    "        selection = PackedSelection()\n",
    "        #At least one lepton \n",
    "        selection.add(\"one_l\", (ak.num(old_events.Electron)+ak.num(old_events.Muon))>=1)\n",
    "        \n",
    "        #Electron signal region\n",
    "        selection.add(\"fst_tight_e\", ak.mask(old_events.Electron, ak.num(old_events.Electron) >= 1)[:, 0].mvaFall17V2Iso_WP90 == True)\n",
    "        selection.add(\n",
    "            \"electron_pt\",\n",
    "            ak.any(old_events.Electron.pt > 35.0, axis=1)  \n",
    "        )\n",
    "        selection.add(\n",
    "            \"e_range_eta\",\n",
    "            ak.any(abs (old_events.Electron.eta) < 2.5, axis=1)\n",
    "        )\n",
    "        #The following two cuts work in inverse logic, when you require the selection later you must take false\n",
    "        selection.add(\"snd_tight_e\", ak.mask(old_events.Electron, ak.num(old_events.Electron) > 1)[:, 1].mvaFall17V2Iso_WP90 == True)\n",
    "        selection.add(\"loose_e\", (ak.mask(old_events.Electron, ak.num(old_events.Electron) > 1)[:, 1].mvaFall17V2Iso_WPL == True) & (ak.mask(old_events.Electron, ak.num(old_events.Electron) > 1)[:, 1].pt >10))\n",
    "        \n",
    "        #Muon signal region (boosted)\n",
    "        selection.add(\"one_tight_mu\", ak.mask(old_events.Muon, ak.num(old_events.Muon) >= 1)[:, 0].tightId == (3>2))\n",
    "        selection.add(\"no_2nd_tight_mu\", ak.mask(old_events.Muon, ak.num(old_events.Muon) > 1)[:, 1].tightId == (3==2))\n",
    "        #The following three cuts work in inverse logic, when you require the selection later you must take false\n",
    "        selection.add(\"any_tight_e\", ak.any(old_events.Electron.mvaFall17V2Iso_WP90 == (3>2), axis=1))\n",
    "        selection.add(\n",
    "            \"muon_Pt\",\n",
    "            ak.any(old_events.Muon.pt >= 30.0, axis=1)\n",
    "        )\n",
    "        selection.add(\n",
    "            \"mu_range_eta\",\n",
    "            ak.any(abs (old_events.Muon.eta) < 2.4, axis=1)\n",
    "        )\n",
    "        selection.add(\"loose_mu\", (ak.mask(old_events.Muon, ak.num(old_events.Muon) > 1)[:, 1].looseId == (3>2)) & (ak.mask(old_events.Muon, ak.num(old_events.Muon) > 1)[:, 1].pt >10))\n",
    "        selection.add(\"loose_e1\", (ak.mask(old_events.Electron, ak.num(old_events.Electron) > 1)[:, 0].mvaFall17V2Iso_WPL == (3>2)) & (ak.mask(old_events.Electron, ak.num(old_events.Electron) > 1)[:, 0].pt >10))\n",
    "        selection.add(\"loose_e2\", (ak.mask(old_events.Electron, ak.num(old_events.Electron) > 1)[:, 1].mvaFall17V2Iso_WPL == (3>2)) & (ak.mask(old_events.Electron, ak.num(old_events.Electron) > 1)[:, 1].pt >10))\n",
    "        \n",
    "        #Puppy met cut\n",
    "        selection.add(\"lead_pMET\", old_events.PuppiMET.pt>30)\n",
    "        #b Veto\n",
    "        selection.add(\"b_veto\", ak.all(old_events.Jet.btagDeepB<=0.84, axis=1))\n",
    "        #selection.add(\"b_veto\", ak.all(old_events.Jet.btagCSVV2<=0.81, axis=1))\n",
    "        #VBS jets (looking for the max invariant mass pair)\n",
    "        # Get all combinations of jet pairs in every event\n",
    "        dijets = ak.combinations(old_events.Jet, 2, fields=['i0', 'i1'])\n",
    "        # Check that jet pairs have the greatest mass\n",
    "        ismax=(dijets['i0']+dijets['i1']).mass==ak.max((dijets['i0']+dijets['i1']).mass, axis=1)\n",
    "        #previous line: returns a Boolean array with True where the condition is met, and false otherwise\n",
    "        # Mask the dijets with the ismax to get dijets with the gratest mass\n",
    "        VBS_jets = dijets[ismax]\n",
    "        # Separate pairs into arrays of the leading and the trailing VBS jets in each pair.\n",
    "        VBS_jet_l, VBS_jet_t = ak.unzip(VBS_jets)\n",
    "        #VBS selection\n",
    "        selection.add(\n",
    "            \"lead_VBS_ljet\",   \n",
    "            ak.all(VBS_jet_l.pt>50, axis=1)\n",
    "        )\n",
    "        selection.add(\n",
    "            \"lead_VBS_tjet\",   \n",
    "            ak.all(VBS_jet_t.pt>30, axis=1)\n",
    "        )\n",
    "        selection.add(\n",
    "            \"lead_VBS_mass\",   \n",
    "            ak.all((VBS_jet_l+VBS_jet_t).mass>500, axis=1)\n",
    "        )\n",
    "        selection.add(\n",
    "            \"lead_VBS_eta\",   \n",
    "            ak.all(abs(VBS_jet_l.eta-VBS_jet_t.eta)>2.5, axis=1)\n",
    "        )\n",
    "        selection.add(\"one_fatjet\", (ak.num(old_events.FatJet) == 1))\n",
    "        selection.add(\"two_jet\", (ak.num(old_events.Jet) >= 2))\n",
    "        #Transverse mass of the W boson decaying leptonically\n",
    "        #With electrons\n",
    "        selection.add(\n",
    "            \"W_Tmass_e\",\n",
    "            ak.all(2*old_events.Electron.pt*old_events.MET.pt*(1-np.cos(old_events.Electron.phi-old_events.MET.phi))<185**2, axis=1)\n",
    "        )\n",
    "        #With muons\n",
    "        selection.add(\n",
    "            \"W_Tmass_mu\",\n",
    "            ak.all(2*old_events.Muon.pt*old_events.MET.pt*(1-np.cos(old_events.Muon.phi-old_events.MET.phi))<185**2, axis=1)\n",
    "        )\n",
    "        #Invariant mass of the W boson decaying hadronically, use softdropmass\n",
    "        selection.add(\n",
    "            \"W_mass_fatjet\",\n",
    "            ak.all((old_events.FatJet.msoftdrop>70) & (old_events.FatJet.msoftdrop<115), axis=1)\n",
    "        )\n",
    "        \n",
    "        #Electron mask\n",
    "        #one_l=True, fst_tight_e=True, snd_tight_e=False, loose_e=False, electron_pt=True, e_range_eta=True, lead_pMET=True, b_veto=True, lead_VBS_ljet=True, lead_VBS_tjet=True, lead_VBS_mass=True, lead_VBS_eta=True, one_fatjet=True, two_jet=True, W_Tmass_e=True, W_mass_fatjet=True\n",
    "        ev_mask_e = selection.require(one_l=True, fst_tight_e=True, snd_tight_e=False, loose_e=False, electron_pt=True, e_range_eta=True, lead_pMET=True, b_veto=True, lead_VBS_ljet=True, lead_VBS_tjet=True, lead_VBS_mass=True, lead_VBS_eta=True, two_jet=True, one_fatjet=True, W_mass_fatjet=True)\n",
    "        #Muon mask\n",
    "        ev_mask_mu = selection.require(one_l=True, one_tight_mu=True, no_2nd_tight_mu=True, loose_mu=False, loose_e1=False, loose_e2=False, any_tight_e=False, muon_Pt=True, mu_range_eta=True, lead_pMET=True, b_veto=True, lead_VBS_ljet=True, lead_VBS_tjet=True, lead_VBS_mass=True, lead_VBS_eta=True, one_fatjet=True, two_jet=True, W_Tmass_mu=True, W_mass_fatjet=True)\n",
    "        #Apply the cuts on the events with the mask (chose either electron or muon signal region)\n",
    "        events=old_events[ev_mask_e]\n",
    "        \n",
    "        # This is where we do our actual analysis. The dataset has columns similar to the TTree's; events.columns can tell you them, or events.[object].columns for deeper depth.\n",
    "        dataset = events.metadata['dataset']\n",
    "        #Define the fiducial region\n",
    "        #Electron, muon , jets, fatjets\n",
    "        electron = events.Electron\n",
    "        muon = events.Muon\n",
    "        jets=events.Jet\n",
    "        fatjets = events.FatJet\n",
    "        #Jets isolation from electrons\n",
    "        # Get all combinations of jets and electrons in every event\n",
    "        jets_e = ak.cartesian({\"x\": jets, \"y\": electron})\n",
    "        # Check that jets satisfy the isolation\n",
    "        jets_iso_e = ((jets_e[\"x\"].eta-jets_e[\"y\"].eta)**2+(jets_e[\"x\"].phi-jets_e[\"y\"].phi)**2>0.4**2)\n",
    "        # Mask the jets_e with the jets_iso to get jets isolated from electrons\n",
    "        jets_e = jets_e[jets_iso_e]\n",
    "        # Separate pairs into jets and electons, redefining the jets (but not the electrons)\n",
    "        jets, el = ak.unzip(jets_e)\n",
    "        #FatJets isolation from electrons\n",
    "        # Get all combinations of fatjets and electrons in every event\n",
    "        fatjets_e = ak.cartesian({\"x\": fatjets, \"y\": electron})\n",
    "        # Check that jets satisfy the isolation\n",
    "        fatjets_iso_e = ((fatjets_e[\"x\"].eta-fatjets_e[\"y\"].eta)**2+(fatjets_e[\"x\"].phi-fatjets_e[\"y\"].phi)**2>0.8**2)\n",
    "        # Mask the fatjets_e with the fatjets_iso to get fatjets isolated from electrons\n",
    "        fatjets_e = fatjets_e[fatjets_iso_e]\n",
    "        # Separate pairs into fatjets and electons, redefining the fatjets (but not the electrons)\n",
    "        fatjets, el = ak.unzip(fatjets_e)\n",
    "        #Jets isolation from muons\n",
    "        # Get all combinations of jets and muons in every event\n",
    "        #jets_mu = ak.cartesian({\"x\": jets, \"y\": muon})\n",
    "        # Check that jets satisfy the isolation\n",
    "        #jets_iso_mu = ((jets_mu[\"x\"].eta-jets_mu[\"y\"].eta)**2+(jets_mu[\"x\"].phi-jets_mu[\"y\"].phi)**2>0.4**2)\n",
    "        # Mask the jets_mu with the jets_iso_mu to get jets isolated from muons\n",
    "        #jets_mu = jets_mu[jets_iso_mu]\n",
    "        # Separate pairs into jets and muons, redefining the jets (but not the muons)\n",
    "        #jets, mu = ak.unzip(jets_mu)\n",
    "        #FatJets isolation from muons\n",
    "        # Get all combinations of fatjets and muons in every event\n",
    "        #fatjets_mu = ak.cartesian({\"x\": fatjets, \"y\": muon})\n",
    "        # Check that fatjets satisfy the isolation\n",
    "        #fatjets_iso_mu = ((fatjets_mu[\"x\"].eta-fatjets_mu[\"y\"].eta)**2+(fatjets_mu[\"x\"].phi-fatjets_mu[\"y\"].phi)**2>0.8**2)\n",
    "        # Mask the fatjets_mu with the fatjets_iso_mu to get fatjets isolated from muons\n",
    "        #fatjets_mu = fatjets_mu[fatjets_iso_mu]\n",
    "        # Separate pairs into jets and muons, redefining the jets (but not the muons)\n",
    "        #fatjets, mu = ak.unzip(fatjets_mu)\n",
    "        #Jets cuts\n",
    "        jets_eta_cut = (abs (jets.eta) < 4.7)\n",
    "        jets_pt_cut = (jets.pt > 30)\n",
    "        jets = jets[jets_pt_cut&jets_eta_cut]\n",
    "        #FatJets cuts\n",
    "        fatjets_eta_cut = (abs (fatjets.eta) < 2.4)\n",
    "        fatjets_pt_cut = (fatjets.pt > 200)\n",
    "        fatjets = fatjets[fatjets_pt_cut&fatjets_eta_cut]\n",
    "        #Removing AK4(Jet) jets overlapping with AK8(FatJets) jets\n",
    "        # Get all combinations of jets and fatjets in every event\n",
    "        jets_fatjets = ak.cartesian({\"x\": jets, \"y\": fatjets})\n",
    "        # Check that jets satisfy the isolation\n",
    "        jets_iso_f = ((jets_fatjets[\"x\"].eta-jets_fatjets[\"y\"].eta)**2+(jets_fatjets[\"x\"].phi-jets_fatjets[\"y\"].phi)**2>0.8**2)\n",
    "        # Mask the jets_fatjets with the jets_iso_f to get jets isolated from fatjets\n",
    "        jets_fatjets = jets_fatjets[jets_iso_f]\n",
    "        # Separate pairs into jets and electons, redefining the jets (but not the fatjets)\n",
    "        jets, fj = ak.unzip(jets_fatjets)\n",
    "        \n",
    "        # Bins and categories for the histogram\n",
    "        h_MET = hist.Hist(hist.axis.StrCategory(name='channel', categories=['MET']), \n",
    "                      hist.axis.Regular(name='x', label='$E_{T}^{miss}$ [GeV]', bins=12, start=30, stop=400))\n",
    "        h_e_pT = hist.Hist(hist.axis.StrCategory(name='channel', categories=['e_pT']), \n",
    "                      hist.axis.Regular(name='x', label='$p_{T}^{e}$ [GeV]', bins=8, start=35, stop=150))\n",
    "        h_fatjet = hist.Hist(hist.axis.StrCategory(name='channel', categories=['fatjet']), \n",
    "                      hist.axis.Regular(name='x', label='$p_{T}^{e}$ [GeV]', bins=20, start=30, stop=150))\n",
    "\n",
    "        # This fills our histogram once our data is collected.\n",
    "        h_MET.fill(channel='MET', x=events.MET.pt)\n",
    "        h_e_pT.fill(channel='e_pT', x=events.Electron[:,0].pt)\n",
    "        h_fatjet.fill(channel='fatjet', x=ak.flatten(events.FatJet.mass))\n",
    "        #previous line: you have to flatten the awkward array because its size is ambiguous due to variable-length arrays\n",
    "        return {\n",
    "            dataset: {\n",
    "                \"entries\": len(events),\n",
    "                \"MET\": h_MET,\n",
    "                \"e_pT\": h_e_pT,\n",
    "                \"fatjet\": h_fatjet,\n",
    "            }\n",
    "        }\n",
    "    \n",
    "    def postprocess(self, accumulator):\n",
    "        pass"
   ]
  },
  {
   "cell_type": "code",
   "execution_count": 46,
   "id": "91faa784",
   "metadata": {},
   "outputs": [
    {
     "data": {
      "application/vnd.jupyter.widget-view+json": {
       "model_id": "91ed37f904b14cf7b132d6681e6805c3",
       "version_major": 2,
       "version_minor": 0
      },
      "text/plain": [
       "Processing:   0%|          | 0/21 [00:00<?, ?chunk/s]"
      ]
     },
     "metadata": {},
     "output_type": "display_data"
    },
    {
     "data": {
      "text/plain": [
       "{'signal': {'MET': Hist(\n",
       "    StrCategory(['MET'], name='channel'),\n",
       "    Regular(12, 30, 400, name='x', label='$E_{T}^{miss}$ [GeV]'),\n",
       "    storage=Double()) # Sum: 1677.0 (1845.0 with flow),\n",
       "  'entries': 1845,\n",
       "  'e_pT': Hist(\n",
       "    StrCategory(['e_pT'], name='channel'),\n",
       "    Regular(8, 35, 150, name='x', label='$p_{T}^{e}$ [GeV]'),\n",
       "    storage=Double()) # Sum: 1827.0 (1845.0 with flow),\n",
       "  'fatjet': Hist(\n",
       "    StrCategory(['fatjet'], name='channel'),\n",
       "    Regular(20, 30, 150, name='x', label='$p_{T}^{e}$ [GeV]'),\n",
       "    storage=Double()) # Sum: 0.0 (1845.0 with flow)},\n",
       " 'bkg': {'entries': 5,\n",
       "  'MET': Hist(\n",
       "    StrCategory(['MET'], name='channel'),\n",
       "    Regular(12, 30, 400, name='x', label='$E_{T}^{miss}$ [GeV]'),\n",
       "    storage=Double()) # Sum: 5.0,\n",
       "  'e_pT': Hist(\n",
       "    StrCategory(['e_pT'], name='channel'),\n",
       "    Regular(8, 35, 150, name='x', label='$p_{T}^{e}$ [GeV]'),\n",
       "    storage=Double()) # Sum: 5.0,\n",
       "  'fatjet': Hist(\n",
       "    StrCategory(['fatjet'], name='channel'),\n",
       "    Regular(20, 30, 150, name='x', label='$p_{T}^{e}$ [GeV]'),\n",
       "    storage=Double()) # Sum: 0.0 (5.0 with flow)}}"
      ]
     },
     "execution_count": 46,
     "metadata": {},
     "output_type": "execute_result"
    }
   ],
   "source": [
    "base = '/eos/cms/store/mc/RunIISummer20UL18NanoAODv9/WJetsToLNu_HT-100To200_TuneCP5_13TeV-madgraphMLM-pythia8/NANOAODSIM/106X_upgrade2018_realistic_v16_L1v1-v1/'\n",
    "\n",
    "fileset = {\n",
    "    'bkg': [\n",
    "        base + '2810000/8D99B98F-CABA-E74E-81E3-63779BC0A6AD.root',\n",
    "        base + '30000/08A5C166-FD81-954D-B937-923B4A1C085C.root',\n",
    "    ],\n",
    "    'signal': [\n",
    "        'com_SM_final.root'\n",
    "    ]\n",
    "}\n",
    "\n",
    "futures_run = processor.Runner(\n",
    "    executor = processor.FuturesExecutor(compression=None, workers=4),\n",
    "    schema=NanoAODSchema,\n",
    "    #maxchunks=5,\n",
    ")\n",
    "\n",
    "out = futures_run(\n",
    "    fileset,\n",
    "    \"Events\",\n",
    "    processor_instance=MyProcessor()\n",
    ")\n",
    "out"
   ]
  },
  {
   "cell_type": "code",
   "execution_count": 47,
   "id": "3aff16af",
   "metadata": {},
   "outputs": [
    {
     "name": "stdout",
     "output_type": "stream",
     "text": [
      "1845\n"
     ]
    },
    {
     "data": {
      "text/plain": [
       "Text(0.5, 1.0, 'MET distribution')"
      ]
     },
     "execution_count": 47,
     "metadata": {},
     "output_type": "execute_result"
    },
    {
     "data": {
      "image/png": "[encoded data removed]",
      "text/plain": [
       "<Figure size 432x288 with 1 Axes>"
      ]
     },
     "metadata": {
      "needs_background": "light"
     },
     "output_type": "display_data"
    }
   ],
   "source": [
    "print(out[\"signal\"][\"entries\"])\n",
    "out[\"signal\"][\"MET\"].plot()\n",
    "plt.xlabel(\"$E_{T}^{miss}$ [GeV]\")\n",
    "plt.ylabel(\"counts\")\n",
    "plt.title(\"MET distribution\")"
   ]
  },
  {
   "cell_type": "code",
   "execution_count": 48,
   "id": "68650ad2",
   "metadata": {},
   "outputs": [
    {
     "data": {
      "text/plain": [
       "Text(0.5, 1.0, 'electron $p_{T}$ distribution')"
      ]
     },
     "execution_count": 48,
     "metadata": {},
     "output_type": "execute_result"
    },
    {
     "data": {
      "image/png": "[encoded data removed]",
      "text/plain": [
       "<Figure size 432x288 with 1 Axes>"
      ]
     },
     "metadata": {
      "needs_background": "light"
     },
     "output_type": "display_data"
    }
   ],
   "source": [
    "out[\"signal\"][\"e_pT\"].plot()\n",
    "plt.xlabel(\"$p_{T}^{e}$ [GeV]\")\n",
    "plt.ylabel(\"counts\")\n",
    "plt.title(\"electron $p_{T}$ distribution\")"
   ]
  },
  {
   "cell_type": "code",
   "execution_count": 49,
   "id": "900d20a6",
   "metadata": {},
   "outputs": [
    {
     "data": {
      "text/plain": [
       "Text(0.5, 1.0, 'AK8 jet distribution')"
      ]
     },
     "execution_count": 49,
     "metadata": {},
     "output_type": "execute_result"
    },
    {
     "data": {
      "image/png": "[encoded data removed]",
      "text/plain": [
       "<Figure size 432x288 with 1 Axes>"
      ]
     },
     "metadata": {
      "needs_background": "light"
     },
     "output_type": "display_data"
    }
   ],
   "source": [
    "out[\"signal\"][\"fatjet\"].plot()\n",
    "plt.xlabel(\"$m_{jet}$ [GeV]\")\n",
    "plt.ylabel(\"counts\")\n",
    "plt.title(\"AK8 jet distribution\")"
   ]
  },
  {
   "cell_type": "code",
   "execution_count": 55,
   "id": "52bd016b",
   "metadata": {},
   "outputs": [
    {
     "name": "stdout",
     "output_type": "stream",
     "text": [
      "[0, 0, 1, 1, 1, 0, 0, 0, 0, 1, 1, 0, 0, 1, ... 0, 1, 1, 0, 0, 0, 0, 0, 0, 0, 0, 2, 0]\n",
      "[[], [], [Electron], [Electron], [Electron, ... [], [], [], [Electron, Electron], []]\n",
      "253240\n"
     ]
    }
   ],
   "source": [
    "#Check\n",
    "print(ak.num(old_events.Electron))\n",
    "print(old_events.Electron)\n",
    "print(ak.size(old_events.Electron, axis=0))"
   ]
  },
  {
   "cell_type": "code",
   "execution_count": 53,
   "id": "9bf36ae1",
   "metadata": {},
   "outputs": [
    {
     "name": "stdout",
     "output_type": "stream",
     "text": [
      "['one_l', 'fst_tight_e', 'snd_tight_e', 'loose_e', 'electron_pt', 'e_range_eta', 'one_tight_mu', 'no_2nd_tight_mu', 'any_tight_e', 'loose_mu', 'loose_e1', 'loose_e2', 'muon_Pt', 'mu_range_eta', 'lead_pMET', 'b_veto', 'lead_VBS_ljet', 'lead_VBS_tjet', 'lead_VBS_mass', 'lead_VBS_eta', 'one_fatjet', 'two_jet', 'W_Tmass_e', 'W_Tmass_mu', 'W_mass_fatjet']\n",
      "1845\n",
      "462\n"
     ]
    }
   ],
   "source": [
    "#Implement the selections to veto events\n",
    "from coffea.analysis_tools import PackedSelection\n",
    "\n",
    "selection = PackedSelection()\n",
    "\n",
    "#At least one lepton \n",
    "selection.add(\"one_l\", (ak.num(old_events.Electron)+ak.num(old_events.Muon))>=1)\n",
    "\n",
    "#Electron signal region\n",
    "selection.add(\"fst_tight_e\", ak.mask(old_events.Electron, ak.num(old_events.Electron) >= 1)[:, 0].mvaFall17V2Iso_WP90 == True)\n",
    "#The following cuts work in inverse logic, when you require the selection later you must take false\n",
    "selection.add(\"snd_tight_e\", ak.mask(old_events.Electron, ak.num(old_events.Electron) > 1)[:, 1].mvaFall17V2Iso_WP90 == True)\n",
    "selection.add(\"loose_e\", (ak.mask(old_events.Electron, ak.num(old_events.Electron) > 1)[:, 1].mvaFall17V2Iso_WPL == True) & (ak.mask(old_events.Electron, ak.num(old_events.Electron) > 1)[:, 1].pt >10))\n",
    "selection.add(\n",
    "    \"electron_pt\",\n",
    "    ak.any(old_events.Electron.pt > 35.0, axis=1)  \n",
    ")\n",
    "selection.add(\n",
    "    \"e_range_eta\",\n",
    "    ak.any(abs (old_events.Electron.eta) < 2.5, axis=1)\n",
    ")\n",
    "\n",
    "#Muon signal region (boosted)\n",
    "selection.add(\"one_tight_mu\", ak.mask(old_events.Muon, ak.num(old_events.Muon) >= 1)[:, 0].tightId == (3>2))\n",
    "selection.add(\"no_2nd_tight_mu\", ak.mask(old_events.Muon, ak.num(old_events.Muon) > 1)[:, 1].tightId == (3==2))\n",
    "#The following three cuts work in inverse logic, when you require the selection later you must take false\n",
    "selection.add(\"any_tight_e\", ak.any(old_events.Electron.mvaFall17V2Iso_WP90 == (3>2), axis=1))\n",
    "selection.add(\"loose_mu\", (ak.mask(old_events.Muon, ak.num(old_events.Muon) > 1)[:, 1].looseId == (3>2)) & (ak.mask(old_events.Muon, ak.num(old_events.Muon) > 1)[:, 1].pt >10))\n",
    "selection.add(\"loose_e1\", (ak.mask(old_events.Electron, ak.num(old_events.Electron) > 1)[:, 0].mvaFall17V2Iso_WPL == (3>2)) & (ak.mask(old_events.Electron, ak.num(old_events.Electron) > 1)[:, 0].pt >10))\n",
    "selection.add(\"loose_e2\", (ak.mask(old_events.Electron, ak.num(old_events.Electron) > 1)[:, 1].mvaFall17V2Iso_WPL == (3>2)) & (ak.mask(old_events.Electron, ak.num(old_events.Electron) > 1)[:, 1].pt >10))\n",
    "selection.add(\n",
    "    \"muon_Pt\",\n",
    "    ak.any(old_events.Muon.pt >= 30.0, axis=1)  \n",
    ")\n",
    "selection.add(\n",
    "    \"mu_range_eta\",\n",
    "    ak.any(abs (old_events.Muon.eta) < 2.4, axis=1)\n",
    ")\n",
    "\n",
    "#Puppy met cut\n",
    "selection.add(\"lead_pMET\", old_events.PuppiMET.pt>30)\n",
    "\n",
    "#b Veto\n",
    "selection.add(\"b_veto\", ak.all(old_events.Jet.btagDeepB<=0.84, axis=1))\n",
    "#selection.add(\"b_veto\", ak.all(old_events.Jet.btagCSVV2<=0.81, axis=1))\n",
    "\n",
    "#VBS jets (looking for the max invariant mass pair)\n",
    "# Get all combinations of jet pairs in every event\n",
    "dijets = ak.combinations(old_events.Jet, 2, fields=['i0', 'i1'])\n",
    "# Check that jet pairs have the greatest mass\n",
    "ismax=(dijets['i0']+dijets['i1']).mass==ak.max((dijets['i0']+dijets['i1']).mass, axis=1)\n",
    "#previous line: returns a Boolean array with True where the condition is met, and false otherwise\n",
    "# Mask the dijets with the ismax to get dijets with the gratest mass\n",
    "VBS_jets = dijets[ismax]\n",
    "# Separate pairs into arrays of the leading and the trailing VBS jets in each pair.\n",
    "VBS_jet_l, VBS_jet_t = ak.unzip(VBS_jets)\n",
    "\n",
    "#VBS selection\n",
    "selection.add(\n",
    "    \"lead_VBS_ljet\",   \n",
    "    ak.all(VBS_jet_l.pt>50, axis=1)\n",
    ")\n",
    "selection.add(\n",
    "    \"lead_VBS_tjet\",   \n",
    "    ak.all(VBS_jet_t.pt>30, axis=1)\n",
    ")\n",
    "selection.add(\n",
    "    \"lead_VBS_mass\",   \n",
    "    ak.all((VBS_jet_l+VBS_jet_t).mass>500, axis=1)\n",
    ")\n",
    "selection.add(\n",
    "    \"lead_VBS_eta\",   \n",
    "    ak.all(abs(VBS_jet_l.eta-VBS_jet_t.eta)>2.5, axis=1)\n",
    ")\n",
    "selection.add(\"one_fatjet\", (ak.num(old_events.FatJet) == 1))\n",
    "selection.add(\"two_jet\", (ak.num(old_events.Jet) >= 2))\n",
    "\n",
    "#Transverse mass of the W boson decaying leptonically\n",
    "#With electrons\n",
    "selection.add(\n",
    "    \"W_Tmass_e\",\n",
    "    ak.all(2*old_events.Electron.pt*old_events.MET.pt*(1-np.cos(old_events.Electron.phi-old_events.MET.phi))<185**2, axis=1)\n",
    ")\n",
    "#With muons\n",
    "selection.add(\n",
    "    \"W_Tmass_mu\",\n",
    "    ak.all(2*old_events.Muon.pt*old_events.MET.pt*(1-np.cos(old_events.Muon.phi-old_events.MET.phi))<185**2, axis=1)\n",
    ")\n",
    "\n",
    "#Invariant mass of the W boson decaying hadronically, use softdropmass\n",
    "selection.add(\n",
    "    \"W_mass_fatjet\",\n",
    "    ak.all((old_events.FatJet.msoftdrop>70) & (old_events.FatJet.msoftdrop<115), axis=1)\n",
    ")\n",
    "\n",
    "print(selection.names)\n",
    "\n",
    "#Electron mask\n",
    "#one_l=True, fst_tight_e=True, snd_tight_e=False, loose_e=False, electron_pt=True, e_range_eta=True, lead_pMET=True, b_veto=True, lead_VBS_ljet=True, lead_VBS_tjet=True, lead_VBS_mass=True, lead_VBS_eta=True, one_fatjet=True, two_jet=True, W_Tmass_e=True, W_mass_fatjet=True\n",
    "ev_mask_e = selection.require(one_l=True, fst_tight_e=True, snd_tight_e=False, loose_e=False, electron_pt=True, e_range_eta=True, lead_pMET=True, b_veto=True, lead_VBS_ljet=True, lead_VBS_tjet=True, lead_VBS_mass=True, lead_VBS_eta=True, two_jet=True, one_fatjet=True, W_mass_fatjet=True)\n",
    "print(ev_mask_e.sum())\n",
    "\n",
    "#Muon mask\n",
    "ev_mask_mu = selection.require(one_l=True, one_tight_mu=True, no_2nd_tight_mu=True, loose_mu=False, loose_e1=False, loose_e2=False, any_tight_e=False, muon_Pt=True, mu_range_eta=True, lead_pMET=True, b_veto=True, lead_VBS_ljet=True, lead_VBS_tjet=True, lead_VBS_mass=True, lead_VBS_eta=True, one_fatjet=True, two_jet=True, W_Tmass_mu=True, W_mass_fatjet=True)\n",
    "print(ev_mask_mu.sum())\n",
    "\n",
    "#Apply the cuts on the events with the mask (chose either electron or muon signal region)\n",
    "events=old_events[ev_mask_e]"
   ]
  },
  {
   "cell_type": "code",
   "execution_count": 27,
   "id": "907da3c4",
   "metadata": {},
   "outputs": [
    {
     "name": "stdout",
     "output_type": "stream",
     "text": [
      "1845\n",
      "[2, 1, 1, 1, 2, 3, 2, 1, 2, 1, 1, 1, 1, 1, ... 1, 2, 1, 1, 3, 1, 2, 1, 3, 1, 1, 3, 2]\n",
      "[[98.7, 13.7], [47.4], [70.4], [115], ... [80.6], [99.5, 26.7, 18.6], [35.6, 16.3]]\n",
      "[True, None, None, None, True, True, True, ... None, True, None, None, True, True]\n",
      "[[True, False], [True], [True], ... True], [True, False, False], [True, False]]\n",
      "[0, 0, 0, 0, 0, 0, 0, 1, 1, 2, 0, 0, 0, 2, ... 0, 0, 1, 0, 0, 0, 1, 0, 0, 0, 1, 0, 1]\n",
      "[[], [], [], [], [], [], [], [6.42], ... [3.42], [], [], [], [11.3], [], [3.45]]\n",
      "[[], [], [], [], [], [], [], [False], ... [False], [], [], [], [True], [], [False]]\n",
      "[[], [], [], [], [], [], [], [False], ... [True], [], [], [], [True], [], [True]]\n",
      "[[0.1, 0.0213, 0.0153, -1, 0.0936, -1, 0.101, ... 0.0173], [0.518, 0.0562, -1, -1]]\n"
     ]
    }
   ],
   "source": [
    "#Just a check\n",
    "print(ak.size(events.Electron, axis=0))\n",
    "print(ak.num(events.Electron))\n",
    "print(events.Electron.pt)\n",
    "print(ak.mask(events.Electron, ak.num(events.Electron) > 1)[:, 0].mvaFall17V2Iso_WP90)\n",
    "print(events.Electron.mvaFall17V2Iso_WP90)\n",
    "print(ak.num(events.Muon))\n",
    "print(events.Muon.pt)\n",
    "print(events.Muon.tightId)\n",
    "print(events.Muon.looseId)\n",
    "print(events.Jet.btagDeepB)\n",
    "#print(events.Jet.btagCSVV2)"
   ]
  },
  {
   "cell_type": "code",
   "execution_count": 28,
   "id": "55673d4b",
   "metadata": {},
   "outputs": [],
   "source": [
    "#Define the fiducial region\n",
    "\n",
    "#Electron, muon , jets, fatjets\n",
    "electron = events.Electron\n",
    "muon = events.Muon\n",
    "jets=events.Jet\n",
    "fatjets = events.FatJet\n",
    "\n",
    "#Jets isolation from electrons\n",
    "# Get all combinations of jets and electrons in every event\n",
    "jets_e = ak.cartesian({\"x\": jets, \"y\": electron})\n",
    "# Check that jets satisfy the isolation\n",
    "jets_iso_e = ((jets_e[\"x\"].eta-jets_e[\"y\"].eta)**2+(jets_e[\"x\"].phi-jets_e[\"y\"].phi)**2>0.4**2)\n",
    "# Mask the jets_e with the jets_iso to get jets isolated from electrons\n",
    "jets_e = jets_e[jets_iso_e]\n",
    "# Separate pairs into jets and electons, redefining the jets (but not the electrons)\n",
    "jets, el = ak.unzip(jets_e)\n",
    "\n",
    "#FatJets isolation from electrons\n",
    "# Get all combinations of fatjets and electrons in every event\n",
    "fatjets_e = ak.cartesian({\"x\": fatjets, \"y\": electron})\n",
    "# Check that jets satisfy the isolation\n",
    "fatjets_iso_e = ((fatjets_e[\"x\"].eta-fatjets_e[\"y\"].eta)**2+(fatjets_e[\"x\"].phi-fatjets_e[\"y\"].phi)**2>0.8**2)\n",
    "# Mask the fatjets_e with the fatjets_iso to get fatjets isolated from electrons\n",
    "fatjets_e = fatjets_e[fatjets_iso_e]\n",
    "# Separate pairs into fatjets and electons, redefining the fatjets (but not the electrons)\n",
    "fatjets, el = ak.unzip(fatjets_e)"
   ]
  },
  {
   "cell_type": "code",
   "execution_count": null,
   "id": "830e6d33",
   "metadata": {},
   "outputs": [],
   "source": [
    "#Jets isolation from muons\n",
    "# Get all combinations of jets and muons in every event\n",
    "#jets_mu = ak.cartesian({\"x\": jets, \"y\": muon})\n",
    "# Check that jets satisfy the isolation\n",
    "#jets_iso_mu = ((jets_mu[\"x\"].eta-jets_mu[\"y\"].eta)**2+(jets_mu[\"x\"].phi-jets_mu[\"y\"].phi)**2>0.4**2)\n",
    "# Mask the jets_mu with the jets_iso_mu to get jets isolated from muons\n",
    "#jets_mu = jets_mu[jets_iso_mu]\n",
    "# Separate pairs into jets and muons, redefining the jets (but not the muons)\n",
    "#jets, mu = ak.unzip(jets_mu)\n",
    "\n",
    "#FatJets isolation from muons\n",
    "# Get all combinations of fatjets and muons in every event\n",
    "#fatjets_mu = ak.cartesian({\"x\": fatjets, \"y\": muon})\n",
    "# Check that fatjets satisfy the isolation\n",
    "#fatjets_iso_mu = ((fatjets_mu[\"x\"].eta-fatjets_mu[\"y\"].eta)**2+(fatjets_mu[\"x\"].phi-fatjets_mu[\"y\"].phi)**2>0.8**2)\n",
    "# Mask the fatjets_mu with the fatjets_iso_mu to get fatjets isolated from muons\n",
    "#fatjets_mu = fatjets_mu[fatjets_iso_mu]\n",
    "# Separate pairs into jets and muons, redefining the jets (but not the muons)\n",
    "#fatjets, mu = ak.unzip(fatjets_mu)"
   ]
  },
  {
   "cell_type": "code",
   "execution_count": 29,
   "id": "78966a73",
   "metadata": {},
   "outputs": [],
   "source": [
    "#Jets cuts\n",
    "jets_eta_cut = (abs (jets.eta) < 4.7)\n",
    "jets_pt_cut = (jets.pt > 30)\n",
    "jets = jets[jets_pt_cut&jets_eta_cut]\n",
    "\n",
    "#FatJets cuts\n",
    "fatjets_eta_cut = (abs (fatjets.eta) < 2.4)\n",
    "fatjets_pt_cut = (fatjets.pt > 200)\n",
    "fatjets = fatjets[fatjets_pt_cut&fatjets_eta_cut]\n",
    "\n",
    "#Removing AK4(Jet) jets overlapping with AK8(FatJets) jets\n",
    "# Get all combinations of jets and fatjets in every event\n",
    "jets_fatjets = ak.cartesian({\"x\": jets, \"y\": fatjets})\n",
    "# Check that jets satisfy the isolation\n",
    "jets_iso_f = ((jets_fatjets[\"x\"].eta-jets_fatjets[\"y\"].eta)**2+(jets_fatjets[\"x\"].phi-jets_fatjets[\"y\"].phi)**2>0.8**2)\n",
    "# Mask the jets_fatjets with the jets_iso_f to get jets isolated from fatjets\n",
    "jets_fatjets = jets_fatjets[jets_iso_f]\n",
    "# Separate pairs into jets and electons, redefining the jets (but not the fatjets)\n",
    "jets, fj = ak.unzip(jets_fatjets)"
   ]
  },
  {
   "cell_type": "code",
   "execution_count": 30,
   "id": "ac5937d9",
   "metadata": {},
   "outputs": [
    {
     "data": {
      "text/plain": [
       "Text(0.5, 1.0, 'MET distribution')"
      ]
     },
     "execution_count": 30,
     "metadata": {},
     "output_type": "execute_result"
    },
    {
     "data": {
      "image/png": "[encoded data removed]",
      "text/plain": [
       "<Figure size 432x288 with 1 Axes>"
      ]
     },
     "metadata": {
      "needs_background": "light"
     },
     "output_type": "display_data"
    }
   ],
   "source": [
    "plt.hist(events.MET.pt, bins=12, range=[30,400], label=\"$E_{T}^{miss}$ [GeV]\")\n",
    "plt.xlabel(\"$E_{T}^{miss}$ [GeV]\")\n",
    "plt.ylabel(\"counts\")\n",
    "plt.title(\"MET distribution\")"
   ]
  },
  {
   "cell_type": "code",
   "execution_count": 31,
   "id": "a2f31c91",
   "metadata": {},
   "outputs": [
    {
     "data": {
      "text/plain": [
       "Text(0.5, 1.0, 'electron $p_{T}$ distribution')"
      ]
     },
     "execution_count": 31,
     "metadata": {},
     "output_type": "execute_result"
    },
    {
     "data": {
      "image/png": "[encoded data removed]",
      "text/plain": [
       "<Figure size 432x288 with 1 Axes>"
      ]
     },
     "metadata": {
      "needs_background": "light"
     },
     "output_type": "display_data"
    }
   ],
   "source": [
    "plt.hist(events.Electron[:,0].pt, bins=8, range=[35,150], label=\"$p_{T}^{e}$ [GeV]\")\n",
    "#previous line: you have to flatten the awkward array because its size is ambiguous due to variable-length arrays\n",
    "plt.xlabel(\"$p_{T}^{e}$ [GeV]\")\n",
    "plt.ylabel(\"counts\")\n",
    "plt.title(\"electron $p_{T}$ distribution\")"
   ]
  },
  {
   "cell_type": "code",
   "execution_count": 32,
   "id": "33629736",
   "metadata": {},
   "outputs": [
    {
     "data": {
      "text/plain": [
       "Text(0.5, 1.0, 'AK8 jet distribution')"
      ]
     },
     "execution_count": 32,
     "metadata": {},
     "output_type": "execute_result"
    },
    {
     "data": {
      "image/png": "[encoded data removed]",
      "text/plain": [
       "<Figure size 432x288 with 1 Axes>"
      ]
     },
     "metadata": {
      "needs_background": "light"
     },
     "output_type": "display_data"
    }
   ],
   "source": [
    "plt.hist(ak.flatten(events.FatJet.mass), bins=20, range=[30,150], label=\"$p_{T}^{e}$ [GeV]\")\n",
    "#previous line: you have to flatten the awkward array because its size is ambiguous due to variable-length arrays\n",
    "plt.xlabel(\"$m_{jet}$ [GeV]\")\n",
    "plt.ylabel(\"counts\")\n",
    "plt.title(\"AK8 jet distribution\")"
   ]
  },
  {
   "cell_type": "code",
   "execution_count": 33,
   "id": "66c50f51",
   "metadata": {},
   "outputs": [
    {
     "data": {
      "text/plain": [
       "Text(0.5, 1.0, 'VBS $m_{jj}$ distribution')"
      ]
     },
     "execution_count": 33,
     "metadata": {},
     "output_type": "execute_result"
    },
    {
     "data": {
      "image/png": "[encoded data removed]",
      "text/plain": [
       "<Figure size 432x288 with 1 Axes>"
      ]
     },
     "metadata": {
      "needs_background": "light"
     },
     "output_type": "display_data"
    }
   ],
   "source": [
    "#VBS jets (looking for the max invariant mass pair)\n",
    "# Get all combinations of jet pairs in every event\n",
    "VBSjets = ak.combinations(events.Jet, 2, fields=['i0', 'i1'])\n",
    "# Mask the dijets with the ismax to get dijets with the gratest mass\n",
    "VBS_jets = VBSjets[(VBSjets['i0']+VBSjets['i1']).mass==ak.max((VBSjets['i0']+VBSjets['i1']).mass, axis=1)]\n",
    "# Separate pairs into arrays of the leading and the trailing VBS jets in each pair.\n",
    "VBS_jet_lead, VBS_jet_trail = ak.unzip(VBS_jets)\n",
    "plt.hist(ak.flatten((VBS_jet_lead+VBS_jet_trail).mass), bins=12, range=[0,3000], label=\"$m^{jj}$ [GeV]\")\n",
    "plt.xlabel(\"$m_{jj}$ [GeV]\")\n",
    "plt.ylabel(\"counts\")\n",
    "plt.title(\"VBS $m_{jj}$ distribution\")\n",
    "#plt.legend()"
   ]
  },
  {
   "cell_type": "code",
   "execution_count": 34,
   "id": "2ab4eb56",
   "metadata": {},
   "outputs": [
    {
     "data": {
      "text/plain": [
       "Text(0.5, 1.0, '$\\\\Delta\\\\eta$ VBS jets')"
      ]
     },
     "execution_count": 34,
     "metadata": {},
     "output_type": "execute_result"
    },
    {
     "data": {
      "image/png": "[encoded data removed]",
      "text/plain": [
       "<Figure size 432x288 with 1 Axes>"
      ]
     },
     "metadata": {
      "needs_background": "light"
     },
     "output_type": "display_data"
    }
   ],
   "source": [
    "VBS_jet_lead, VBS_jet_trail = ak.unzip(VBS_jets)\n",
    "plt.hist(ak.flatten(abs(VBS_jet_lead.eta-VBS_jet_trail.eta)), bins=12, range=[2.5,8], label=\"$m^{jj}$ [GeV]\")\n",
    "plt.xlabel(\"$\\Delta\\eta$\")\n",
    "plt.ylabel(\"counts\")\n",
    "plt.title(\"$\\Delta\\eta$ VBS jets\")"
   ]
  },
  {
   "cell_type": "code",
   "execution_count": 35,
   "id": "4a272981",
   "metadata": {},
   "outputs": [
    {
     "data": {
      "text/plain": [
       "Text(0.5, 1.0, 'Leading VBS jet $p_{t}$')"
      ]
     },
     "execution_count": 35,
     "metadata": {},
     "output_type": "execute_result"
    },
    {
     "data": {
      "image/png": "[encoded data removed]",
      "text/plain": [
       "<Figure size 432x288 with 1 Axes>"
      ]
     },
     "metadata": {
      "needs_background": "light"
     },
     "output_type": "display_data"
    }
   ],
   "source": [
    "plt.hist(ak.flatten(VBS_jet_lead.pt), bins=14, range=[0,500], label=\"$p^{j}$ [GeV]\")\n",
    "plt.xlabel(\"$p_{T}$ [GeV]\")\n",
    "plt.ylabel(\"counts\")\n",
    "plt.title(\"Leading VBS jet $p_{t}$\")"
   ]
  },
  {
   "cell_type": "code",
   "execution_count": 36,
   "id": "3850ebaa",
   "metadata": {},
   "outputs": [
    {
     "data": {
      "text/plain": [
       "Text(0.5, 1.0, 'Trailing VBS jet $p_{t}$')"
      ]
     },
     "execution_count": 36,
     "metadata": {},
     "output_type": "execute_result"
    },
    {
     "data": {
      "image/png": "[encoded data removed]",
      "text/plain": [
       "<Figure size 432x288 with 1 Axes>"
      ]
     },
     "metadata": {
      "needs_background": "light"
     },
     "output_type": "display_data"
    }
   ],
   "source": [
    "plt.hist(ak.flatten(VBS_jet_trail.pt), bins=14, range=[0,200], label=\"$p^{j}$ [GeV]\")\n",
    "plt.xlabel(\"$p_{T}$ [GeV]\")\n",
    "plt.ylabel(\"counts\")\n",
    "plt.title(\"Trailing VBS jet $p_{t}$\")"
   ]
  },
  {
   "cell_type": "code",
   "execution_count": 36,
   "id": "3f6c92bf",
   "metadata": {},
   "outputs": [
    {
     "data": {
      "text/plain": [
       "<matplotlib.legend.Legend at 0x7fb05d9c9850>"
      ]
     },
     "execution_count": 36,
     "metadata": {},
     "output_type": "execute_result"
    },
    {
     "data": {
      "image/png": "[encoded data removed]",
      "text/plain": [
       "<Figure size 432x288 with 1 Axes>"
      ]
     },
     "metadata": {
      "needs_background": "light"
     },
     "output_type": "display_data"
    }
   ],
   "source": [
    "#Get the variables of N-subjectiness\n",
    "tau_1=events.FatJet.tau1\n",
    "tau_2=events.FatJet.tau2\n",
    "#Normalization factors\n",
    "norm_1 = ak.sum(ak.num(tau_1))\n",
    "norm_2 = ak.sum(ak.num(tau_2))\n",
    "\n",
    "#Plot two histograms together\n",
    "h = hist.Hist(hist.axis.StrCategory(name='channel', label='Channel', categories=['$t_{1}$', '$t_{2}$']), \n",
    "                      hist.axis.Regular(name='t', label='tau', bins=40, start= 0, stop=1))\n",
    "\n",
    "h.fill(channel='$t_{1}$', t=ak.flatten(tau_1), weight=1/norm_1)\n",
    "h.fill(channel='$t_{2}$', t=ak.flatten(tau_2), weight=1/norm_2)\n",
    "h.plot()\n",
    "plt.title(\"70 GeV < $m_{jet}$ < 115 GeV\")\n",
    "plt.xlabel(\"$t_{N}$\")\n",
    "plt.ylabel(\"relative occurrence\")\n",
    "plt.legend()"
   ]
  },
  {
   "cell_type": "code",
   "execution_count": 37,
   "id": "412d229e",
   "metadata": {},
   "outputs": [
    {
     "data": {
      "text/plain": [
       "<matplotlib.legend.Legend at 0x7fb080bddac0>"
      ]
     },
     "execution_count": 37,
     "metadata": {},
     "output_type": "execute_result"
    },
    {
     "data": {
      "image/png": "[encoded data removed]",
      "text/plain": [
       "<Figure size 432x288 with 1 Axes>"
      ]
     },
     "metadata": {
      "needs_background": "light"
     },
     "output_type": "display_data"
    }
   ],
   "source": [
    "#Take the tau2 to tau1 ratio\n",
    "tau_r=tau_2/tau_1\n",
    "#Normalization factor\n",
    "norm_r = ak.sum(ak.num(tau_r))\n",
    "#Plot the histogram\n",
    "h_r = hist.Hist(hist.axis.StrCategory(name='channel', label='Channel', categories=['signal']), \n",
    "                      hist.axis.Regular(name='t_r', label='tau', bins=40, start= 0, stop=1))\n",
    "h_r.fill(channel='signal', t_r=ak.flatten(tau_r), weight=1/norm_r)\n",
    "\n",
    "h_r.plot()\n",
    "plt.title(\"70 GeV < $m_{jet}$ < 115 GeV\")\n",
    "plt.xlabel(\"$t_{2}/t_{1}$\")\n",
    "plt.ylabel(\"relative occurrence\")\n",
    "plt.legend()"
   ]
  },
  {
   "cell_type": "code",
   "execution_count": 38,
   "id": "1c516095",
   "metadata": {},
   "outputs": [
    {
     "data": {
      "text/plain": [
       "<matplotlib.legend.Legend at 0x7fb07ef236d0>"
      ]
     },
     "execution_count": 38,
     "metadata": {},
     "output_type": "execute_result"
    },
    {
     "data": {
      "image/png": "[encoded data removed]",
      "text/plain": [
       "<Figure size 432x288 with 1 Axes>"
      ]
     },
     "metadata": {
      "needs_background": "light"
     },
     "output_type": "display_data"
    }
   ],
   "source": [
    "#Get the variables of particleNet and deepTag\n",
    "pNet=events.FatJet.particleNet_WvsQCD\n",
    "dTag=events.FatJet.deepTag_WvsQCD\n",
    "#Normalization factor\n",
    "norm_pNet = ak.sum(ak.num(pNet))\n",
    "norm_dTag = ak.sum(ak.num(dTag))\n",
    "\n",
    "#Plot two histograms together\n",
    "h = hist.Hist(hist.axis.StrCategory(name='channel', label='Channel', categories=['particleNet']), \n",
    "                      hist.axis.Regular(name='WvsQCD', label='WvsQCD', bins=40, start= 0, stop=1))\n",
    "\n",
    "h.fill(channel='particleNet', WvsQCD=ak.flatten(pNet), weight=1/norm_pNet)\n",
    "h.plot()\n",
    "plt.title(\"70 GeV < $m_{jet}$ < 115 GeV\")\n",
    "plt.xlabel(\"WvsQCD score\")\n",
    "plt.ylabel(\"relative occurrence\")\n",
    "plt.legend()"
   ]
  },
  {
   "cell_type": "code",
   "execution_count": null,
   "id": "220e94f4",
   "metadata": {},
   "outputs": [],
   "source": []
  }
 ],
 "metadata": {
  "@webio": {
   "lastCommId": null,
   "lastKernelId": null
  },
  "kernelspec": {
   "display_name": "Python 3",
   "language": "python",
   "name": "python3"
  },
  "language_info": {
   "codemirror_mode": {
    "name": "ipython",
    "version": 3
   },
   "file_extension": ".py",
   "mimetype": "text/x-python",
   "name": "python",
   "nbconvert_exporter": "python",
   "pygments_lexer": "ipython3",
   "version": "3.9.12"
  }
 },
 "nbformat": 4,
 "nbformat_minor": 5
}
