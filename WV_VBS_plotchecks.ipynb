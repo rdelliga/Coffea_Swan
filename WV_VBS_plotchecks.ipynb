{
 "cells": [
  {
   "cell_type": "code",
   "execution_count": 1,
   "id": "a0c07f0b",
   "metadata": {},
   "outputs": [],
   "source": [
    "import uproot\n",
    "import awkward as ak #The events object is an awkward array\n",
    "## Plotting.\n",
    "import matplotlib.pyplot as plt\n",
    "\n",
    "# Hists\n",
    "import hist\n",
    "from hist import Hist\n",
    "\n",
    "# NanoEvents\n",
    "from coffea.nanoevents import NanoEventsFactory, NanoAODSchema\n",
    "# Processors\n",
    "#import coffea.processor as processor\n",
    "\n",
    "#File to read\n",
    "fname='signal_files/WPHADWMLEPjj_EWK.root'\n",
    "\n",
    "#Define the events\n",
    "events = NanoEventsFactory.from_root(\n",
    "    fname,\n",
    "    schemaclass=NanoAODSchema,\n",
    ").events()"
   ]
  },
  {
   "cell_type": "code",
   "execution_count": 3,
   "id": "f17ca750",
   "metadata": {},
   "outputs": [
    {
     "data": {
      "text/plain": [
       "['ChsMET',\n",
       " 'GenPart',\n",
       " 'PuppiMET',\n",
       " 'run',\n",
       " 'L1',\n",
       " 'SV',\n",
       " 'GenIsolatedPhoton',\n",
       " 'GenVisTau',\n",
       " 'OtherPV',\n",
       " 'MET',\n",
       " 'LHEPart',\n",
       " 'btagWeight',\n",
       " 'PSWeight',\n",
       " 'Jet',\n",
       " 'DeepMETResponseTune',\n",
       " 'Photon',\n",
       " 'SubGenJetAK8',\n",
       " 'L1PreFiringWeight',\n",
       " 'GenMET',\n",
       " 'event',\n",
       " 'LHEReweightingWeight',\n",
       " 'genWeight',\n",
       " 'Generator',\n",
       " 'SubJet',\n",
       " 'CaloMET',\n",
       " 'RawMET',\n",
       " 'GenVtx',\n",
       " 'L1simulation',\n",
       " 'LowPtElectron',\n",
       " 'Tau',\n",
       " 'SoftActivityJetHT',\n",
       " 'GenJetAK8',\n",
       " 'SoftActivityJetHT2',\n",
       " 'Electron',\n",
       " 'SoftActivityJetHT5',\n",
       " 'SoftActivityJetNjets2',\n",
       " 'luminosityBlock',\n",
       " 'HLTriggerFinalPath',\n",
       " 'LHEWeight',\n",
       " 'Muon',\n",
       " 'LHEScaleWeight',\n",
       " 'genTtbarId',\n",
       " 'SoftActivityJetNjets10',\n",
       " 'fixedGridRhoFastjetCentralCalo',\n",
       " 'PV',\n",
       " 'L1Reco',\n",
       " 'CorrT1METJet',\n",
       " 'TrigObj',\n",
       " 'Flag',\n",
       " 'FsrPhoton',\n",
       " 'boostedTau',\n",
       " 'fixedGridRhoFastjetCentral',\n",
       " 'GenDressedLepton',\n",
       " 'HLTriggerFirstPath',\n",
       " 'HLT',\n",
       " 'TkMET',\n",
       " 'SoftActivityJetNjets5',\n",
       " 'LHEPdfWeight',\n",
       " 'FatJet',\n",
       " 'LHE',\n",
       " 'fixedGridRhoFastjetAll',\n",
       " 'DeepMETResolutionTune',\n",
       " 'IsoTrack',\n",
       " 'fixedGridRhoFastjetCentralNeutral',\n",
       " 'Pileup',\n",
       " 'HTXS',\n",
       " 'SoftActivityJetHT10',\n",
       " 'RawPuppiMET',\n",
       " 'SoftActivityJet',\n",
       " 'fixedGridRhoFastjetCentralChargedPileUp',\n",
       " 'GenJet']"
      ]
     },
     "execution_count": 3,
     "metadata": {},
     "output_type": "execute_result"
    }
   ],
   "source": [
    "#List the branches of the root file \n",
    "ak.fields(events)"
   ]
  },
  {
   "cell_type": "code",
   "execution_count": 4,
   "id": "6ba1084d",
   "metadata": {},
   "outputs": [
    {
     "data": {
      "text/plain": [
       "['area',\n",
       " 'btagCSVV2',\n",
       " 'btagDDBvLV2',\n",
       " 'btagDDCvBV2',\n",
       " 'btagDDCvLV2',\n",
       " 'btagDeepB',\n",
       " 'btagHbb',\n",
       " 'deepTagMD_H4qvsQCD',\n",
       " 'deepTagMD_HbbvsQCD',\n",
       " 'deepTagMD_TvsQCD',\n",
       " 'deepTagMD_WvsQCD',\n",
       " 'deepTagMD_ZHbbvsQCD',\n",
       " 'deepTagMD_ZHccvsQCD',\n",
       " 'deepTagMD_ZbbvsQCD',\n",
       " 'deepTagMD_ZvsQCD',\n",
       " 'deepTagMD_bbvsLight',\n",
       " 'deepTagMD_ccvsLight',\n",
       " 'deepTag_H',\n",
       " 'deepTag_QCD',\n",
       " 'deepTag_QCDothers',\n",
       " 'deepTag_TvsQCD',\n",
       " 'deepTag_WvsQCD',\n",
       " 'deepTag_ZvsQCD',\n",
       " 'eta',\n",
       " 'mass',\n",
       " 'msoftdrop',\n",
       " 'n2b1',\n",
       " 'n3b1',\n",
       " 'particleNetMD_QCD',\n",
       " 'particleNetMD_Xbb',\n",
       " 'particleNetMD_Xcc',\n",
       " 'particleNetMD_Xqq',\n",
       " 'particleNet_H4qvsQCD',\n",
       " 'particleNet_HbbvsQCD',\n",
       " 'particleNet_HccvsQCD',\n",
       " 'particleNet_QCD',\n",
       " 'particleNet_TvsQCD',\n",
       " 'particleNet_WvsQCD',\n",
       " 'particleNet_ZvsQCD',\n",
       " 'particleNet_mass',\n",
       " 'phi',\n",
       " 'pt',\n",
       " 'rawFactor',\n",
       " 'tau1',\n",
       " 'tau2',\n",
       " 'tau3',\n",
       " 'tau4',\n",
       " 'lsf3',\n",
       " 'jetId',\n",
       " 'subJetIdx1',\n",
       " 'subJetIdx2',\n",
       " 'electronIdx3SJ',\n",
       " 'muonIdx3SJ',\n",
       " 'nConstituents',\n",
       " 'genJetAK8Idx',\n",
       " 'hadronFlavour',\n",
       " 'nBHadrons',\n",
       " 'nCHadrons',\n",
       " 'genJetAK8IdxG',\n",
       " 'subJetIdx1G',\n",
       " 'subJetIdx2G',\n",
       " 'subJetIdxG']"
      ]
     },
     "execution_count": 4,
     "metadata": {},
     "output_type": "execute_result"
    }
   ],
   "source": [
    "#List the metods of the branches\n",
    "ak.fields(events.FatJet)"
   ]
  },
  {
   "cell_type": "code",
   "execution_count": 5,
   "id": "dd5e96a1",
   "metadata": {},
   "outputs": [
    {
     "name": "stdout",
     "output_type": "stream",
     "text": [
      "[[0.528, 0.399, 0.231, 0.932, 0.978, 0.159, ... 0.79, 0.296, 0.45, 0.55, 0.795, -10]]\n",
      "[[0.209, 0.0639, -1, 0.835, 0.831, 0.0212, ... 0.319, 0.0765, 0.0564, -1, 0.284, -1]]\n",
      "[[0.642, 0.696, -1, 0.164, 0.168, 0.813, -1, ... 0.659, 0.71, 0.74, -1, 0.359, -1]]\n",
      "[[0.473, 0.156, -1, 0.989, 0.99, 0.0942, -1, ... 0.905, 0.203, 0.17, -1, 0.222, -1]]\n",
      "[[0.218, 0.0442, 0.0678, 0.834, 0.989, ... 0.00457, 0.0177, 0.076, 0.131, 0.0626]]\n",
      "[[0.54, 0.754, 0.581, 0.163, 0.0103, 0.828, ... 0.94, 0.754, 0.566, 0.468, 0.568]]\n",
      "[[0.326, 0.141, 0.101, 0.981, 0.969, ... 0.0719, 0.0556, 0.107, 0.132, 0.088]]\n",
      "[[0.838, 0.393, 0.767, 0.77, 0.789, 0.651, ... 0.405, 0.215, 0.738, 0.773, 0.719]]\n"
     ]
    }
   ],
   "source": [
    "print(events.Jet.btagCSVV2)\n",
    "print(events.Jet.btagDeepB)\n",
    "print(events.Jet.btagDeepCvB)\n",
    "print(events.Jet.btagDeepCvL)\n",
    "print(events.Jet.btagDeepFlavB)\n",
    "print(events.Jet.btagDeepFlavCvB)\n",
    "print(events.Jet.btagDeepFlavCvL)\n",
    "print(events.Jet.btagDeepFlavQG)"
   ]
  },
  {
   "cell_type": "code",
   "execution_count": 6,
   "id": "1f819850",
   "metadata": {},
   "outputs": [
    {
     "data": {
      "text/plain": [
       "Text(0.5, 1.0, 'MET distribution')"
      ]
     },
     "execution_count": 6,
     "metadata": {},
     "output_type": "execute_result"
    },
    {
     "data": {
      "image/png": "[encoded data removed]",
      "text/plain": [
       "<Figure size 432x288 with 1 Axes>"
      ]
     },
     "metadata": {
      "needs_background": "light"
     },
     "output_type": "display_data"
    }
   ],
   "source": [
    "#Take the MET and plot its histogram\n",
    "MET = events.MET.pt\n",
    "plt.hist(MET, bins=20, range=[0,500], label=\"$E_{T}^{miss}$ [GeV]\")\n",
    "plt.xlabel(\"$E_{T}^{miss}$ [GeV]\")\n",
    "plt.ylabel(\"counts\")\n",
    "plt.title(\"MET distribution\")\n",
    "#plt.legend()\n",
    "\n",
    "#Make histogram\n",
    "#MET_hist=hist.Hist.new.Reg(20, 0, 500, name=\"MET\", label=\"$E_{T}^{miss}$ [GeV]\")\n",
    "#Fill and plot histogram\n",
    "#MET_hist.Double().fill(MET).plot1d()"
   ]
  },
  {
   "cell_type": "code",
   "execution_count": 7,
   "id": "c27e77bc",
   "metadata": {},
   "outputs": [
    {
     "data": {
      "text/plain": [
       "Text(0.5, 1.0, 'muon $p_{T}$ distribution')"
      ]
     },
     "execution_count": 7,
     "metadata": {},
     "output_type": "execute_result"
    },
    {
     "data": {
      "image/png": "[encoded data removed]",
      "text/plain": [
       "<Figure size 432x288 with 1 Axes>"
      ]
     },
     "metadata": {
      "needs_background": "light"
     },
     "output_type": "display_data"
    }
   ],
   "source": [
    "#Take the muon pt and plot its histogram\n",
    "muonpt = events.Muon.pt\n",
    "plt.hist(ak.flatten(muonpt), bins=20, range=[0,100], label=\"$p_{T}^{\\mu}$ [GeV]\")\n",
    "#previous line: you have to flatten the awkward array because its size is ambiguous due to variable-length arrays \n",
    "plt.xlabel(\"$p_{T}^{\\mu}$ [GeV]\")\n",
    "plt.ylabel(\"counts\")\n",
    "plt.title(\"muon $p_{T}$ distribution\")\n",
    "#plt.legend()"
   ]
  },
  {
   "cell_type": "code",
   "execution_count": 8,
   "id": "2f201bbb",
   "metadata": {},
   "outputs": [
    {
     "data": {
      "text/plain": [
       "Text(0.5, 1.0, 'electron $p_{T}$ distribution')"
      ]
     },
     "execution_count": 8,
     "metadata": {},
     "output_type": "execute_result"
    },
    {
     "data": {
      "image/png": "[encoded data removed]",
      "text/plain": [
       "<Figure size 432x288 with 1 Axes>"
      ]
     },
     "metadata": {
      "needs_background": "light"
     },
     "output_type": "display_data"
    }
   ],
   "source": [
    "#Take the electron pt and plot its histogram\n",
    "ept = events.Electron.pt\n",
    "plt.hist(ak.flatten(ept), bins=20, range=[-5,55], label=\"$p_{T}^{e}$ [GeV]\")\n",
    "#previous line: you have to flatten the awkward array because its size is ambiguous due to variable-length arrays\n",
    "plt.xlabel(\"$p_{T}^{e}$ [GeV]\")\n",
    "plt.ylabel(\"counts\")\n",
    "plt.title(\"electron $p_{T}$ distribution\")\n",
    "#plt.legend()"
   ]
  },
  {
   "cell_type": "code",
   "execution_count": 9,
   "id": "346c02cb",
   "metadata": {},
   "outputs": [
    {
     "data": {
      "text/plain": [
       "Text(0.5, 1.0, 'jet $p_{T}$ distribution')"
      ]
     },
     "execution_count": 9,
     "metadata": {},
     "output_type": "execute_result"
    },
    {
     "data": {
      "image/png": "[encoded data removed]",
      "text/plain": [
       "<Figure size 432x288 with 1 Axes>"
      ]
     },
     "metadata": {
      "needs_background": "light"
     },
     "output_type": "display_data"
    }
   ],
   "source": [
    "#Take the jet pt and plot its histogram\n",
    "jpt = events.Jet.pt\n",
    "plt.hist(ak.flatten(jpt), bins=50, range=[0,150], label=\"$p_{T}^{jet}$ [GeV]\")\n",
    "#previous line: you have to flatten the awkward array because its size is ambiguous due to variable-length arrays\n",
    "plt.xlabel(\"$p_{T}^{jet}$ [GeV]\")\n",
    "plt.ylabel(\"counts\")\n",
    "plt.title(\"jet $p_{T}$ distribution\")\n",
    "#plt.legend()"
   ]
  },
  {
   "cell_type": "code",
   "execution_count": 10,
   "id": "2db85a95",
   "metadata": {},
   "outputs": [
    {
     "data": {
      "text/plain": [
       "Text(0.5, 1.0, 'jet pseudorapidity distribution')"
      ]
     },
     "execution_count": 10,
     "metadata": {},
     "output_type": "execute_result"
    },
    {
     "data": {
      "image/png": "[encoded data removed]",
      "text/plain": [
       "<Figure size 432x288 with 1 Axes>"
      ]
     },
     "metadata": {
      "needs_background": "light"
     },
     "output_type": "display_data"
    }
   ],
   "source": [
    "#Take the jet pseudorapidity and plot its histogram\n",
    "jeta = events.Jet.eta\n",
    "plt.hist(ak.flatten(jeta), bins=20, range=[-5,5], label=\"$\\eta^{j}$ [GeV]\")\n",
    "#previous line: you have to flatten the awkward array because its size is ambiguous due to variable-length arrays\n",
    "plt.xlabel(\"$\\eta^{jet}$\")\n",
    "plt.ylabel(\"counts\")\n",
    "plt.title(\"jet pseudorapidity distribution\")\n",
    "#plt.legend()"
   ]
  },
  {
   "cell_type": "code",
   "execution_count": 11,
   "id": "cf6256ba",
   "metadata": {},
   "outputs": [
    {
     "data": {
      "text/plain": [
       "Text(0.5, 1.0, 'jet mass distribution')"
      ]
     },
     "execution_count": 11,
     "metadata": {},
     "output_type": "execute_result"
    },
    {
     "data": {
      "image/png": "[encoded data removed]",
      "text/plain": [
       "<Figure size 432x288 with 1 Axes>"
      ]
     },
     "metadata": {
      "needs_background": "light"
     },
     "output_type": "display_data"
    }
   ],
   "source": [
    "#Take the jet mass and plot its histogram\n",
    "jm = events.Jet.mass\n",
    "plt.hist(ak.flatten(jm), bins=40, range=[0,50], label=\"$m^{j}$ [GeV]\")\n",
    "#previous line: you have to flatten the awkward array because its size is ambiguous due to variable-length arrays\n",
    "plt.xlabel(\"$m^{jet}$ [GeV]\")\n",
    "plt.ylabel(\"counts\")\n",
    "plt.title(\"jet mass distribution\")\n",
    "#plt.legend()"
   ]
  },
  {
   "cell_type": "code",
   "execution_count": 12,
   "id": "6193c2c0",
   "metadata": {},
   "outputs": [
    {
     "data": {
      "text/plain": [
       "Text(0.5, 1.0, 'genjet $p_{T}$ distribution')"
      ]
     },
     "execution_count": 12,
     "metadata": {},
     "output_type": "execute_result"
    },
    {
     "data": {
      "image/png": "[encoded data removed]",
      "text/plain": [
       "<Figure size 432x288 with 1 Axes>"
      ]
     },
     "metadata": {
      "needs_background": "light"
     },
     "output_type": "display_data"
    }
   ],
   "source": [
    "#Take the genjet pt and plot its histogram\n",
    "gjpt = events.GenJet.pt\n",
    "plt.hist(ak.flatten(gjpt), bins=50, range=[0,150], label=\"$p_{T}^{jet}$ [GeV]\")\n",
    "#previous line: you have to flatten the awkward array because its size is ambiguous due to variable-length arrays\n",
    "plt.xlabel(\"$p_{T}^{jet}$ [GeV]\")\n",
    "plt.ylabel(\"counts\")\n",
    "plt.title(\"genjet $p_{T}$ distribution\")\n",
    "#plt.legend()"
   ]
  },
  {
   "cell_type": "code",
   "execution_count": 13,
   "id": "0aff9298",
   "metadata": {},
   "outputs": [
    {
     "data": {
      "text/plain": [
       "Text(0.5, 1.0, 'genjet pseudorapidity distribution')"
      ]
     },
     "execution_count": 13,
     "metadata": {},
     "output_type": "execute_result"
    },
    {
     "data": {
      "image/png": "[encoded data removed]",
      "text/plain": [
       "<Figure size 432x288 with 1 Axes>"
      ]
     },
     "metadata": {
      "needs_background": "light"
     },
     "output_type": "display_data"
    }
   ],
   "source": [
    "#Take the genjet pseudorapidity and plot its histogram\n",
    "gjeta = events.GenJet.eta\n",
    "plt.hist(ak.flatten(gjeta), bins=20, range=[-5,5], label=\"$\\eta^{j}$ [GeV]\")\n",
    "#previous line: you have to flatten the awkward array because its size is ambiguous due to variable-length arrays\n",
    "plt.xlabel(\"$\\eta^{jet}$\")\n",
    "plt.ylabel(\"counts\")\n",
    "plt.title(\"genjet pseudorapidity distribution\")\n",
    "#plt.legend()"
   ]
  },
  {
   "cell_type": "code",
   "execution_count": 14,
   "id": "35fa28f9",
   "metadata": {},
   "outputs": [
    {
     "data": {
      "text/plain": [
       "Text(0.5, 1.0, 'genjet mass distribution')"
      ]
     },
     "execution_count": 14,
     "metadata": {},
     "output_type": "execute_result"
    },
    {
     "data": {
      "image/png": "[encoded data removed]",
      "text/plain": [
       "<Figure size 432x288 with 1 Axes>"
      ]
     },
     "metadata": {
      "needs_background": "light"
     },
     "output_type": "display_data"
    }
   ],
   "source": [
    "#Take the genjet mass and plot its histogram\n",
    "gjm = events.GenJet.mass\n",
    "plt.hist(ak.flatten(gjm), bins=40, range=[0,50], label=\"$m^{j}$ [GeV]\")\n",
    "#previous line: you have to flatten the awkward array because its size is ambiguous due to variable-length arrays\n",
    "plt.xlabel(\"$m^{jet}$ [GeV]\")\n",
    "plt.ylabel(\"counts\")\n",
    "plt.title(\"genjet mass distribution\")\n",
    "#plt.legend()"
   ]
  },
  {
   "cell_type": "code",
   "execution_count": 15,
   "id": "d8e3dd33",
   "metadata": {},
   "outputs": [
    {
     "data": {
      "text/plain": [
       "Text(0.5, 1.0, 'GenJetAK8 mass distribution')"
      ]
     },
     "execution_count": 15,
     "metadata": {},
     "output_type": "execute_result"
    },
    {
     "data": {
      "image/png": "[encoded data removed]",
      "text/plain": [
       "<Figure size 432x288 with 1 Axes>"
      ]
     },
     "metadata": {
      "needs_background": "light"
     },
     "output_type": "display_data"
    }
   ],
   "source": [
    "#Take the GenJetAK8 mass and plot its histogram\n",
    "gjm = events.GenJetAK8.mass\n",
    "plt.hist(ak.flatten(gjm), bins=40, range=[0,150], label=\"$m^{j}$ [GeV]\")\n",
    "#previous line: you have to flatten the awkward array because its size is ambiguous due to variable-length arrays\n",
    "plt.xlabel(\"$m^{jet}$ [GeV]\")\n",
    "plt.ylabel(\"counts\")\n",
    "plt.title(\"GenJetAK8 mass distribution\")\n",
    "#plt.legend()"
   ]
  },
  {
   "cell_type": "code",
   "execution_count": 16,
   "id": "ccf41809",
   "metadata": {},
   "outputs": [
    {
     "data": {
      "text/plain": [
       "Text(0.5, 1.0, 'fatjet mass distribution')"
      ]
     },
     "execution_count": 16,
     "metadata": {},
     "output_type": "execute_result"
    },
    {
     "data": {
      "image/png": "[encoded data removed]",
      "text/plain": [
       "<Figure size 432x288 with 1 Axes>"
      ]
     },
     "metadata": {
      "needs_background": "light"
     },
     "output_type": "display_data"
    }
   ],
   "source": [
    "#Take the fatjet mass and plot its histogram\n",
    "fjm = events.FatJet.msoftdrop\n",
    "plt.hist(ak.flatten(fjm), bins=40, range=[0,150], label=\"$m^{j}$ [GeV]\")\n",
    "#previous line: you have to flatten the awkward array because its size is ambiguous due to variable-length arrays\n",
    "plt.xlabel(\"$m^{jet}$ [GeV]\")\n",
    "plt.ylabel(\"counts\")\n",
    "plt.title(\"fatjet mass distribution\")\n",
    "#plt.legend()"
   ]
  },
  {
   "cell_type": "code",
   "execution_count": 17,
   "id": "885aea21",
   "metadata": {},
   "outputs": [
    {
     "data": {
      "text/plain": [
       "Text(0.5, 1.0, 'VBS dijet pseudorapidity distribution')"
      ]
     },
     "execution_count": 17,
     "metadata": {},
     "output_type": "execute_result"
    },
    {
     "data": {
      "image/png": "[encoded data removed]",
      "text/plain": [
       "<Figure size 432x288 with 1 Axes>"
      ]
     },
     "metadata": {
      "needs_background": "light"
     },
     "output_type": "display_data"
    }
   ],
   "source": [
    "#Take all the jets \n",
    "jets = events.Jet\n",
    "# Get all combinations of jet pairs in every event\n",
    "dijets = ak.combinations(jets, 2, fields=['i0', 'i1'])\n",
    "#print(dijets)\n",
    "#dijets.type\n",
    "\n",
    "# Check that jet pairs have the greatest mass\n",
    "ismax=(dijets['i0']+dijets['i1']).mass==ak.max((dijets['i0']+dijets['i1']).mass, axis=1)\n",
    "#previous line: returns a Boolean array with True where the condition is met, and false otherwise\n",
    "\n",
    "# Mask the dijets with the ismax to get dijets with the gratest mass\n",
    "good_dijets = dijets[ismax]\n",
    "\n",
    "# Separate pairs into arrays of the first and the second jet in each pair.\n",
    "first_jet, second_jet = ak.unzip(good_dijets)\n",
    "\n",
    "# Compute difference in pseudorapidity\n",
    "delta_eta = first_jet.eta - second_jet.eta\n",
    "\n",
    "# Plot\n",
    "plt.hist(ak.flatten(abs(delta_eta)), bins=20, range=[0,5], label=\"$\\delta\\eta^{jj}$\")\n",
    "plt.xlabel(\"$\\eta^{jj}$\")\n",
    "plt.ylabel(\"counts\")\n",
    "plt.title(\"VBS dijet pseudorapidity distribution\")\n",
    "#plt.hist(ak.flatten((first_jet+second_jet).mass), bins=40, range=[0,5000], label=\"$m^{jj}$ [GeV]\")\n",
    "#plt.xlabel(\"$m^{jj}$ [GeV]\")\n",
    "#plt.ylabel(\"counts\")\n",
    "#plt.title(\"VBS dijet mass distribution\")\n",
    "#plt.legend()"
   ]
  },
  {
   "cell_type": "code",
   "execution_count": 18,
   "id": "14d057aa",
   "metadata": {},
   "outputs": [
    {
     "data": {
      "text/plain": [
       "<matplotlib.legend.Legend at 0x7effae42e640>"
      ]
     },
     "execution_count": 18,
     "metadata": {},
     "output_type": "execute_result"
    },
    {
     "data": {
      "image/png": "[encoded data removed]",
      "text/plain": [
       "<Figure size 432x288 with 1 Axes>"
      ]
     },
     "metadata": {
      "needs_background": "light"
     },
     "output_type": "display_data"
    }
   ],
   "source": [
    "#Take the fatjets\n",
    "fatjets = events.FatJet\n",
    "# Get only fatjets with mass between 65 and 95\n",
    "limits = ((fatjets.mass>65) & (fatjets.mass<95))\n",
    "#Get the variables of N-subjectiness\n",
    "good_fatjets=fatjets[limits]\n",
    "tau_1=good_fatjets.tau1\n",
    "tau_2=good_fatjets.tau2\n",
    "#Normalization factors\n",
    "norm_1 = ak.sum(ak.num(tau_1))\n",
    "norm_2 = ak.sum(ak.num(tau_2))\n",
    "\n",
    "#Plot two histograms together\n",
    "h = hist.Hist(hist.axis.StrCategory(name='channel', label='Channel', categories=['$t_{1}$', '$t_{2}$']), \n",
    "                      hist.axis.Regular(name='t', label='tau', bins=40, start= 0, stop=1))\n",
    "\n",
    "h.fill(channel='$t_{1}$', t=ak.flatten(tau_1), weight=1/norm_1)\n",
    "h.fill(channel='$t_{2}$', t=ak.flatten(tau_2), weight=1/norm_2)\n",
    "h.plot()\n",
    "plt.title(\"65 GeV < $m_{jet}$ < 95 GeV\")\n",
    "plt.xlabel(\"$t_{N}$\")\n",
    "plt.ylabel(\"relative occurrence\")\n",
    "plt.legend()"
   ]
  },
  {
   "cell_type": "code",
   "execution_count": 19,
   "id": "3d7b46fa",
   "metadata": {},
   "outputs": [
    {
     "data": {
      "text/plain": [
       "<matplotlib.legend.Legend at 0x7f01daeb0eb0>"
      ]
     },
     "execution_count": 19,
     "metadata": {},
     "output_type": "execute_result"
    },
    {
     "data": {
      "image/png": "[encoded data removed]",
      "text/plain": [
       "<Figure size 432x288 with 1 Axes>"
      ]
     },
     "metadata": {
      "needs_background": "light"
     },
     "output_type": "display_data"
    }
   ],
   "source": [
    "#Take the tau2 to tau1 ratio\n",
    "tau_r=tau_2/tau_1\n",
    "#Normalization factor\n",
    "norm_r = ak.sum(ak.num(tau_r))\n",
    "#Plot the histogram\n",
    "h_r = hist.Hist(hist.axis.StrCategory(name='channel', label='Channel', categories=['signal']), \n",
    "                      hist.axis.Regular(name='t_r', label='tau', bins=40, start= 0, stop=1))\n",
    "h_r.fill(channel='signal', t_r=ak.flatten(tau_r), weight=1/norm_r)\n",
    "\n",
    "h_r.plot()\n",
    "plt.title(\"65 GeV < $m_{jet}$ < 95 GeV\")\n",
    "plt.xlabel(\"$t_{2}/t_{1}$\")\n",
    "plt.ylabel(\"relative occurrence\")\n",
    "plt.legend()"
   ]
  },
  {
   "cell_type": "code",
   "execution_count": 20,
   "id": "f2ec7dd9",
   "metadata": {},
   "outputs": [
    {
     "data": {
      "text/plain": [
       "<matplotlib.legend.Legend at 0x7f01d80d0430>"
      ]
     },
     "execution_count": 20,
     "metadata": {},
     "output_type": "execute_result"
    },
    {
     "data": {
      "image/png": "[encoded data removed]",
      "text/plain": [
       "<Figure size 432x288 with 1 Axes>"
      ]
     },
     "metadata": {
      "needs_background": "light"
     },
     "output_type": "display_data"
    }
   ],
   "source": [
    "#Take the fatjets\n",
    "fatjets = events.FatJet\n",
    "# Get only fatjets with mass between 65 and 95\n",
    "limits = ((fatjets.mass>65) & (fatjets.mass<95))\n",
    "#Get the variables of particleNet and deepTag\n",
    "good_fatjets=fatjets[limits]\n",
    "pNet=good_fatjets.particleNet_WvsQCD\n",
    "dTag=good_fatjets.deepTag_WvsQCD\n",
    "#Normalization factor\n",
    "norm_pNet = ak.sum(ak.num(pNet))\n",
    "norm_dTag = ak.sum(ak.num(dTag))\n",
    "\n",
    "#Plot two histograms together\n",
    "h = hist.Hist(hist.axis.StrCategory(name='channel', label='Channel', categories=['particleNet', 'deepTag']), \n",
    "                      hist.axis.Regular(name='WvsQCD', label='WvsQCD', bins=40, start= 0, stop=1))\n",
    "\n",
    "h.fill(channel='particleNet', WvsQCD=ak.flatten(pNet), weight=1/norm_pNet)\n",
    "h.fill(channel='deepTag', WvsQCD=ak.flatten(dTag), weight=1/norm_dTag)\n",
    "h.plot()\n",
    "plt.title(\"65 GeV < $m_{jet}$ < 95 GeV\")\n",
    "plt.xlabel(\"WvsQCD score\")\n",
    "plt.ylabel(\"relative occurrence\")\n",
    "plt.legend()"
   ]
  },
  {
   "cell_type": "code",
   "execution_count": null,
   "id": "796a51fb",
   "metadata": {},
   "outputs": [],
   "source": []
  }
 ],
 "metadata": {
  "kernelspec": {
   "display_name": "Python 3",
   "language": "python",
   "name": "python3"
  },
  "language_info": {
   "codemirror_mode": {
    "name": "ipython",
    "version": 3
   },
   "file_extension": ".py",
   "mimetype": "text/x-python",
   "name": "python",
   "nbconvert_exporter": "python",
   "pygments_lexer": "ipython3",
   "version": "3.9.12"
  }
 },
 "nbformat": 4,
 "nbformat_minor": 5
}
